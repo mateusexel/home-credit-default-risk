{
 "cells": [
  {
   "cell_type": "code",
   "execution_count": 22,
   "id": "committed-combining",
   "metadata": {},
   "outputs": [],
   "source": [
    "import numpy as np\n",
    "import matplotlib.pyplot as plt  \n",
    "import pandas as pd  \n",
    "from sklearn.linear_model import LinearRegression\n",
    "from sklearn import preprocessing\n",
    "from sklearn import metrics\n",
    "df = pd.read_csv('./data/application_train.csv')[['SK_ID_CURR','TARGET']].merge(pd.read_csv('./treated_data/installments_payments.csv').merge(pd.read_csv('./treated_data/credit_card_balance.csv')), how='left')"
   ]
  },
  {
   "cell_type": "code",
   "execution_count": 2,
   "id": "occupied-vegetarian",
   "metadata": {},
   "outputs": [],
   "source": [
    "# application = pd.read_csv('./data/application_train.csv')\n",
    "# install = pd.read_csv('./treated_data/installments_payments.csv')\n",
    "# credit = pd.read_csv('./treated_data/credit_card_balance.csv')"
   ]
  },
  {
   "cell_type": "code",
   "execution_count": 23,
   "id": "fourth-liver",
   "metadata": {},
   "outputs": [],
   "source": [
    "df = df.dropna()\n",
    "df = df.reset_index()"
   ]
  },
  {
   "cell_type": "code",
   "execution_count": 24,
   "id": "overhead-reference",
   "metadata": {},
   "outputs": [
    {
     "data": {
      "text/html": [
       "<div>\n",
       "<style scoped>\n",
       "    .dataframe tbody tr th:only-of-type {\n",
       "        vertical-align: middle;\n",
       "    }\n",
       "\n",
       "    .dataframe tbody tr th {\n",
       "        vertical-align: top;\n",
       "    }\n",
       "\n",
       "    .dataframe thead th {\n",
       "        text-align: right;\n",
       "    }\n",
       "</style>\n",
       "<table border=\"1\" class=\"dataframe\">\n",
       "  <thead>\n",
       "    <tr style=\"text-align: right;\">\n",
       "      <th></th>\n",
       "      <th>index</th>\n",
       "      <th>SK_ID_CURR</th>\n",
       "      <th>TARGET</th>\n",
       "      <th>DAYS_DELAYED_FARED_OF</th>\n",
       "      <th>DEFAULT_FARED_OF</th>\n",
       "      <th>SK_DPD_FARED_OF</th>\n",
       "      <th>PROPORTION_CREDIT_OVER_LIMIT_FARED_OF</th>\n",
       "    </tr>\n",
       "  </thead>\n",
       "  <tbody>\n",
       "    <tr>\n",
       "      <th>0</th>\n",
       "      <td>3</td>\n",
       "      <td>100006</td>\n",
       "      <td>0</td>\n",
       "      <td>387.0</td>\n",
       "      <td>0.000</td>\n",
       "      <td>0.000000</td>\n",
       "      <td>0.000000</td>\n",
       "    </tr>\n",
       "    <tr>\n",
       "      <th>1</th>\n",
       "      <td>8</td>\n",
       "      <td>100011</td>\n",
       "      <td>0</td>\n",
       "      <td>-3138.0</td>\n",
       "      <td>-646757.775</td>\n",
       "      <td>0.000000</td>\n",
       "      <td>0.000000</td>\n",
       "    </tr>\n",
       "    <tr>\n",
       "      <th>2</th>\n",
       "      <td>17</td>\n",
       "      <td>100021</td>\n",
       "      <td>0</td>\n",
       "      <td>321.0</td>\n",
       "      <td>0.000</td>\n",
       "      <td>0.000000</td>\n",
       "      <td>0.000000</td>\n",
       "    </tr>\n",
       "    <tr>\n",
       "      <th>3</th>\n",
       "      <td>19</td>\n",
       "      <td>100023</td>\n",
       "      <td>0</td>\n",
       "      <td>1502.0</td>\n",
       "      <td>0.000</td>\n",
       "      <td>0.000000</td>\n",
       "      <td>0.000000</td>\n",
       "    </tr>\n",
       "    <tr>\n",
       "      <th>4</th>\n",
       "      <td>31</td>\n",
       "      <td>100036</td>\n",
       "      <td>0</td>\n",
       "      <td>222.0</td>\n",
       "      <td>0.000</td>\n",
       "      <td>0.000000</td>\n",
       "      <td>0.000000</td>\n",
       "    </tr>\n",
       "    <tr>\n",
       "      <th>...</th>\n",
       "      <td>...</td>\n",
       "      <td>...</td>\n",
       "      <td>...</td>\n",
       "      <td>...</td>\n",
       "      <td>...</td>\n",
       "      <td>...</td>\n",
       "      <td>...</td>\n",
       "    </tr>\n",
       "    <tr>\n",
       "      <th>85805</th>\n",
       "      <td>307498</td>\n",
       "      <td>456242</td>\n",
       "      <td>0</td>\n",
       "      <td>736.0</td>\n",
       "      <td>0.000</td>\n",
       "      <td>0.000000</td>\n",
       "      <td>0.154627</td>\n",
       "    </tr>\n",
       "    <tr>\n",
       "      <th>85806</th>\n",
       "      <td>307500</td>\n",
       "      <td>456244</td>\n",
       "      <td>0</td>\n",
       "      <td>2203.0</td>\n",
       "      <td>-871732.710</td>\n",
       "      <td>0.000000</td>\n",
       "      <td>0.005875</td>\n",
       "    </tr>\n",
       "    <tr>\n",
       "      <th>85807</th>\n",
       "      <td>307502</td>\n",
       "      <td>456246</td>\n",
       "      <td>0</td>\n",
       "      <td>380.0</td>\n",
       "      <td>0.000</td>\n",
       "      <td>0.000000</td>\n",
       "      <td>0.133343</td>\n",
       "    </tr>\n",
       "    <tr>\n",
       "      <th>85808</th>\n",
       "      <td>307503</td>\n",
       "      <td>456247</td>\n",
       "      <td>0</td>\n",
       "      <td>2301.0</td>\n",
       "      <td>0.000</td>\n",
       "      <td>0.035032</td>\n",
       "      <td>0.000098</td>\n",
       "    </tr>\n",
       "    <tr>\n",
       "      <th>85809</th>\n",
       "      <td>307504</td>\n",
       "      <td>456248</td>\n",
       "      <td>0</td>\n",
       "      <td>146.0</td>\n",
       "      <td>-202016.160</td>\n",
       "      <td>0.000000</td>\n",
       "      <td>0.000000</td>\n",
       "    </tr>\n",
       "  </tbody>\n",
       "</table>\n",
       "<p>85810 rows × 7 columns</p>\n",
       "</div>"
      ],
      "text/plain": [
       "        index  SK_ID_CURR  TARGET  DAYS_DELAYED_FARED_OF  DEFAULT_FARED_OF  \\\n",
       "0           3      100006       0                  387.0             0.000   \n",
       "1           8      100011       0                -3138.0       -646757.775   \n",
       "2          17      100021       0                  321.0             0.000   \n",
       "3          19      100023       0                 1502.0             0.000   \n",
       "4          31      100036       0                  222.0             0.000   \n",
       "...       ...         ...     ...                    ...               ...   \n",
       "85805  307498      456242       0                  736.0             0.000   \n",
       "85806  307500      456244       0                 2203.0       -871732.710   \n",
       "85807  307502      456246       0                  380.0             0.000   \n",
       "85808  307503      456247       0                 2301.0             0.000   \n",
       "85809  307504      456248       0                  146.0       -202016.160   \n",
       "\n",
       "       SK_DPD_FARED_OF  PROPORTION_CREDIT_OVER_LIMIT_FARED_OF  \n",
       "0             0.000000                               0.000000  \n",
       "1             0.000000                               0.000000  \n",
       "2             0.000000                               0.000000  \n",
       "3             0.000000                               0.000000  \n",
       "4             0.000000                               0.000000  \n",
       "...                ...                                    ...  \n",
       "85805         0.000000                               0.154627  \n",
       "85806         0.000000                               0.005875  \n",
       "85807         0.000000                               0.133343  \n",
       "85808         0.035032                               0.000098  \n",
       "85809         0.000000                               0.000000  \n",
       "\n",
       "[85810 rows x 7 columns]"
      ]
     },
     "execution_count": 24,
     "metadata": {},
     "output_type": "execute_result"
    }
   ],
   "source": [
    "df"
   ]
  },
  {
   "cell_type": "code",
   "execution_count": 50,
   "id": "innovative-royal",
   "metadata": {},
   "outputs": [
    {
     "data": {
      "text/plain": [
       "0         387.0\n",
       "1       -3138.0\n",
       "2         321.0\n",
       "3        1502.0\n",
       "4         222.0\n",
       "          ...  \n",
       "85805     736.0\n",
       "85806    2203.0\n",
       "85807     380.0\n",
       "85808    2301.0\n",
       "85809     146.0\n",
       "Name: DAYS_DELAYED_FARED_OF, Length: 85810, dtype: float64"
      ]
     },
     "execution_count": 50,
     "metadata": {},
     "output_type": "execute_result"
    }
   ],
   "source": [
    "df.iloc[:,3]"
   ]
  },
  {
   "cell_type": "code",
   "execution_count": 51,
   "id": "ethical-audit",
   "metadata": {},
   "outputs": [],
   "source": [
    "x = df.iloc[:,3:].values\n",
    "y = df.iloc[:,2]"
   ]
  },
  {
   "cell_type": "code",
   "execution_count": 33,
   "id": "champion-abraham",
   "metadata": {},
   "outputs": [
    {
     "data": {
      "text/plain": [
       "index                                    3.075040e+05\n",
       "SK_ID_CURR                               4.562480e+05\n",
       "TARGET                                   1.000000e+00\n",
       "DAYS_DELAYED_FARED_OF                    3.237300e+04\n",
       "DEFAULT_FARED_OF                         7.754768e+06\n",
       "SK_DPD_FARED_OF                          1.087712e+04\n",
       "PROPORTION_CREDIT_OVER_LIMIT_FARED_OF    7.726346e+00\n",
       "dtype: float64"
      ]
     },
     "execution_count": 33,
     "metadata": {},
     "output_type": "execute_result"
    }
   ],
   "source": [
    "df.max()"
   ]
  },
  {
   "cell_type": "code",
   "execution_count": 52,
   "id": "reflected-strand",
   "metadata": {},
   "outputs": [],
   "source": [
    "min_max_scaler = preprocessing.MinMaxScaler()\n",
    "x = min_max_scaler.fit_transform(x)\n",
    "# df = pd.DataFrame(x_scaled)"
   ]
  },
  {
   "cell_type": "code",
   "execution_count": 53,
   "id": "whole-simon",
   "metadata": {},
   "outputs": [],
   "source": [
    "linear_regressor = LinearRegression()  # create object for the class\n",
    "linear_regressor.fit(x, y)  # perform linear regression\n",
    "y_pred = linear_regressor.predict(x)  "
   ]
  },
  {
   "cell_type": "code",
   "execution_count": 57,
   "id": "functioning-penetration",
   "metadata": {},
   "outputs": [
    {
     "data": {
      "text/plain": [
       "0.07890569054866463"
      ]
     },
     "execution_count": 57,
     "metadata": {},
     "output_type": "execute_result"
    }
   ],
   "source": [
    "metrics.mean_squared_error(y, y_pred)"
   ]
  },
  {
   "cell_type": "code",
   "execution_count": 61,
   "id": "animal-section",
   "metadata": {},
   "outputs": [],
   "source": [
    "result = pd.DataFrame({'y':y, 'y_pred':y_pred})\n"
   ]
  },
  {
   "cell_type": "code",
   "execution_count": 64,
   "id": "induced-garden",
   "metadata": {},
   "outputs": [
    {
     "data": {
      "text/plain": [
       "3"
      ]
     },
     "execution_count": 64,
     "metadata": {},
     "output_type": "execute_result"
    }
   ],
   "source": [
    "np.where(result['y_pred']>0.5,1,0).sum()"
   ]
  },
  {
   "cell_type": "code",
   "execution_count": 71,
   "id": "automotive-soccer",
   "metadata": {},
   "outputs": [
    {
     "data": {
      "text/plain": [
       "array([1.21767356, 0.54654066, 0.61186703])"
      ]
     },
     "execution_count": 71,
     "metadata": {},
     "output_type": "execute_result"
    }
   ],
   "source": [
    "y_pred[y_pred>0.5]"
   ]
  },
  {
   "cell_type": "code",
   "execution_count": 54,
   "id": "sound-player",
   "metadata": {},
   "outputs": [
    {
     "data": {
      "text/plain": [
       "array([-1.24872638, -0.24455762, -0.05540608,  0.20272009])"
      ]
     },
     "execution_count": 54,
     "metadata": {},
     "output_type": "execute_result"
    }
   ],
   "source": [
    "linear_regressor.coef_"
   ]
  },
  {
   "cell_type": "code",
   "execution_count": 46,
   "id": "demanding-video",
   "metadata": {},
   "outputs": [
    {
     "data": {
      "text/plain": [
       "0        100006\n",
       "1        100011\n",
       "2        100021\n",
       "3        100023\n",
       "4        100036\n",
       "          ...  \n",
       "85805    456242\n",
       "85806    456244\n",
       "85807    456246\n",
       "85808    456247\n",
       "85809    456248\n",
       "Name: SK_ID_CURR, Length: 85810, dtype: int64"
      ]
     },
     "execution_count": 46,
     "metadata": {},
     "output_type": "execute_result"
    }
   ],
   "source": [
    "y"
   ]
  }
 ],
 "metadata": {
  "kernelspec": {
   "display_name": "Python 3",
   "language": "python",
   "name": "python3"
  },
  "language_info": {
   "codemirror_mode": {
    "name": "ipython",
    "version": 3
   },
   "file_extension": ".py",
   "mimetype": "text/x-python",
   "name": "python",
   "nbconvert_exporter": "python",
   "pygments_lexer": "ipython3",
   "version": "3.8.8"
  }
 },
 "nbformat": 4,
 "nbformat_minor": 5
}

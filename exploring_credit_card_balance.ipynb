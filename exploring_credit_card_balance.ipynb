{
 "cells": [
  {
   "cell_type": "code",
   "execution_count": 1,
   "id": "wound-assistant",
   "metadata": {},
   "outputs": [],
   "source": [
    "import pandas as pd\n",
    "import numpy as np"
   ]
  },
  {
   "cell_type": "code",
   "execution_count": 2,
   "id": "resistant-pottery",
   "metadata": {},
   "outputs": [
    {
     "data": {
      "text/plain": [
       "Index(['SK_ID_PREV', 'SK_ID_CURR', 'MONTHS_BALANCE', 'AMT_BALANCE',\n",
       "       'AMT_CREDIT_LIMIT_ACTUAL', 'AMT_DRAWINGS_ATM_CURRENT',\n",
       "       'AMT_DRAWINGS_CURRENT', 'AMT_DRAWINGS_OTHER_CURRENT',\n",
       "       'AMT_DRAWINGS_POS_CURRENT', 'AMT_INST_MIN_REGULARITY',\n",
       "       'AMT_PAYMENT_CURRENT', 'AMT_PAYMENT_TOTAL_CURRENT',\n",
       "       'AMT_RECEIVABLE_PRINCIPAL', 'AMT_RECIVABLE', 'AMT_TOTAL_RECEIVABLE',\n",
       "       'CNT_DRAWINGS_ATM_CURRENT', 'CNT_DRAWINGS_CURRENT',\n",
       "       'CNT_DRAWINGS_OTHER_CURRENT', 'CNT_DRAWINGS_POS_CURRENT',\n",
       "       'CNT_INSTALMENT_MATURE_CUM', 'NAME_CONTRACT_STATUS', 'SK_DPD',\n",
       "       'SK_DPD_DEF'],\n",
       "      dtype='object')"
      ]
     },
     "execution_count": 2,
     "metadata": {},
     "output_type": "execute_result"
    }
   ],
   "source": [
    "df =  pd.read_csv('./data/credit_card_balance.csv')\n",
    "df = df.sort_values(['SK_ID_CURR','SK_ID_PREV','MONTHS_BALANCE'])\n",
    "df.columns"
   ]
  },
  {
   "cell_type": "code",
   "execution_count": 3,
   "id": "sunset-radius",
   "metadata": {},
   "outputs": [],
   "source": [
    "# colfordummies = df.select_dtypes(include='object').columns"
   ]
  },
  {
   "cell_type": "code",
   "execution_count": 4,
   "id": "cardiac-backing",
   "metadata": {},
   "outputs": [],
   "source": [
    "# df = pd.get_dummies(df, prefix=colfordummies)"
   ]
  },
  {
   "cell_type": "code",
   "execution_count": 5,
   "id": "nasty-egypt",
   "metadata": {},
   "outputs": [],
   "source": [
    "# df=df[['SK_ID_PREV', 'SK_ID_CURR', 'MONTHS_BALANCE', 'AMT_BALANCE',\n",
    "#        'AMT_CREDIT_LIMIT_ACTUAL','AMT_DRAWINGS_POS_CURRENT', 'AMT_INST_MIN_REGULARITY',\n",
    "#        'AMT_PAYMENT_CURRENT', 'SK_DPD']]\n",
    "# df"
   ]
  },
  {
   "cell_type": "code",
   "execution_count": 6,
   "id": "worthy-harassment",
   "metadata": {},
   "outputs": [],
   "source": [
    "# df['MONTHS_BALANCE'].unique()"
   ]
  },
  {
   "cell_type": "code",
   "execution_count": 7,
   "id": "spanish-organizer",
   "metadata": {},
   "outputs": [],
   "source": [
    "df['AMT_DRAWINGS_POS_CURRENT'] = np.where((df['AMT_DRAWINGS_POS_CURRENT'].isna()) & (df['AMT_BALANCE']==0), 0, df['AMT_DRAWINGS_POS_CURRENT'] )\n",
    "df['AMT_PAYMENT_CURRENT'] = np.where((df['AMT_PAYMENT_CURRENT'].isna()) & (df['AMT_BALANCE']==0), 0, df['AMT_PAYMENT_CURRENT'] )"
   ]
  },
  {
   "cell_type": "code",
   "execution_count": 19,
   "id": "meaningful-strand",
   "metadata": {},
   "outputs": [],
   "source": [
    "df = df.fillna('mean')"
   ]
  },
  {
   "cell_type": "code",
   "execution_count": 9,
   "id": "aerial-strain",
   "metadata": {},
   "outputs": [],
   "source": [
    "# df['AMT_CREDIT_LIMIT_ACTUAL'] = df['AMT_CREDIT_LIMIT_ACTUAL'].replace(0,1)"
   ]
  },
  {
   "cell_type": "code",
   "execution_count": 10,
   "id": "under-bishop",
   "metadata": {},
   "outputs": [],
   "source": [
    "# df['SK_DPD_FARED_OF'] = df['SK_DPD']/-df['MONTHS_BALANCE']\n",
    "# df['PROPORTION_CREDIT_OVER_LIMIT_FARED_OF'] = df['AMT_DRAWINGS_POS_CURRENT']/df['AMT_CREDIT_LIMIT_ACTUAL']/-df['MONTHS_BALANCE']"
   ]
  },
  {
   "cell_type": "code",
   "execution_count": 11,
   "id": "terminal-greensboro",
   "metadata": {},
   "outputs": [],
   "source": [
    "# df_summarized=df[['SK_ID_PREV','SK_ID_CURR', 'MONTHS_BALANCE','SK_DPD_FARED_OF','PROPORTION_CREDIT_OVER_LIMIT_FARED_OF']]"
   ]
  },
  {
   "cell_type": "code",
   "execution_count": 12,
   "id": "exotic-south",
   "metadata": {},
   "outputs": [],
   "source": [
    "# df_summarized.groupby(['SK_ID_CURR']).agg({'SK_DPD_FARED_OF':'sum', 'PROPORTION_CREDIT_OVER_LIMIT_FARED_OF':'sum'})"
   ]
  },
  {
   "cell_type": "code",
   "execution_count": 13,
   "id": "brilliant-framing",
   "metadata": {},
   "outputs": [],
   "source": [
    "# df.max()"
   ]
  },
  {
   "cell_type": "code",
   "execution_count": 18,
   "id": "nasty-heater",
   "metadata": {},
   "outputs": [],
   "source": [
    "df_summarized=df[['SK_ID_PREV','SK_ID_CURR', 'MONTHS_BALANCE','AMT_DRAWINGS_POS_CURRENT','AMT_PAYMENT_CURRENT']]"
   ]
  },
  {
   "cell_type": "code",
   "execution_count": 20,
   "id": "absolute-twins",
   "metadata": {},
   "outputs": [],
   "source": [
    "df_summarized.to_csv('./treated_data/credit_card_balance.csv',index=False)"
   ]
  }
 ],
 "metadata": {
  "kernelspec": {
   "display_name": "Python 3",
   "language": "python",
   "name": "python3"
  },
  "language_info": {
   "codemirror_mode": {
    "name": "ipython",
    "version": 3
   },
   "file_extension": ".py",
   "mimetype": "text/x-python",
   "name": "python",
   "nbconvert_exporter": "python",
   "pygments_lexer": "ipython3",
   "version": "3.8.8"
  }
 },
 "nbformat": 4,
 "nbformat_minor": 5
}

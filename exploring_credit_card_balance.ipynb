{
 "cells": [
  {
   "cell_type": "code",
   "execution_count": 1,
   "id": "wound-assistant",
   "metadata": {},
   "outputs": [],
   "source": [
    "import pandas as pd\n",
    "import numpy as np"
   ]
  },
  {
   "cell_type": "code",
   "execution_count": 2,
   "id": "resistant-pottery",
   "metadata": {},
   "outputs": [
    {
     "data": {
      "text/plain": [
       "Index(['SK_ID_PREV', 'SK_ID_CURR', 'MONTHS_BALANCE', 'AMT_BALANCE',\n",
       "       'AMT_CREDIT_LIMIT_ACTUAL', 'AMT_DRAWINGS_ATM_CURRENT',\n",
       "       'AMT_DRAWINGS_CURRENT', 'AMT_DRAWINGS_OTHER_CURRENT',\n",
       "       'AMT_DRAWINGS_POS_CURRENT', 'AMT_INST_MIN_REGULARITY',\n",
       "       'AMT_PAYMENT_CURRENT', 'AMT_PAYMENT_TOTAL_CURRENT',\n",
       "       'AMT_RECEIVABLE_PRINCIPAL', 'AMT_RECIVABLE', 'AMT_TOTAL_RECEIVABLE',\n",
       "       'CNT_DRAWINGS_ATM_CURRENT', 'CNT_DRAWINGS_CURRENT',\n",
       "       'CNT_DRAWINGS_OTHER_CURRENT', 'CNT_DRAWINGS_POS_CURRENT',\n",
       "       'CNT_INSTALMENT_MATURE_CUM', 'NAME_CONTRACT_STATUS', 'SK_DPD',\n",
       "       'SK_DPD_DEF'],\n",
       "      dtype='object')"
      ]
     },
     "execution_count": 2,
     "metadata": {},
     "output_type": "execute_result"
    }
   ],
   "source": [
    "df =  pd.read_csv('./data/credit_card_balance.csv')\n",
    "df = df.sort_values(['SK_ID_CURR','SK_ID_PREV','MONTHS_BALANCE'])\n",
    "df.columns"
   ]
  },
  {
   "cell_type": "code",
   "execution_count": 4,
   "id": "sunset-radius",
   "metadata": {},
   "outputs": [],
   "source": [
    "colfordummies = df.select_dtypes(include='object').columns"
   ]
  },
  {
   "cell_type": "code",
   "execution_count": 5,
   "id": "cardiac-backing",
   "metadata": {},
   "outputs": [],
   "source": [
    "df = pd.get_dummies(df, prefix=colfordummies)"
   ]
  },
  {
   "cell_type": "code",
   "execution_count": 3,
   "id": "nasty-egypt",
   "metadata": {},
   "outputs": [
    {
     "data": {
      "text/html": [
       "<div>\n",
       "<style scoped>\n",
       "    .dataframe tbody tr th:only-of-type {\n",
       "        vertical-align: middle;\n",
       "    }\n",
       "\n",
       "    .dataframe tbody tr th {\n",
       "        vertical-align: top;\n",
       "    }\n",
       "\n",
       "    .dataframe thead th {\n",
       "        text-align: right;\n",
       "    }\n",
       "</style>\n",
       "<table border=\"1\" class=\"dataframe\">\n",
       "  <thead>\n",
       "    <tr style=\"text-align: right;\">\n",
       "      <th></th>\n",
       "      <th>SK_ID_PREV</th>\n",
       "      <th>SK_ID_CURR</th>\n",
       "      <th>MONTHS_BALANCE</th>\n",
       "      <th>AMT_BALANCE</th>\n",
       "      <th>AMT_CREDIT_LIMIT_ACTUAL</th>\n",
       "      <th>AMT_DRAWINGS_POS_CURRENT</th>\n",
       "      <th>AMT_INST_MIN_REGULARITY</th>\n",
       "      <th>AMT_PAYMENT_CURRENT</th>\n",
       "      <th>SK_DPD</th>\n",
       "    </tr>\n",
       "  </thead>\n",
       "  <tbody>\n",
       "    <tr>\n",
       "      <th>1636141</th>\n",
       "      <td>1489396</td>\n",
       "      <td>100006</td>\n",
       "      <td>-6</td>\n",
       "      <td>0.000</td>\n",
       "      <td>270000</td>\n",
       "      <td>NaN</td>\n",
       "      <td>0.000</td>\n",
       "      <td>NaN</td>\n",
       "      <td>0</td>\n",
       "    </tr>\n",
       "    <tr>\n",
       "      <th>655566</th>\n",
       "      <td>1489396</td>\n",
       "      <td>100006</td>\n",
       "      <td>-5</td>\n",
       "      <td>0.000</td>\n",
       "      <td>270000</td>\n",
       "      <td>NaN</td>\n",
       "      <td>0.000</td>\n",
       "      <td>NaN</td>\n",
       "      <td>0</td>\n",
       "    </tr>\n",
       "    <tr>\n",
       "      <th>1399895</th>\n",
       "      <td>1489396</td>\n",
       "      <td>100006</td>\n",
       "      <td>-4</td>\n",
       "      <td>0.000</td>\n",
       "      <td>270000</td>\n",
       "      <td>NaN</td>\n",
       "      <td>0.000</td>\n",
       "      <td>NaN</td>\n",
       "      <td>0</td>\n",
       "    </tr>\n",
       "    <tr>\n",
       "      <th>1347528</th>\n",
       "      <td>1489396</td>\n",
       "      <td>100006</td>\n",
       "      <td>-3</td>\n",
       "      <td>0.000</td>\n",
       "      <td>270000</td>\n",
       "      <td>NaN</td>\n",
       "      <td>0.000</td>\n",
       "      <td>NaN</td>\n",
       "      <td>0</td>\n",
       "    </tr>\n",
       "    <tr>\n",
       "      <th>520387</th>\n",
       "      <td>1489396</td>\n",
       "      <td>100006</td>\n",
       "      <td>-2</td>\n",
       "      <td>0.000</td>\n",
       "      <td>270000</td>\n",
       "      <td>NaN</td>\n",
       "      <td>0.000</td>\n",
       "      <td>NaN</td>\n",
       "      <td>0</td>\n",
       "    </tr>\n",
       "    <tr>\n",
       "      <th>...</th>\n",
       "      <td>...</td>\n",
       "      <td>...</td>\n",
       "      <td>...</td>\n",
       "      <td>...</td>\n",
       "      <td>...</td>\n",
       "      <td>...</td>\n",
       "      <td>...</td>\n",
       "      <td>...</td>\n",
       "      <td>...</td>\n",
       "    </tr>\n",
       "    <tr>\n",
       "      <th>1437743</th>\n",
       "      <td>1794451</td>\n",
       "      <td>456250</td>\n",
       "      <td>-5</td>\n",
       "      <td>169443.855</td>\n",
       "      <td>180000</td>\n",
       "      <td>0.0</td>\n",
       "      <td>8931.420</td>\n",
       "      <td>9000.0</td>\n",
       "      <td>0</td>\n",
       "    </tr>\n",
       "    <tr>\n",
       "      <th>310299</th>\n",
       "      <td>1794451</td>\n",
       "      <td>456250</td>\n",
       "      <td>-4</td>\n",
       "      <td>166188.150</td>\n",
       "      <td>180000</td>\n",
       "      <td>0.0</td>\n",
       "      <td>8804.565</td>\n",
       "      <td>9000.0</td>\n",
       "      <td>0</td>\n",
       "    </tr>\n",
       "    <tr>\n",
       "      <th>1154348</th>\n",
       "      <td>1794451</td>\n",
       "      <td>456250</td>\n",
       "      <td>-3</td>\n",
       "      <td>162425.565</td>\n",
       "      <td>175500</td>\n",
       "      <td>0.0</td>\n",
       "      <td>8643.600</td>\n",
       "      <td>9000.0</td>\n",
       "      <td>0</td>\n",
       "    </tr>\n",
       "    <tr>\n",
       "      <th>1049726</th>\n",
       "      <td>1794451</td>\n",
       "      <td>456250</td>\n",
       "      <td>-2</td>\n",
       "      <td>158266.935</td>\n",
       "      <td>175500</td>\n",
       "      <td>0.0</td>\n",
       "      <td>8477.730</td>\n",
       "      <td>9675.0</td>\n",
       "      <td>0</td>\n",
       "    </tr>\n",
       "    <tr>\n",
       "      <th>140639</th>\n",
       "      <td>1794451</td>\n",
       "      <td>456250</td>\n",
       "      <td>-1</td>\n",
       "      <td>153832.725</td>\n",
       "      <td>175500</td>\n",
       "      <td>0.0</td>\n",
       "      <td>8286.390</td>\n",
       "      <td>9675.0</td>\n",
       "      <td>0</td>\n",
       "    </tr>\n",
       "  </tbody>\n",
       "</table>\n",
       "<p>3840312 rows × 9 columns</p>\n",
       "</div>"
      ],
      "text/plain": [
       "         SK_ID_PREV  SK_ID_CURR  MONTHS_BALANCE  AMT_BALANCE  \\\n",
       "1636141     1489396      100006              -6        0.000   \n",
       "655566      1489396      100006              -5        0.000   \n",
       "1399895     1489396      100006              -4        0.000   \n",
       "1347528     1489396      100006              -3        0.000   \n",
       "520387      1489396      100006              -2        0.000   \n",
       "...             ...         ...             ...          ...   \n",
       "1437743     1794451      456250              -5   169443.855   \n",
       "310299      1794451      456250              -4   166188.150   \n",
       "1154348     1794451      456250              -3   162425.565   \n",
       "1049726     1794451      456250              -2   158266.935   \n",
       "140639      1794451      456250              -1   153832.725   \n",
       "\n",
       "         AMT_CREDIT_LIMIT_ACTUAL  AMT_DRAWINGS_POS_CURRENT  \\\n",
       "1636141                   270000                       NaN   \n",
       "655566                    270000                       NaN   \n",
       "1399895                   270000                       NaN   \n",
       "1347528                   270000                       NaN   \n",
       "520387                    270000                       NaN   \n",
       "...                          ...                       ...   \n",
       "1437743                   180000                       0.0   \n",
       "310299                    180000                       0.0   \n",
       "1154348                   175500                       0.0   \n",
       "1049726                   175500                       0.0   \n",
       "140639                    175500                       0.0   \n",
       "\n",
       "         AMT_INST_MIN_REGULARITY  AMT_PAYMENT_CURRENT  SK_DPD  \n",
       "1636141                    0.000                  NaN       0  \n",
       "655566                     0.000                  NaN       0  \n",
       "1399895                    0.000                  NaN       0  \n",
       "1347528                    0.000                  NaN       0  \n",
       "520387                     0.000                  NaN       0  \n",
       "...                          ...                  ...     ...  \n",
       "1437743                 8931.420               9000.0       0  \n",
       "310299                  8804.565               9000.0       0  \n",
       "1154348                 8643.600               9000.0       0  \n",
       "1049726                 8477.730               9675.0       0  \n",
       "140639                  8286.390               9675.0       0  \n",
       "\n",
       "[3840312 rows x 9 columns]"
      ]
     },
     "execution_count": 3,
     "metadata": {},
     "output_type": "execute_result"
    }
   ],
   "source": [
    "df=df[['SK_ID_PREV', 'SK_ID_CURR', 'MONTHS_BALANCE', 'AMT_BALANCE',\n",
    "       'AMT_CREDIT_LIMIT_ACTUAL','AMT_DRAWINGS_POS_CURRENT', 'AMT_INST_MIN_REGULARITY',\n",
    "       'AMT_PAYMENT_CURRENT', 'SK_DPD']]\n",
    "df"
   ]
  },
  {
   "cell_type": "code",
   "execution_count": 4,
   "id": "worthy-harassment",
   "metadata": {},
   "outputs": [
    {
     "data": {
      "text/plain": [
       "array([ -6,  -5,  -4,  -3,  -2,  -1, -75, -74, -73, -72, -71, -70, -69,\n",
       "       -68, -67, -66, -65, -64, -63, -62, -61, -60, -59, -58, -57, -56,\n",
       "       -55, -54, -53, -52, -51, -50, -49, -48, -47, -46, -45, -44, -43,\n",
       "       -42, -41, -40, -39, -38, -37, -36, -35, -34, -33, -32, -31, -30,\n",
       "       -29, -28, -27, -26, -25, -24, -23, -22, -21, -20, -19, -18, -17,\n",
       "       -16, -15, -14, -13, -12, -11, -10,  -9,  -8,  -7, -96, -95, -94,\n",
       "       -93, -92, -91, -90, -89, -88, -87, -86, -85, -84, -83, -82, -81,\n",
       "       -80, -79, -78, -77, -76])"
      ]
     },
     "execution_count": 4,
     "metadata": {},
     "output_type": "execute_result"
    }
   ],
   "source": [
    "df['MONTHS_BALANCE'].unique()"
   ]
  },
  {
   "cell_type": "code",
   "execution_count": 5,
   "id": "spanish-organizer",
   "metadata": {},
   "outputs": [],
   "source": [
    "df['AMT_DRAWINGS_POS_CURRENT'] = np.where((df['AMT_DRAWINGS_POS_CURRENT'].isna()) & (df['AMT_BALANCE']==0), 0, df['AMT_DRAWINGS_POS_CURRENT'] )\n",
    "df['AMT_PAYMENT_CURRENT'] = np.where((df['AMT_PAYMENT_CURRENT'].isna()) & (df['AMT_BALANCE']==0), 0, df['AMT_PAYMENT_CURRENT'] )"
   ]
  },
  {
   "cell_type": "code",
   "execution_count": 16,
   "id": "aerial-strain",
   "metadata": {},
   "outputs": [],
   "source": [
    "df = df[df['AMT_CREDIT_LIMIT_ACTUAL']>0]"
   ]
  },
  {
   "cell_type": "code",
   "execution_count": 17,
   "id": "under-bishop",
   "metadata": {},
   "outputs": [
    {
     "name": "stderr",
     "output_type": "stream",
     "text": [
      "<ipython-input-17-4a139d749efe>:1: SettingWithCopyWarning: \n",
      "A value is trying to be set on a copy of a slice from a DataFrame.\n",
      "Try using .loc[row_indexer,col_indexer] = value instead\n",
      "\n",
      "See the caveats in the documentation: https://pandas.pydata.org/pandas-docs/stable/user_guide/indexing.html#returning-a-view-versus-a-copy\n",
      "  df['SK_DPD_FARED_OF'] = df['SK_DPD']/-df['MONTHS_BALANCE']\n",
      "<ipython-input-17-4a139d749efe>:2: SettingWithCopyWarning: \n",
      "A value is trying to be set on a copy of a slice from a DataFrame.\n",
      "Try using .loc[row_indexer,col_indexer] = value instead\n",
      "\n",
      "See the caveats in the documentation: https://pandas.pydata.org/pandas-docs/stable/user_guide/indexing.html#returning-a-view-versus-a-copy\n",
      "  df['PROPORTION_CREDIT_OVER_LIMIT_FARED_OF'] = df['AMT_DRAWINGS_POS_CURRENT']/df['AMT_CREDIT_LIMIT_ACTUAL']/-df['MONTHS_BALANCE']\n"
     ]
    }
   ],
   "source": [
    "df['SK_DPD_FARED_OF'] = df['SK_DPD']/-df['MONTHS_BALANCE']\n",
    "df['PROPORTION_CREDIT_OVER_LIMIT_FARED_OF'] = df['AMT_DRAWINGS_POS_CURRENT']/df['AMT_CREDIT_LIMIT_ACTUAL']/-df['MONTHS_BALANCE']"
   ]
  },
  {
   "cell_type": "code",
   "execution_count": 18,
   "id": "terminal-greensboro",
   "metadata": {},
   "outputs": [],
   "source": [
    "df_summarized=df[['SK_ID_CURR','SK_DPD_FARED_OF','PROPORTION_CREDIT_OVER_LIMIT_FARED_OF']]"
   ]
  },
  {
   "cell_type": "code",
   "execution_count": 19,
   "id": "exotic-south",
   "metadata": {},
   "outputs": [],
   "source": [
    "df_summarized=df_summarized.groupby(['SK_ID_CURR']).agg({'SK_DPD_FARED_OF':'sum', 'PROPORTION_CREDIT_OVER_LIMIT_FARED_OF':'sum'})"
   ]
  },
  {
   "cell_type": "code",
   "execution_count": 20,
   "id": "brilliant-framing",
   "metadata": {},
   "outputs": [
    {
     "data": {
      "text/plain": [
       "SK_ID_PREV                               2.843496e+06\n",
       "SK_ID_CURR                               4.562500e+05\n",
       "MONTHS_BALANCE                          -1.000000e+00\n",
       "AMT_BALANCE                              1.505902e+06\n",
       "AMT_CREDIT_LIMIT_ACTUAL                  1.350000e+06\n",
       "AMT_DRAWINGS_POS_CURRENT                 2.239274e+06\n",
       "AMT_INST_MIN_REGULARITY                  2.028820e+05\n",
       "AMT_PAYMENT_CURRENT                      4.289207e+06\n",
       "SK_DPD                                   3.260000e+03\n",
       "SK_DPD_FARED_OF                          2.650000e+03\n",
       "PROPORTION_CREDIT_OVER_LIMIT_FARED_OF    4.405517e+00\n",
       "dtype: float64"
      ]
     },
     "execution_count": 20,
     "metadata": {},
     "output_type": "execute_result"
    }
   ],
   "source": [
    "df.max()"
   ]
  },
  {
   "cell_type": "code",
   "execution_count": 21,
   "id": "absolute-twins",
   "metadata": {},
   "outputs": [],
   "source": [
    "df_summarized.to_csv('./treated_data/credit_card_balance.csv')"
   ]
  }
 ],
 "metadata": {
  "kernelspec": {
   "display_name": "Python 3",
   "language": "python",
   "name": "python3"
  },
  "language_info": {
   "codemirror_mode": {
    "name": "ipython",
    "version": 3
   },
   "file_extension": ".py",
   "mimetype": "text/x-python",
   "name": "python",
   "nbconvert_exporter": "python",
   "pygments_lexer": "ipython3",
   "version": "3.8.8"
  }
 },
 "nbformat": 4,
 "nbformat_minor": 5
}

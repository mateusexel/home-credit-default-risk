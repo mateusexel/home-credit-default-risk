{
 "cells": [
  {
   "cell_type": "code",
   "execution_count": 1,
   "id": "attempted-underwear",
   "metadata": {},
   "outputs": [],
   "source": [
    "import pandas as pd\n",
    "import numpy as np\n",
    "import gc\n",
    "import matplotlib.pyplot as plt\n",
    "from sklearn import preprocessing"
   ]
  },
  {
   "cell_type": "code",
   "execution_count": 2,
   "id": "theoretical-farming",
   "metadata": {},
   "outputs": [],
   "source": [
    "app =  pd.read_csv('../data/application_train.csv')[['SK_ID_CURR','TARGET']]\n",
    "# credit_card_balance =  pd.read_csv('../data/credit_card_balance.csv')[['SK_ID_PREV', 'SK_ID_CURR', 'MONTHS_BALANCE', 'NAME_CONTRACT_STATUS', 'SK_DPD', 'SK_DPD_DEF']]\n",
    "POS_CASH_balance =  pd.read_csv('../data/POS_CASH_balance.csv')\n",
    "installments_payments =  pd.read_csv('../data/installments_payments.csv')\n",
    "\n",
    "installments_payments['MONTHS_BALANCE'] = (installments_payments['DAYS_INSTALMENT']/30).round().astype(int)"
   ]
  },
  {
   "cell_type": "code",
   "execution_count": 3,
   "id": "sporting-geometry",
   "metadata": {},
   "outputs": [
    {
     "data": {
      "text/html": [
       "<div>\n",
       "<style scoped>\n",
       "    .dataframe tbody tr th:only-of-type {\n",
       "        vertical-align: middle;\n",
       "    }\n",
       "\n",
       "    .dataframe tbody tr th {\n",
       "        vertical-align: top;\n",
       "    }\n",
       "\n",
       "    .dataframe thead th {\n",
       "        text-align: right;\n",
       "    }\n",
       "</style>\n",
       "<table border=\"1\" class=\"dataframe\">\n",
       "  <thead>\n",
       "    <tr style=\"text-align: right;\">\n",
       "      <th></th>\n",
       "      <th>SK_ID_PREV</th>\n",
       "      <th>SK_ID_CURR</th>\n",
       "      <th>MONTHS_BALANCE</th>\n",
       "      <th>CNT_INSTALMENT</th>\n",
       "      <th>CNT_INSTALMENT_FUTURE</th>\n",
       "      <th>SK_DPD</th>\n",
       "      <th>SK_DPD_DEF</th>\n",
       "      <th>NAME_CONTRACT_STATUS_Active</th>\n",
       "      <th>NAME_CONTRACT_STATUS_Amortized debt</th>\n",
       "      <th>NAME_CONTRACT_STATUS_Approved</th>\n",
       "      <th>NAME_CONTRACT_STATUS_Canceled</th>\n",
       "      <th>NAME_CONTRACT_STATUS_Completed</th>\n",
       "      <th>NAME_CONTRACT_STATUS_Demand</th>\n",
       "      <th>NAME_CONTRACT_STATUS_Returned to the store</th>\n",
       "      <th>NAME_CONTRACT_STATUS_Signed</th>\n",
       "      <th>NAME_CONTRACT_STATUS_XNA</th>\n",
       "    </tr>\n",
       "  </thead>\n",
       "  <tbody>\n",
       "    <tr>\n",
       "      <th>0</th>\n",
       "      <td>1803195</td>\n",
       "      <td>182943</td>\n",
       "      <td>-31</td>\n",
       "      <td>48.0</td>\n",
       "      <td>45.0</td>\n",
       "      <td>0</td>\n",
       "      <td>0</td>\n",
       "      <td>1</td>\n",
       "      <td>0</td>\n",
       "      <td>0</td>\n",
       "      <td>0</td>\n",
       "      <td>0</td>\n",
       "      <td>0</td>\n",
       "      <td>0</td>\n",
       "      <td>0</td>\n",
       "      <td>0</td>\n",
       "    </tr>\n",
       "    <tr>\n",
       "      <th>1</th>\n",
       "      <td>1715348</td>\n",
       "      <td>367990</td>\n",
       "      <td>-33</td>\n",
       "      <td>36.0</td>\n",
       "      <td>35.0</td>\n",
       "      <td>0</td>\n",
       "      <td>0</td>\n",
       "      <td>1</td>\n",
       "      <td>0</td>\n",
       "      <td>0</td>\n",
       "      <td>0</td>\n",
       "      <td>0</td>\n",
       "      <td>0</td>\n",
       "      <td>0</td>\n",
       "      <td>0</td>\n",
       "      <td>0</td>\n",
       "    </tr>\n",
       "    <tr>\n",
       "      <th>2</th>\n",
       "      <td>1784872</td>\n",
       "      <td>397406</td>\n",
       "      <td>-32</td>\n",
       "      <td>12.0</td>\n",
       "      <td>9.0</td>\n",
       "      <td>0</td>\n",
       "      <td>0</td>\n",
       "      <td>1</td>\n",
       "      <td>0</td>\n",
       "      <td>0</td>\n",
       "      <td>0</td>\n",
       "      <td>0</td>\n",
       "      <td>0</td>\n",
       "      <td>0</td>\n",
       "      <td>0</td>\n",
       "      <td>0</td>\n",
       "    </tr>\n",
       "    <tr>\n",
       "      <th>3</th>\n",
       "      <td>1903291</td>\n",
       "      <td>269225</td>\n",
       "      <td>-35</td>\n",
       "      <td>48.0</td>\n",
       "      <td>42.0</td>\n",
       "      <td>0</td>\n",
       "      <td>0</td>\n",
       "      <td>1</td>\n",
       "      <td>0</td>\n",
       "      <td>0</td>\n",
       "      <td>0</td>\n",
       "      <td>0</td>\n",
       "      <td>0</td>\n",
       "      <td>0</td>\n",
       "      <td>0</td>\n",
       "      <td>0</td>\n",
       "    </tr>\n",
       "    <tr>\n",
       "      <th>4</th>\n",
       "      <td>2341044</td>\n",
       "      <td>334279</td>\n",
       "      <td>-35</td>\n",
       "      <td>36.0</td>\n",
       "      <td>35.0</td>\n",
       "      <td>0</td>\n",
       "      <td>0</td>\n",
       "      <td>1</td>\n",
       "      <td>0</td>\n",
       "      <td>0</td>\n",
       "      <td>0</td>\n",
       "      <td>0</td>\n",
       "      <td>0</td>\n",
       "      <td>0</td>\n",
       "      <td>0</td>\n",
       "      <td>0</td>\n",
       "    </tr>\n",
       "    <tr>\n",
       "      <th>...</th>\n",
       "      <td>...</td>\n",
       "      <td>...</td>\n",
       "      <td>...</td>\n",
       "      <td>...</td>\n",
       "      <td>...</td>\n",
       "      <td>...</td>\n",
       "      <td>...</td>\n",
       "      <td>...</td>\n",
       "      <td>...</td>\n",
       "      <td>...</td>\n",
       "      <td>...</td>\n",
       "      <td>...</td>\n",
       "      <td>...</td>\n",
       "      <td>...</td>\n",
       "      <td>...</td>\n",
       "      <td>...</td>\n",
       "    </tr>\n",
       "    <tr>\n",
       "      <th>10001353</th>\n",
       "      <td>2448283</td>\n",
       "      <td>226558</td>\n",
       "      <td>-20</td>\n",
       "      <td>6.0</td>\n",
       "      <td>0.0</td>\n",
       "      <td>843</td>\n",
       "      <td>0</td>\n",
       "      <td>1</td>\n",
       "      <td>0</td>\n",
       "      <td>0</td>\n",
       "      <td>0</td>\n",
       "      <td>0</td>\n",
       "      <td>0</td>\n",
       "      <td>0</td>\n",
       "      <td>0</td>\n",
       "      <td>0</td>\n",
       "    </tr>\n",
       "    <tr>\n",
       "      <th>10001354</th>\n",
       "      <td>1717234</td>\n",
       "      <td>141565</td>\n",
       "      <td>-19</td>\n",
       "      <td>12.0</td>\n",
       "      <td>0.0</td>\n",
       "      <td>602</td>\n",
       "      <td>0</td>\n",
       "      <td>1</td>\n",
       "      <td>0</td>\n",
       "      <td>0</td>\n",
       "      <td>0</td>\n",
       "      <td>0</td>\n",
       "      <td>0</td>\n",
       "      <td>0</td>\n",
       "      <td>0</td>\n",
       "      <td>0</td>\n",
       "    </tr>\n",
       "    <tr>\n",
       "      <th>10001355</th>\n",
       "      <td>1283126</td>\n",
       "      <td>315695</td>\n",
       "      <td>-21</td>\n",
       "      <td>10.0</td>\n",
       "      <td>0.0</td>\n",
       "      <td>609</td>\n",
       "      <td>0</td>\n",
       "      <td>1</td>\n",
       "      <td>0</td>\n",
       "      <td>0</td>\n",
       "      <td>0</td>\n",
       "      <td>0</td>\n",
       "      <td>0</td>\n",
       "      <td>0</td>\n",
       "      <td>0</td>\n",
       "      <td>0</td>\n",
       "    </tr>\n",
       "    <tr>\n",
       "      <th>10001356</th>\n",
       "      <td>1082516</td>\n",
       "      <td>450255</td>\n",
       "      <td>-22</td>\n",
       "      <td>12.0</td>\n",
       "      <td>0.0</td>\n",
       "      <td>614</td>\n",
       "      <td>0</td>\n",
       "      <td>1</td>\n",
       "      <td>0</td>\n",
       "      <td>0</td>\n",
       "      <td>0</td>\n",
       "      <td>0</td>\n",
       "      <td>0</td>\n",
       "      <td>0</td>\n",
       "      <td>0</td>\n",
       "      <td>0</td>\n",
       "    </tr>\n",
       "    <tr>\n",
       "      <th>10001357</th>\n",
       "      <td>1259607</td>\n",
       "      <td>174278</td>\n",
       "      <td>-52</td>\n",
       "      <td>16.0</td>\n",
       "      <td>0.0</td>\n",
       "      <td>0</td>\n",
       "      <td>0</td>\n",
       "      <td>0</td>\n",
       "      <td>0</td>\n",
       "      <td>0</td>\n",
       "      <td>0</td>\n",
       "      <td>1</td>\n",
       "      <td>0</td>\n",
       "      <td>0</td>\n",
       "      <td>0</td>\n",
       "      <td>0</td>\n",
       "    </tr>\n",
       "  </tbody>\n",
       "</table>\n",
       "<p>10001358 rows × 16 columns</p>\n",
       "</div>"
      ],
      "text/plain": [
       "          SK_ID_PREV  SK_ID_CURR  MONTHS_BALANCE  CNT_INSTALMENT  \\\n",
       "0            1803195      182943             -31            48.0   \n",
       "1            1715348      367990             -33            36.0   \n",
       "2            1784872      397406             -32            12.0   \n",
       "3            1903291      269225             -35            48.0   \n",
       "4            2341044      334279             -35            36.0   \n",
       "...              ...         ...             ...             ...   \n",
       "10001353     2448283      226558             -20             6.0   \n",
       "10001354     1717234      141565             -19            12.0   \n",
       "10001355     1283126      315695             -21            10.0   \n",
       "10001356     1082516      450255             -22            12.0   \n",
       "10001357     1259607      174278             -52            16.0   \n",
       "\n",
       "          CNT_INSTALMENT_FUTURE  SK_DPD  SK_DPD_DEF  \\\n",
       "0                          45.0       0           0   \n",
       "1                          35.0       0           0   \n",
       "2                           9.0       0           0   \n",
       "3                          42.0       0           0   \n",
       "4                          35.0       0           0   \n",
       "...                         ...     ...         ...   \n",
       "10001353                    0.0     843           0   \n",
       "10001354                    0.0     602           0   \n",
       "10001355                    0.0     609           0   \n",
       "10001356                    0.0     614           0   \n",
       "10001357                    0.0       0           0   \n",
       "\n",
       "          NAME_CONTRACT_STATUS_Active  NAME_CONTRACT_STATUS_Amortized debt  \\\n",
       "0                                   1                                    0   \n",
       "1                                   1                                    0   \n",
       "2                                   1                                    0   \n",
       "3                                   1                                    0   \n",
       "4                                   1                                    0   \n",
       "...                               ...                                  ...   \n",
       "10001353                            1                                    0   \n",
       "10001354                            1                                    0   \n",
       "10001355                            1                                    0   \n",
       "10001356                            1                                    0   \n",
       "10001357                            0                                    0   \n",
       "\n",
       "          NAME_CONTRACT_STATUS_Approved  NAME_CONTRACT_STATUS_Canceled  \\\n",
       "0                                     0                              0   \n",
       "1                                     0                              0   \n",
       "2                                     0                              0   \n",
       "3                                     0                              0   \n",
       "4                                     0                              0   \n",
       "...                                 ...                            ...   \n",
       "10001353                              0                              0   \n",
       "10001354                              0                              0   \n",
       "10001355                              0                              0   \n",
       "10001356                              0                              0   \n",
       "10001357                              0                              0   \n",
       "\n",
       "          NAME_CONTRACT_STATUS_Completed  NAME_CONTRACT_STATUS_Demand  \\\n",
       "0                                      0                            0   \n",
       "1                                      0                            0   \n",
       "2                                      0                            0   \n",
       "3                                      0                            0   \n",
       "4                                      0                            0   \n",
       "...                                  ...                          ...   \n",
       "10001353                               0                            0   \n",
       "10001354                               0                            0   \n",
       "10001355                               0                            0   \n",
       "10001356                               0                            0   \n",
       "10001357                               1                            0   \n",
       "\n",
       "          NAME_CONTRACT_STATUS_Returned to the store  \\\n",
       "0                                                  0   \n",
       "1                                                  0   \n",
       "2                                                  0   \n",
       "3                                                  0   \n",
       "4                                                  0   \n",
       "...                                              ...   \n",
       "10001353                                           0   \n",
       "10001354                                           0   \n",
       "10001355                                           0   \n",
       "10001356                                           0   \n",
       "10001357                                           0   \n",
       "\n",
       "          NAME_CONTRACT_STATUS_Signed  NAME_CONTRACT_STATUS_XNA  \n",
       "0                                   0                         0  \n",
       "1                                   0                         0  \n",
       "2                                   0                         0  \n",
       "3                                   0                         0  \n",
       "4                                   0                         0  \n",
       "...                               ...                       ...  \n",
       "10001353                            0                         0  \n",
       "10001354                            0                         0  \n",
       "10001355                            0                         0  \n",
       "10001356                            0                         0  \n",
       "10001357                            0                         0  \n",
       "\n",
       "[10001358 rows x 16 columns]"
      ]
     },
     "execution_count": 3,
     "metadata": {},
     "output_type": "execute_result"
    }
   ],
   "source": [
    "POS_CASH_balance"
   ]
  },
  {
   "cell_type": "markdown",
   "id": "communist-asthma",
   "metadata": {},
   "source": [
    "## Resampling imbalance"
   ]
  },
  {
   "cell_type": "code",
   "execution_count": 3,
   "id": "coupled-netscape",
   "metadata": {},
   "outputs": [
    {
     "name": "stdout",
     "output_type": "stream",
     "text": [
      "Random under-sampling:\n",
      "0    24825\n",
      "1    24825\n",
      "Name: TARGET, dtype: int64\n"
     ]
    },
    {
     "data": {
      "image/png": "[encoded data removed]",
      "text/plain": [
       "<Figure size 432x288 with 1 Axes>"
      ]
     },
     "metadata": {
      "needs_background": "light"
     },
     "output_type": "display_data"
    }
   ],
   "source": [
    "count_class_0, count_class_1 = app.TARGET.value_counts()\n",
    "df_class_0 = app[app['TARGET'] == 0]\n",
    "df_class_1 = app[app['TARGET'] == 1]\n",
    "\n",
    "df_class_0_under = df_class_0.sample(count_class_1)\n",
    "app = pd.concat([df_class_0_under, df_class_1], axis=0)\n",
    "\n",
    "print('Random under-sampling:')\n",
    "print(app.TARGET.value_counts())\n",
    "\n",
    "app.TARGET.value_counts().plot(kind='bar', title='Count (target)');"
   ]
  },
  {
   "cell_type": "markdown",
   "id": "federal-singer",
   "metadata": {},
   "source": [
    "## Merge time series DFS"
   ]
  },
  {
   "cell_type": "code",
   "execution_count": null,
   "id": "passing-search",
   "metadata": {},
   "outputs": [],
   "source": [
    "df = pd.merge(app,pd.merge(installments_payments, POS_CASH_balance , how='left'),how='inner')\n",
    "df = df[df['MONTHS_BALANCE']>-80]"
   ]
  },
  {
   "cell_type": "markdown",
   "id": "identical-association",
   "metadata": {},
   "source": [
    "## Fillna(mean)"
   ]
  },
  {
   "cell_type": "code",
   "execution_count": null,
   "id": "brave-gross",
   "metadata": {},
   "outputs": [],
   "source": [
    "df = df.fillna(df.mean)"
   ]
  },
  {
   "cell_type": "markdown",
   "id": "caring-collins",
   "metadata": {},
   "source": [
    "\n",
    "\n",
    "\n",
    "## Select features with most corr with TARGET"
   ]
  },
  {
   "cell_type": "code",
   "execution_count": null,
   "id": "monetary-radius",
   "metadata": {},
   "outputs": [],
   "source": [
    "main_features = df.groupby('SK_ID_CURR').mean().corr()['TARGET'].abs().sort_values(ascending=False)[1:6].keys()\n",
    "main_features=main_features.drop('MONTHS_BALANCE')\n",
    "main_features"
   ]
  },
  {
   "cell_type": "code",
   "execution_count": null,
   "id": "prospective-statement",
   "metadata": {},
   "outputs": [],
   "source": [
    "dlkmp"
   ]
  },
  {
   "cell_type": "markdown",
   "id": "scheduled-letters",
   "metadata": {},
   "source": [
    "## Normalize df"
   ]
  },
  {
   "cell_type": "code",
   "execution_count": null,
   "id": "missing-large",
   "metadata": {},
   "outputs": [],
   "source": [
    "del POS_CASH_balance ,installments_payments, app\n",
    "gc.collect()"
   ]
  },
  {
   "cell_type": "code",
   "execution_count": null,
   "id": "appropriate-olympus",
   "metadata": {},
   "outputs": [],
   "source": [
    "df.shape"
   ]
  },
  {
   "cell_type": "markdown",
   "id": "pressing-implement",
   "metadata": {},
   "source": [
    "## Pivot on months"
   ]
  },
  {
   "cell_type": "code",
   "execution_count": null,
   "id": "portable-patrick",
   "metadata": {},
   "outputs": [],
   "source": [
    "df_pivot = df.pivot_table(values=main_features, index=['SK_ID_CURR'], columns='MONTHS_BALANCE')"
   ]
  },
  {
   "cell_type": "code",
   "execution_count": null,
   "id": "regional-facial",
   "metadata": {},
   "outputs": [],
   "source": [
    "df_pivot= df_pivot.fillna(0)"
   ]
  },
  {
   "cell_type": "code",
   "execution_count": null,
   "id": "seventh-track",
   "metadata": {},
   "outputs": [],
   "source": [
    "y = df[['SK_ID_CURR','TARGET']].groupby('SK_ID_CURR').mean()"
   ]
  },
  {
   "cell_type": "code",
   "execution_count": null,
   "id": "coupled-liberty",
   "metadata": {},
   "outputs": [],
   "source": [
    "\n",
    "x = df_pivot.values #returns a numpy array\n",
    "min_max_scaler = preprocessing.MinMaxScaler()\n",
    "x_scaled = min_max_scaler.fit_transform(x)\n",
    "df_pivot = pd.DataFrame(x_scaled)"
   ]
  },
  {
   "cell_type": "code",
   "execution_count": null,
   "id": "employed-novel",
   "metadata": {},
   "outputs": [],
   "source": [
    "df_pivot.to_csv('../treated_data/pivoted_x.csv',index=False )\n",
    "y.to_csv('../treated_data/pivoted_y.csv')"
   ]
  },
  {
   "cell_type": "code",
   "execution_count": null,
   "id": "considered-niger",
   "metadata": {},
   "outputs": [],
   "source": [
    "x = df_pivot.values.reshape((46793,80,4))"
   ]
  },
  {
   "cell_type": "markdown",
   "id": "norwegian-irish",
   "metadata": {},
   "source": [
    "# MODEL"
   ]
  },
  {
   "cell_type": "code",
   "execution_count": null,
   "id": "approved-perception",
   "metadata": {},
   "outputs": [],
   "source": [
    "# df_pivot = pd.read_csv('../treated_data/pivoted_x.csv')\n",
    "# y = pd.read_csv('../treated_data/pivoted_y.csv')\n",
    "# rehape\n"
   ]
  },
  {
   "cell_type": "code",
   "execution_count": null,
   "id": "differential-penetration",
   "metadata": {},
   "outputs": [],
   "source": [
    "df_pivot"
   ]
  },
  {
   "cell_type": "code",
   "execution_count": null,
   "id": "arabic-lexington",
   "metadata": {},
   "outputs": [],
   "source": [
    "from sklearn.model_selection import train_test_split\n",
    "import tensorflow as tf\n",
    "from tensorflow import keras\n",
    "from tensorflow.keras import layers\n",
    "physical_devices = tf.config.list_physical_devices('GPU')\n",
    "tf.config.experimental.set_memory_growth(physical_devices[0], enable=True)"
   ]
  },
  {
   "cell_type": "code",
   "execution_count": null,
   "id": "environmental-collins",
   "metadata": {},
   "outputs": [],
   "source": [
    "X_train, X_test, y_train, y_test = train_test_split(x, y, test_size=0.33, random_state=42)\n"
   ]
  },
  {
   "cell_type": "code",
   "execution_count": null,
   "id": "equal-element",
   "metadata": {},
   "outputs": [],
   "source": [
    "model = tf.keras.Sequential([\n",
    "    tf.keras.layers.LSTM(42, return_sequences = True),\n",
    "    tf.keras.layers.LSTM(20, return_sequences = False),\n",
    "    tf.keras.layers.Dense(1)\n",
    "])"
   ]
  },
  {
   "cell_type": "code",
   "execution_count": null,
   "id": "brief-violence",
   "metadata": {},
   "outputs": [],
   "source": [
    "model.compile(optimizer='adam', \n",
    "              loss='mean_squared_error', \n",
    "              metrics='accuracy')"
   ]
  },
  {
   "cell_type": "code",
   "execution_count": null,
   "id": "periodic-calvin",
   "metadata": {
    "scrolled": true
   },
   "outputs": [],
   "source": [
    "history = model.fit(x=X_train, y=y_train, epochs= 100, batch_size=200, validation_data=(X_test,y_test) )"
   ]
  },
  {
   "cell_type": "code",
   "execution_count": null,
   "id": "liquid-motion",
   "metadata": {},
   "outputs": [],
   "source": [
    "loss_train = history.history['accuracy']\n",
    "loss_val = history.history['val_accuracy']\n",
    "epochs = range(1,101)\n",
    "plt.plot(epochs, loss_train, 'g', label='Training acc')\n",
    "plt.plot(epochs, loss_val, 'b', label='validation acc')\n",
    "plt.title('Training and Validation acc')\n",
    "plt.xlabel('Epochs')\n",
    "plt.ylabel('Loss')\n",
    "plt.legend()\n",
    "plt.show()"
   ]
  },
  {
   "cell_type": "code",
   "execution_count": null,
   "id": "fundamental-minimum",
   "metadata": {},
   "outputs": [],
   "source": [
    "model.predict(X_test).mean()"
   ]
  }
 ],
 "metadata": {
  "kernelspec": {
   "display_name": "Python 3",
   "language": "python",
   "name": "python3"
  },
  "language_info": {
   "codemirror_mode": {
    "name": "ipython",
    "version": 3
   },
   "file_extension": ".py",
   "mimetype": "text/x-python",
   "name": "python",
   "nbconvert_exporter": "python",
   "pygments_lexer": "ipython3",
   "version": "3.8.8"
  }
 },
 "nbformat": 4,
 "nbformat_minor": 5
}

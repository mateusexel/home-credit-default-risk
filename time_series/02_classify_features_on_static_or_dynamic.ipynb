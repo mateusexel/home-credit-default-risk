{
 "cells": [
  {
   "cell_type": "code",
   "execution_count": 1,
   "id": "motivated-korean",
   "metadata": {},
   "outputs": [],
   "source": [
    "import pandas as pd\n",
    "import json"
   ]
  },
  {
   "cell_type": "markdown",
   "id": "noticed-african",
   "metadata": {},
   "source": [
    "# Classifying features\n",
    "The data presented has a static dimension as well as a continuous/dynamic dimension. In these notebook we will split features on Static and Dynamic. \n",
    "\n",
    "Static are the features that don't change through every timestep for each SK_ID_CURR\n",
    "\n",
    "Dynamics are the one that change"
   ]
  },
  {
   "cell_type": "code",
   "execution_count": 2,
   "id": "arranged-harris",
   "metadata": {},
   "outputs": [
    {
     "name": "stderr",
     "output_type": "stream",
     "text": [
      "/home/mateus/anaconda3/envs/home-credit/lib/python3.8/site-packages/numpy/lib/arraysetops.py:580: FutureWarning: elementwise comparison failed; returning scalar instead, but in the future will perform elementwise comparison\n",
      "  mask |= (ar1 == a)\n"
     ]
    }
   ],
   "source": [
    "df = pd.read_csv('../treated_data/df_merged.csv', index_col=0)"
   ]
  },
  {
   "cell_type": "code",
   "execution_count": 3,
   "id": "working-uniform",
   "metadata": {},
   "outputs": [],
   "source": [
    "#create a dic with each feature as key and values as True, every features is static until proven wrong\n",
    "features = dict((col,True) for col in df.columns)\n",
    "\n",
    "# create a sliced df for every SK_ID_CURR\n",
    "for sk in df['SK_ID_CURR'].unique():\n",
    "    df_sliced = df[df['SK_ID_CURR']==sk]\n",
    "    for col in df.columns[1:]:\n",
    "        # for every column check if there is more than one value, if that is the case feature is dynamic\n",
    "        x = len(df_sliced[col].unique())\n",
    "        if x >1:\n",
    "            features[col] = False"
   ]
  },
  {
   "cell_type": "code",
   "execution_count": 4,
   "id": "comprehensive-lawrence",
   "metadata": {},
   "outputs": [],
   "source": [
    "static= [ k for k, v in features.items() if v == True ]\n",
    "dynamic = [ k for k, v in features.items() if v == False ]"
   ]
  },
  {
   "cell_type": "code",
   "execution_count": 5,
   "id": "governing-humanity",
   "metadata": {},
   "outputs": [],
   "source": [
    "type_of_feature ={'static': static, 'dynamic': dynamic}"
   ]
  },
  {
   "cell_type": "code",
   "execution_count": 6,
   "id": "speaking-moses",
   "metadata": {},
   "outputs": [],
   "source": [
    "# SK_ID_CURR will be needed on both dfs\n",
    "type_of_feature['dynamic'] = ['SK_ID_CURR'] + type_of_feature['dynamic']"
   ]
  },
  {
   "cell_type": "code",
   "execution_count": 8,
   "id": "automotive-recipe",
   "metadata": {},
   "outputs": [],
   "source": [
    "with open('../treated_data/type_of_feature2.json', 'w') as fp:\n",
    "    json.dump(type_of_feature, fp)"
   ]
  }
 ],
 "metadata": {
  "kernelspec": {
   "display_name": "Python 3",
   "language": "python",
   "name": "python3"
  },
  "language_info": {
   "codemirror_mode": {
    "name": "ipython",
    "version": 3
   },
   "file_extension": ".py",
   "mimetype": "text/x-python",
   "name": "python",
   "nbconvert_exporter": "python",
   "pygments_lexer": "ipython3",
   "version": "3.8.8"
  }
 },
 "nbformat": 4,
 "nbformat_minor": 5
}

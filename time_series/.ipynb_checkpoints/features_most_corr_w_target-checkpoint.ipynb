{
 "cells": [
  {
   "cell_type": "code",
   "execution_count": 1,
   "id": "catholic-crisis",
   "metadata": {},
   "outputs": [],
   "source": [
    "import pandas as pd\n",
    "import numpy as np\n",
    "# import gc\n",
    "\n"
   ]
  },
  {
   "cell_type": "code",
   "execution_count": 2,
   "id": "aerial-laundry",
   "metadata": {},
   "outputs": [],
   "source": [
    "app =  pd.read_csv('../data/application_train.csv')\n",
    "credit_card_balance =  pd.read_csv('../data/credit_card_balance.csv')\n",
    "POS_CASH_balance =  pd.read_csv('../data/POS_CASH_balance.csv')\n",
    "installments_payments =  pd.read_csv('../data/installments_payments.csv')\n",
    "\n",
    "installments_payments['MONTHS_BALANCE'] = (installments_payments['DAYS_INSTALMENT']/30).round().astype(int)"
   ]
  },
  {
   "cell_type": "code",
   "execution_count": 3,
   "id": "abstract-sense",
   "metadata": {},
   "outputs": [
    {
     "data": {
      "text/plain": [
       "Index(['SK_ID_PREV', 'SK_ID_CURR', 'MONTHS_BALANCE', 'AMT_BALANCE',\n",
       "       'AMT_CREDIT_LIMIT_ACTUAL', 'AMT_DRAWINGS_ATM_CURRENT',\n",
       "       'AMT_DRAWINGS_CURRENT', 'AMT_DRAWINGS_OTHER_CURRENT',\n",
       "       'AMT_DRAWINGS_POS_CURRENT', 'AMT_INST_MIN_REGULARITY',\n",
       "       'AMT_PAYMENT_CURRENT', 'AMT_PAYMENT_TOTAL_CURRENT',\n",
       "       'AMT_RECEIVABLE_PRINCIPAL', 'AMT_RECIVABLE', 'AMT_TOTAL_RECEIVABLE',\n",
       "       'CNT_DRAWINGS_ATM_CURRENT', 'CNT_DRAWINGS_CURRENT',\n",
       "       'CNT_DRAWINGS_OTHER_CURRENT', 'CNT_DRAWINGS_POS_CURRENT',\n",
       "       'CNT_INSTALMENT_MATURE_CUM', 'NAME_CONTRACT_STATUS', 'SK_DPD',\n",
       "       'SK_DPD_DEF'],\n",
       "      dtype='object')"
      ]
     },
     "execution_count": 3,
     "metadata": {},
     "output_type": "execute_result"
    }
   ],
   "source": [
    "credit_card_balance.columns"
   ]
  },
  {
   "cell_type": "code",
   "execution_count": 28,
   "id": "green-complexity",
   "metadata": {},
   "outputs": [],
   "source": [
    "credit_card_balance = credit_card_balance[credit_card_balance['SK_ID_CURR'].isin(app[\"SK_ID_CURR\"])]\n",
    "POS_CASH_balance = POS_CASH_balance[POS_CASH_balance['SK_ID_CURR'].isin(app[\"SK_ID_CURR\"])]\n",
    "installments_payments = installments_payments[installments_payments['SK_ID_CURR'].isin(app[\"SK_ID_CURR\"])]"
   ]
  },
  {
   "cell_type": "code",
   "execution_count": null,
   "id": "german-crown",
   "metadata": {},
   "outputs": [],
   "source": [
    "cre_fill = credit_card_balance.fillna('mean')"
   ]
  },
  {
   "cell_type": "code",
   "execution_count": null,
   "id": "friendly-district",
   "metadata": {},
   "outputs": [],
   "source": [
    "cre_fill.astype(int)"
   ]
  },
  {
   "cell_type": "code",
   "execution_count": 5,
   "id": "rocky-sleep",
   "metadata": {},
   "outputs": [],
   "source": [
    "credit_card_balance = credit_card_balance[credit_card_balance['MONTHS_BALANCE']>=-80]\n",
    "POS_CASH_balance = POS_CASH_balance[POS_CASH_balance['MONTHS_BALANCE']>=-80]\n",
    "installments_payments = installments_payments[installments_payments['MONTHS_BALANCE']>=-80]"
   ]
  },
  {
   "cell_type": "code",
   "execution_count": 6,
   "id": "related-karaoke",
   "metadata": {},
   "outputs": [
    {
     "name": "stdout",
     "output_type": "stream",
     "text": [
      "307511\n",
      "86905\n",
      "285213\n",
      "288410\n"
     ]
    }
   ],
   "source": [
    "\n",
    "print(len(set(app['SK_ID_CURR'])))\n",
    "print(len(set(credit_card_balance['SK_ID_CURR'])))\n",
    "print(len(set(POS_CASH_balance['SK_ID_CURR'])))\n",
    "print(len(set(installments_payments['SK_ID_CURR'])))"
   ]
  },
  {
   "cell_type": "code",
   "execution_count": 6,
   "id": "parliamentary-vanilla",
   "metadata": {},
   "outputs": [],
   "source": [
    "# values =list(set(installments_payments.columns) - set(['SK_ID_PREV', 'SK_ID_CURR', 'MONTHS_BALANCE']))"
   ]
  },
  {
   "cell_type": "code",
   "execution_count": 7,
   "id": "convenient-reconstruction",
   "metadata": {},
   "outputs": [
    {
     "data": {
      "text/plain": [
       "Index(['SK_ID_PREV', 'SK_ID_CURR', 'MONTHS_BALANCE', 'CNT_INSTALMENT',\n",
       "       'CNT_INSTALMENT_FUTURE', 'NAME_CONTRACT_STATUS', 'SK_DPD',\n",
       "       'SK_DPD_DEF'],\n",
       "      dtype='object')"
      ]
     },
     "execution_count": 7,
     "metadata": {},
     "output_type": "execute_result"
    }
   ],
   "source": [
    "POS_CASH_balance.columns"
   ]
  },
  {
   "cell_type": "code",
   "execution_count": 9,
   "id": "improved-grounds",
   "metadata": {
    "scrolled": true
   },
   "outputs": [],
   "source": [
    "credit_card_balance = credit_card_balance.pivot_table(values=list(set(credit_card_balance.columns) - set(['SK_ID_PREV', 'SK_ID_CURR', 'MONTHS_BALANCE'])), index='SK_ID_CURR', columns='MONTHS_BALANCE')\n",
    "\n",
    "POS_CASH_balance = POS_CASH_balance.pivot_table(values=list(set(POS_CASH_balance.columns) - set(['SK_ID_PREV', 'SK_ID_CURR', 'MONTHS_BALANCE'])), index='SK_ID_CURR', columns='MONTHS_BALANCE')\n",
    "\n",
    "installments_payments = installments_payments.pivot_table(values=list(set(installments_payments.columns) - set(['SK_ID_PREV', 'SK_ID_CURR', 'MONTHS_BALANCE'])), index='SK_ID_CURR', columns='MONTHS_BALANCE')"
   ]
  },
  {
   "cell_type": "code",
   "execution_count": 24,
   "id": "photographic-incentive",
   "metadata": {},
   "outputs": [
    {
     "data": {
      "text/html": [
       "<div>\n",
       "<style scoped>\n",
       "    .dataframe tbody tr th:only-of-type {\n",
       "        vertical-align: middle;\n",
       "    }\n",
       "\n",
       "    .dataframe tbody tr th {\n",
       "        vertical-align: top;\n",
       "    }\n",
       "\n",
       "    .dataframe thead tr th {\n",
       "        text-align: left;\n",
       "    }\n",
       "\n",
       "    .dataframe thead tr:last-of-type th {\n",
       "        text-align: right;\n",
       "    }\n",
       "</style>\n",
       "<table border=\"1\" class=\"dataframe\">\n",
       "  <thead>\n",
       "    <tr>\n",
       "      <th></th>\n",
       "      <th colspan=\"10\" halign=\"left\">CNT_INSTALMENT</th>\n",
       "      <th>...</th>\n",
       "      <th colspan=\"10\" halign=\"left\">SK_DPD_DEF</th>\n",
       "    </tr>\n",
       "    <tr>\n",
       "      <th>MONTHS_BALANCE</th>\n",
       "      <th>-80</th>\n",
       "      <th>-79</th>\n",
       "      <th>-78</th>\n",
       "      <th>-77</th>\n",
       "      <th>-76</th>\n",
       "      <th>-75</th>\n",
       "      <th>-74</th>\n",
       "      <th>-73</th>\n",
       "      <th>-72</th>\n",
       "      <th>-71</th>\n",
       "      <th>...</th>\n",
       "      <th>-10</th>\n",
       "      <th>-9</th>\n",
       "      <th>-8</th>\n",
       "      <th>-7</th>\n",
       "      <th>-6</th>\n",
       "      <th>-5</th>\n",
       "      <th>-4</th>\n",
       "      <th>-3</th>\n",
       "      <th>-2</th>\n",
       "      <th>-1</th>\n",
       "    </tr>\n",
       "    <tr>\n",
       "      <th>SK_ID_CURR</th>\n",
       "      <th></th>\n",
       "      <th></th>\n",
       "      <th></th>\n",
       "      <th></th>\n",
       "      <th></th>\n",
       "      <th></th>\n",
       "      <th></th>\n",
       "      <th></th>\n",
       "      <th></th>\n",
       "      <th></th>\n",
       "      <th></th>\n",
       "      <th></th>\n",
       "      <th></th>\n",
       "      <th></th>\n",
       "      <th></th>\n",
       "      <th></th>\n",
       "      <th></th>\n",
       "      <th></th>\n",
       "      <th></th>\n",
       "      <th></th>\n",
       "      <th></th>\n",
       "    </tr>\n",
       "  </thead>\n",
       "  <tbody>\n",
       "    <tr>\n",
       "      <th>100002</th>\n",
       "      <td>NaN</td>\n",
       "      <td>NaN</td>\n",
       "      <td>NaN</td>\n",
       "      <td>NaN</td>\n",
       "      <td>NaN</td>\n",
       "      <td>NaN</td>\n",
       "      <td>NaN</td>\n",
       "      <td>NaN</td>\n",
       "      <td>NaN</td>\n",
       "      <td>NaN</td>\n",
       "      <td>...</td>\n",
       "      <td>0.0</td>\n",
       "      <td>0.0</td>\n",
       "      <td>0.0</td>\n",
       "      <td>0.0</td>\n",
       "      <td>0.0</td>\n",
       "      <td>0.0</td>\n",
       "      <td>0.0</td>\n",
       "      <td>0.0</td>\n",
       "      <td>0.0</td>\n",
       "      <td>0.0</td>\n",
       "    </tr>\n",
       "    <tr>\n",
       "      <th>100003</th>\n",
       "      <td>NaN</td>\n",
       "      <td>NaN</td>\n",
       "      <td>NaN</td>\n",
       "      <td>12.0</td>\n",
       "      <td>12.0</td>\n",
       "      <td>12.0</td>\n",
       "      <td>12.0</td>\n",
       "      <td>12.0</td>\n",
       "      <td>12.0</td>\n",
       "      <td>12.0</td>\n",
       "      <td>...</td>\n",
       "      <td>NaN</td>\n",
       "      <td>NaN</td>\n",
       "      <td>NaN</td>\n",
       "      <td>NaN</td>\n",
       "      <td>NaN</td>\n",
       "      <td>NaN</td>\n",
       "      <td>NaN</td>\n",
       "      <td>NaN</td>\n",
       "      <td>NaN</td>\n",
       "      <td>NaN</td>\n",
       "    </tr>\n",
       "    <tr>\n",
       "      <th>100004</th>\n",
       "      <td>NaN</td>\n",
       "      <td>NaN</td>\n",
       "      <td>NaN</td>\n",
       "      <td>NaN</td>\n",
       "      <td>NaN</td>\n",
       "      <td>NaN</td>\n",
       "      <td>NaN</td>\n",
       "      <td>NaN</td>\n",
       "      <td>NaN</td>\n",
       "      <td>NaN</td>\n",
       "      <td>...</td>\n",
       "      <td>NaN</td>\n",
       "      <td>NaN</td>\n",
       "      <td>NaN</td>\n",
       "      <td>NaN</td>\n",
       "      <td>NaN</td>\n",
       "      <td>NaN</td>\n",
       "      <td>NaN</td>\n",
       "      <td>NaN</td>\n",
       "      <td>NaN</td>\n",
       "      <td>NaN</td>\n",
       "    </tr>\n",
       "    <tr>\n",
       "      <th>100006</th>\n",
       "      <td>NaN</td>\n",
       "      <td>NaN</td>\n",
       "      <td>NaN</td>\n",
       "      <td>NaN</td>\n",
       "      <td>NaN</td>\n",
       "      <td>NaN</td>\n",
       "      <td>NaN</td>\n",
       "      <td>NaN</td>\n",
       "      <td>NaN</td>\n",
       "      <td>NaN</td>\n",
       "      <td>...</td>\n",
       "      <td>0.0</td>\n",
       "      <td>0.0</td>\n",
       "      <td>0.0</td>\n",
       "      <td>0.0</td>\n",
       "      <td>0.0</td>\n",
       "      <td>0.0</td>\n",
       "      <td>0.0</td>\n",
       "      <td>0.0</td>\n",
       "      <td>0.0</td>\n",
       "      <td>0.0</td>\n",
       "    </tr>\n",
       "    <tr>\n",
       "      <th>100007</th>\n",
       "      <td>NaN</td>\n",
       "      <td>NaN</td>\n",
       "      <td>NaN</td>\n",
       "      <td>10.0</td>\n",
       "      <td>10.0</td>\n",
       "      <td>10.0</td>\n",
       "      <td>10.0</td>\n",
       "      <td>10.0</td>\n",
       "      <td>10.0</td>\n",
       "      <td>10.0</td>\n",
       "      <td>...</td>\n",
       "      <td>0.0</td>\n",
       "      <td>0.0</td>\n",
       "      <td>0.0</td>\n",
       "      <td>0.0</td>\n",
       "      <td>0.0</td>\n",
       "      <td>0.0</td>\n",
       "      <td>0.0</td>\n",
       "      <td>0.0</td>\n",
       "      <td>0.0</td>\n",
       "      <td>0.0</td>\n",
       "    </tr>\n",
       "    <tr>\n",
       "      <th>...</th>\n",
       "      <td>...</td>\n",
       "      <td>...</td>\n",
       "      <td>...</td>\n",
       "      <td>...</td>\n",
       "      <td>...</td>\n",
       "      <td>...</td>\n",
       "      <td>...</td>\n",
       "      <td>...</td>\n",
       "      <td>...</td>\n",
       "      <td>...</td>\n",
       "      <td>...</td>\n",
       "      <td>...</td>\n",
       "      <td>...</td>\n",
       "      <td>...</td>\n",
       "      <td>...</td>\n",
       "      <td>...</td>\n",
       "      <td>...</td>\n",
       "      <td>...</td>\n",
       "      <td>...</td>\n",
       "      <td>...</td>\n",
       "      <td>...</td>\n",
       "    </tr>\n",
       "    <tr>\n",
       "      <th>456251</th>\n",
       "      <td>NaN</td>\n",
       "      <td>NaN</td>\n",
       "      <td>NaN</td>\n",
       "      <td>NaN</td>\n",
       "      <td>NaN</td>\n",
       "      <td>NaN</td>\n",
       "      <td>NaN</td>\n",
       "      <td>NaN</td>\n",
       "      <td>NaN</td>\n",
       "      <td>NaN</td>\n",
       "      <td>...</td>\n",
       "      <td>NaN</td>\n",
       "      <td>0.0</td>\n",
       "      <td>0.0</td>\n",
       "      <td>0.0</td>\n",
       "      <td>0.0</td>\n",
       "      <td>0.0</td>\n",
       "      <td>0.0</td>\n",
       "      <td>0.0</td>\n",
       "      <td>0.0</td>\n",
       "      <td>0.0</td>\n",
       "    </tr>\n",
       "    <tr>\n",
       "      <th>456252</th>\n",
       "      <td>6.0</td>\n",
       "      <td>6.0</td>\n",
       "      <td>6.0</td>\n",
       "      <td>6.0</td>\n",
       "      <td>6.0</td>\n",
       "      <td>NaN</td>\n",
       "      <td>NaN</td>\n",
       "      <td>NaN</td>\n",
       "      <td>NaN</td>\n",
       "      <td>NaN</td>\n",
       "      <td>...</td>\n",
       "      <td>NaN</td>\n",
       "      <td>NaN</td>\n",
       "      <td>NaN</td>\n",
       "      <td>NaN</td>\n",
       "      <td>NaN</td>\n",
       "      <td>NaN</td>\n",
       "      <td>NaN</td>\n",
       "      <td>NaN</td>\n",
       "      <td>NaN</td>\n",
       "      <td>NaN</td>\n",
       "    </tr>\n",
       "    <tr>\n",
       "      <th>456253</th>\n",
       "      <td>NaN</td>\n",
       "      <td>NaN</td>\n",
       "      <td>NaN</td>\n",
       "      <td>NaN</td>\n",
       "      <td>NaN</td>\n",
       "      <td>NaN</td>\n",
       "      <td>NaN</td>\n",
       "      <td>NaN</td>\n",
       "      <td>NaN</td>\n",
       "      <td>NaN</td>\n",
       "      <td>...</td>\n",
       "      <td>NaN</td>\n",
       "      <td>NaN</td>\n",
       "      <td>NaN</td>\n",
       "      <td>NaN</td>\n",
       "      <td>NaN</td>\n",
       "      <td>NaN</td>\n",
       "      <td>NaN</td>\n",
       "      <td>NaN</td>\n",
       "      <td>NaN</td>\n",
       "      <td>NaN</td>\n",
       "    </tr>\n",
       "    <tr>\n",
       "      <th>456254</th>\n",
       "      <td>NaN</td>\n",
       "      <td>NaN</td>\n",
       "      <td>NaN</td>\n",
       "      <td>NaN</td>\n",
       "      <td>NaN</td>\n",
       "      <td>NaN</td>\n",
       "      <td>NaN</td>\n",
       "      <td>NaN</td>\n",
       "      <td>NaN</td>\n",
       "      <td>NaN</td>\n",
       "      <td>...</td>\n",
       "      <td>0.0</td>\n",
       "      <td>0.0</td>\n",
       "      <td>0.0</td>\n",
       "      <td>0.0</td>\n",
       "      <td>0.0</td>\n",
       "      <td>0.0</td>\n",
       "      <td>0.0</td>\n",
       "      <td>0.0</td>\n",
       "      <td>0.0</td>\n",
       "      <td>0.0</td>\n",
       "    </tr>\n",
       "    <tr>\n",
       "      <th>456255</th>\n",
       "      <td>NaN</td>\n",
       "      <td>NaN</td>\n",
       "      <td>NaN</td>\n",
       "      <td>NaN</td>\n",
       "      <td>NaN</td>\n",
       "      <td>NaN</td>\n",
       "      <td>NaN</td>\n",
       "      <td>NaN</td>\n",
       "      <td>NaN</td>\n",
       "      <td>NaN</td>\n",
       "      <td>...</td>\n",
       "      <td>0.0</td>\n",
       "      <td>0.0</td>\n",
       "      <td>0.0</td>\n",
       "      <td>0.0</td>\n",
       "      <td>0.0</td>\n",
       "      <td>0.0</td>\n",
       "      <td>0.0</td>\n",
       "      <td>0.0</td>\n",
       "      <td>0.0</td>\n",
       "      <td>NaN</td>\n",
       "    </tr>\n",
       "  </tbody>\n",
       "</table>\n",
       "<p>285213 rows × 320 columns</p>\n",
       "</div>"
      ],
      "text/plain": [
       "               CNT_INSTALMENT                                                \\\n",
       "MONTHS_BALANCE            -80  -79  -78   -77   -76   -75   -74   -73   -72   \n",
       "SK_ID_CURR                                                                    \n",
       "100002                    NaN  NaN  NaN   NaN   NaN   NaN   NaN   NaN   NaN   \n",
       "100003                    NaN  NaN  NaN  12.0  12.0  12.0  12.0  12.0  12.0   \n",
       "100004                    NaN  NaN  NaN   NaN   NaN   NaN   NaN   NaN   NaN   \n",
       "100006                    NaN  NaN  NaN   NaN   NaN   NaN   NaN   NaN   NaN   \n",
       "100007                    NaN  NaN  NaN  10.0  10.0  10.0  10.0  10.0  10.0   \n",
       "...                       ...  ...  ...   ...   ...   ...   ...   ...   ...   \n",
       "456251                    NaN  NaN  NaN   NaN   NaN   NaN   NaN   NaN   NaN   \n",
       "456252                    6.0  6.0  6.0   6.0   6.0   NaN   NaN   NaN   NaN   \n",
       "456253                    NaN  NaN  NaN   NaN   NaN   NaN   NaN   NaN   NaN   \n",
       "456254                    NaN  NaN  NaN   NaN   NaN   NaN   NaN   NaN   NaN   \n",
       "456255                    NaN  NaN  NaN   NaN   NaN   NaN   NaN   NaN   NaN   \n",
       "\n",
       "                      ... SK_DPD_DEF                                          \\\n",
       "MONTHS_BALANCE   -71  ...        -10  -9   -8   -7   -6   -5   -4   -3   -2    \n",
       "SK_ID_CURR            ...                                                      \n",
       "100002           NaN  ...        0.0  0.0  0.0  0.0  0.0  0.0  0.0  0.0  0.0   \n",
       "100003          12.0  ...        NaN  NaN  NaN  NaN  NaN  NaN  NaN  NaN  NaN   \n",
       "100004           NaN  ...        NaN  NaN  NaN  NaN  NaN  NaN  NaN  NaN  NaN   \n",
       "100006           NaN  ...        0.0  0.0  0.0  0.0  0.0  0.0  0.0  0.0  0.0   \n",
       "100007          10.0  ...        0.0  0.0  0.0  0.0  0.0  0.0  0.0  0.0  0.0   \n",
       "...              ...  ...        ...  ...  ...  ...  ...  ...  ...  ...  ...   \n",
       "456251           NaN  ...        NaN  0.0  0.0  0.0  0.0  0.0  0.0  0.0  0.0   \n",
       "456252           NaN  ...        NaN  NaN  NaN  NaN  NaN  NaN  NaN  NaN  NaN   \n",
       "456253           NaN  ...        NaN  NaN  NaN  NaN  NaN  NaN  NaN  NaN  NaN   \n",
       "456254           NaN  ...        0.0  0.0  0.0  0.0  0.0  0.0  0.0  0.0  0.0   \n",
       "456255           NaN  ...        0.0  0.0  0.0  0.0  0.0  0.0  0.0  0.0  0.0   \n",
       "\n",
       "                     \n",
       "MONTHS_BALANCE  -1   \n",
       "SK_ID_CURR           \n",
       "100002          0.0  \n",
       "100003          NaN  \n",
       "100004          NaN  \n",
       "100006          0.0  \n",
       "100007          0.0  \n",
       "...             ...  \n",
       "456251          0.0  \n",
       "456252          NaN  \n",
       "456253          NaN  \n",
       "456254          0.0  \n",
       "456255          NaN  \n",
       "\n",
       "[285213 rows x 320 columns]"
      ]
     },
     "execution_count": 24,
     "metadata": {},
     "output_type": "execute_result"
    }
   ],
   "source": [
    "POS_CASH_balance"
   ]
  },
  {
   "cell_type": "code",
   "execution_count": 22,
   "id": "fifth-removal",
   "metadata": {},
   "outputs": [
    {
     "data": {
      "text/plain": [
       "(86905, 1520)"
      ]
     },
     "execution_count": 22,
     "metadata": {},
     "output_type": "execute_result"
    }
   ],
   "source": [
    "credit_card_balance.shape"
   ]
  },
  {
   "cell_type": "code",
   "execution_count": 25,
   "id": "criminal-bargain",
   "metadata": {},
   "outputs": [
    {
     "data": {
      "text/plain": [
       "(285213, 320)"
      ]
     },
     "execution_count": 25,
     "metadata": {},
     "output_type": "execute_result"
    }
   ],
   "source": [
    "POS_CASH_balance.shape"
   ]
  },
  {
   "cell_type": "code",
   "execution_count": 11,
   "id": "subjective-territory",
   "metadata": {},
   "outputs": [
    {
     "ename": "NameError",
     "evalue": "name 'priit' is not defined",
     "output_type": "error",
     "traceback": [
      "\u001b[0;31m---------------------------------------------------------------------------\u001b[0m",
      "\u001b[0;31mNameError\u001b[0m                                 Traceback (most recent call last)",
      "\u001b[0;32m<ipython-input-11-2c1a73702b56>\u001b[0m in \u001b[0;36m<module>\u001b[0;34m\u001b[0m\n\u001b[0;32m----> 1\u001b[0;31m \u001b[0mpriit\u001b[0m\u001b[0;34m\u001b[0m\u001b[0;34m\u001b[0m\u001b[0m\n\u001b[0m",
      "\u001b[0;31mNameError\u001b[0m: name 'priit' is not defined"
     ]
    }
   ],
   "source": [
    "priit"
   ]
  },
  {
   "cell_type": "code",
   "execution_count": 18,
   "id": "cubic-strategy",
   "metadata": {},
   "outputs": [
    {
     "data": {
      "text/plain": [
       "6.0"
      ]
     },
     "execution_count": 18,
     "metadata": {},
     "output_type": "execute_result"
    }
   ],
   "source": [
    "installments_payments.shape[1]/81"
   ]
  },
  {
   "cell_type": "code",
   "execution_count": 19,
   "id": "czech-prescription",
   "metadata": {},
   "outputs": [],
   "source": [
    "# credit_card_balance= credit_card_balance.values.reshape((86905,80,19))\n",
    "# POS_CASH_balance= POS_CASH_balance.values.reshape((285213,80,4))\n",
    "installments_payments= installments_payments.values.reshape((288410,81,6))\n"
   ]
  },
  {
   "cell_type": "code",
   "execution_count": 21,
   "id": "anonymous-finding",
   "metadata": {},
   "outputs": [
    {
     "ename": "AttributeError",
     "evalue": "'numpy.ndarray' object has no attribute 'keys'",
     "output_type": "error",
     "traceback": [
      "\u001b[0;31m---------------------------------------------------------------------------\u001b[0m",
      "\u001b[0;31mAttributeError\u001b[0m                            Traceback (most recent call last)",
      "\u001b[0;32m<ipython-input-21-fadc6b216203>\u001b[0m in \u001b[0;36m<module>\u001b[0;34m\u001b[0m\n\u001b[0;32m----> 1\u001b[0;31m \u001b[0minstallments_payments\u001b[0m\u001b[0;34m.\u001b[0m\u001b[0mkeys\u001b[0m\u001b[0;34m\u001b[0m\u001b[0;34m\u001b[0m\u001b[0m\n\u001b[0m",
      "\u001b[0;31mAttributeError\u001b[0m: 'numpy.ndarray' object has no attribute 'keys'"
     ]
    }
   ],
   "source": [
    "installments_payments.keys"
   ]
  },
  {
   "cell_type": "code",
   "execution_count": null,
   "id": "federal-ferry",
   "metadata": {},
   "outputs": [],
   "source": [
    "df = installments_payments[installments_payments['SK_ID_CURR'].isin(app['SK_ID_CURR'])]"
   ]
  },
  {
   "cell_type": "code",
   "execution_count": null,
   "id": "fifty-theme",
   "metadata": {},
   "outputs": [],
   "source": [
    "df.shape"
   ]
  },
  {
   "cell_type": "code",
   "execution_count": null,
   "id": "printable-gentleman",
   "metadata": {},
   "outputs": [],
   "source": [
    "df = pd.merge(df, POS_CASH_balance, how='left')\n",
    "# df.head(5)"
   ]
  },
  {
   "cell_type": "code",
   "execution_count": null,
   "id": "endangered-stability",
   "metadata": {
    "scrolled": true
   },
   "outputs": [],
   "source": [
    "df=pd.merge(df, credit_card_balance, how = 'left')\n",
    "# df.head(5)"
   ]
  },
  {
   "cell_type": "code",
   "execution_count": null,
   "id": "cubic-alcohol",
   "metadata": {},
   "outputs": [],
   "source": [
    "df = df[df['MONTHS_BALANCE']>-80]"
   ]
  },
  {
   "cell_type": "code",
   "execution_count": null,
   "id": "equivalent-toner",
   "metadata": {},
   "outputs": [],
   "source": [
    "df.shape"
   ]
  },
  {
   "cell_type": "code",
   "execution_count": null,
   "id": "technological-victor",
   "metadata": {},
   "outputs": [],
   "source": [
    "\n",
    "del credit_card_balance, POS_CASH_balance ,installments_payments\n",
    "gc.collect()"
   ]
  },
  {
   "cell_type": "code",
   "execution_count": null,
   "id": "finnish-generation",
   "metadata": {},
   "outputs": [],
   "source": [
    "# df = df[df['SK_ID_CURR'].isin(app['SK_ID_CURR'])]"
   ]
  },
  {
   "cell_type": "code",
   "execution_count": null,
   "id": "collect-tokyo",
   "metadata": {},
   "outputs": [],
   "source": [
    "values = list(set(df.columns) - set(['SK_ID_PREV', 'SK_ID_CURR', 'MONTHS_BALANCE']))"
   ]
  },
  {
   "cell_type": "code",
   "execution_count": null,
   "id": "fleet-acceptance",
   "metadata": {},
   "outputs": [],
   "source": [
    "df_pivot = df.pivot_table(values=values, index='SK_ID_CURR', columns='MONTHS_BALANCE')"
   ]
  },
  {
   "cell_type": "code",
   "execution_count": null,
   "id": "aggregate-brooks",
   "metadata": {},
   "outputs": [],
   "source": [
    "# import pandas as pd\n",
    "# import numpy as np\n",
    "# import gc\n",
    "# credit_card_balance =  pd.read_csv('../data/credit_card_balance.csv')\n",
    "# POS_CASH_balance =  pd.read_csv('../data/POS_CASH_balance.csv')\n",
    "# installments_payments =  pd.read_csv('../data/installments_payments.csv')\n",
    "# installments_payments['MONTHS_BALANCE'] = (installments_payments['DAYS_INSTALMENT']/30).round().astype(int)\n",
    "# df = pd.merge(POS_CASH_balance, installments_payments,  left_on=(['SK_ID_PREV','SK_ID_CURR','MONTHS_BALANCE']), right_on=(['SK_ID_PREV','SK_ID_CURR','MONTHS_BALANCE']), how='outer')\n",
    "# df=pd.merge(df, credit_card_balance, how = 'outer')\n",
    "# del credit_card_balance, POS_CASH_balance ,installments_payments\n",
    "# gc.collect()\n",
    "# values = list(set(df.columns) - set(['SK_ID_PREV', 'SK_ID_CURR', 'MONTHS_BALANCE']))\n",
    "# df_pivot = df.pivot_table(values=values, index='SK_ID_CURR', columns='MONTHS_BALANCE').to_json('../treated_data/timeseries.json')"
   ]
  }
 ],
 "metadata": {
  "kernelspec": {
   "display_name": "Python 3",
   "language": "python",
   "name": "python3"
  },
  "language_info": {
   "codemirror_mode": {
    "name": "ipython",
    "version": 3
   },
   "file_extension": ".py",
   "mimetype": "text/x-python",
   "name": "python",
   "nbconvert_exporter": "python",
   "pygments_lexer": "ipython3",
   "version": "3.8.8"
  }
 },
 "nbformat": 4,
 "nbformat_minor": 5
}

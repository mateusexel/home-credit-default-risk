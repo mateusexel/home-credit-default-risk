{
 "cells": [
  {
   "cell_type": "code",
   "execution_count": 2,
   "id": "catholic-crisis",
   "metadata": {},
   "outputs": [],
   "source": [
    "import pandas as pd\n",
    "import numpy as np\n",
    "import gc\n"
   ]
  },
  {
   "cell_type": "code",
   "execution_count": 3,
   "id": "aerial-laundry",
   "metadata": {},
   "outputs": [],
   "source": [
    "app =  pd.read_csv('../data/application_train.csv')\n",
    "credit_card_balance =  pd.read_csv('../data/credit_card_balance.csv')\n",
    "POS_CASH_balance =  pd.read_csv('../data/POS_CASH_balance.csv')\n",
    "installments_payments =  pd.read_csv('../data/installments_payments.csv')"
   ]
  },
  {
   "cell_type": "code",
   "execution_count": 4,
   "id": "ultimate-regard",
   "metadata": {},
   "outputs": [],
   "source": [
    "installments_payments['MONTHS_BALANCE'] = (installments_payments['DAYS_INSTALMENT']/30).round().astype(int)"
   ]
  },
  {
   "cell_type": "code",
   "execution_count": 5,
   "id": "printable-gentleman",
   "metadata": {},
   "outputs": [
    {
     "data": {
      "text/html": [
       "<div>\n",
       "<style scoped>\n",
       "    .dataframe tbody tr th:only-of-type {\n",
       "        vertical-align: middle;\n",
       "    }\n",
       "\n",
       "    .dataframe tbody tr th {\n",
       "        vertical-align: top;\n",
       "    }\n",
       "\n",
       "    .dataframe thead th {\n",
       "        text-align: right;\n",
       "    }\n",
       "</style>\n",
       "<table border=\"1\" class=\"dataframe\">\n",
       "  <thead>\n",
       "    <tr style=\"text-align: right;\">\n",
       "      <th></th>\n",
       "      <th>SK_ID_PREV</th>\n",
       "      <th>SK_ID_CURR</th>\n",
       "      <th>MONTHS_BALANCE</th>\n",
       "      <th>CNT_INSTALMENT</th>\n",
       "      <th>CNT_INSTALMENT_FUTURE</th>\n",
       "      <th>NAME_CONTRACT_STATUS</th>\n",
       "      <th>SK_DPD</th>\n",
       "      <th>SK_DPD_DEF</th>\n",
       "      <th>NUM_INSTALMENT_VERSION</th>\n",
       "      <th>NUM_INSTALMENT_NUMBER</th>\n",
       "      <th>DAYS_INSTALMENT</th>\n",
       "      <th>DAYS_ENTRY_PAYMENT</th>\n",
       "      <th>AMT_INSTALMENT</th>\n",
       "      <th>AMT_PAYMENT</th>\n",
       "    </tr>\n",
       "  </thead>\n",
       "  <tbody>\n",
       "    <tr>\n",
       "      <th>0</th>\n",
       "      <td>1803195</td>\n",
       "      <td>182943</td>\n",
       "      <td>-31</td>\n",
       "      <td>48.0</td>\n",
       "      <td>45.0</td>\n",
       "      <td>Active</td>\n",
       "      <td>0.0</td>\n",
       "      <td>0.0</td>\n",
       "      <td>NaN</td>\n",
       "      <td>NaN</td>\n",
       "      <td>NaN</td>\n",
       "      <td>NaN</td>\n",
       "      <td>NaN</td>\n",
       "      <td>NaN</td>\n",
       "    </tr>\n",
       "    <tr>\n",
       "      <th>1</th>\n",
       "      <td>1715348</td>\n",
       "      <td>367990</td>\n",
       "      <td>-33</td>\n",
       "      <td>36.0</td>\n",
       "      <td>35.0</td>\n",
       "      <td>Active</td>\n",
       "      <td>0.0</td>\n",
       "      <td>0.0</td>\n",
       "      <td>NaN</td>\n",
       "      <td>NaN</td>\n",
       "      <td>NaN</td>\n",
       "      <td>NaN</td>\n",
       "      <td>NaN</td>\n",
       "      <td>NaN</td>\n",
       "    </tr>\n",
       "    <tr>\n",
       "      <th>2</th>\n",
       "      <td>1784872</td>\n",
       "      <td>397406</td>\n",
       "      <td>-32</td>\n",
       "      <td>12.0</td>\n",
       "      <td>9.0</td>\n",
       "      <td>Active</td>\n",
       "      <td>0.0</td>\n",
       "      <td>0.0</td>\n",
       "      <td>1.0</td>\n",
       "      <td>3.0</td>\n",
       "      <td>-949.0</td>\n",
       "      <td>-951.0</td>\n",
       "      <td>14746.455</td>\n",
       "      <td>14746.455</td>\n",
       "    </tr>\n",
       "    <tr>\n",
       "      <th>3</th>\n",
       "      <td>1903291</td>\n",
       "      <td>269225</td>\n",
       "      <td>-35</td>\n",
       "      <td>48.0</td>\n",
       "      <td>42.0</td>\n",
       "      <td>Active</td>\n",
       "      <td>0.0</td>\n",
       "      <td>0.0</td>\n",
       "      <td>1.0</td>\n",
       "      <td>7.0</td>\n",
       "      <td>-1038.0</td>\n",
       "      <td>-1071.0</td>\n",
       "      <td>32328.000</td>\n",
       "      <td>32328.000</td>\n",
       "    </tr>\n",
       "    <tr>\n",
       "      <th>4</th>\n",
       "      <td>2341044</td>\n",
       "      <td>334279</td>\n",
       "      <td>-35</td>\n",
       "      <td>36.0</td>\n",
       "      <td>35.0</td>\n",
       "      <td>Active</td>\n",
       "      <td>0.0</td>\n",
       "      <td>0.0</td>\n",
       "      <td>1.0</td>\n",
       "      <td>1.0</td>\n",
       "      <td>-1062.0</td>\n",
       "      <td>-1092.0</td>\n",
       "      <td>26327.970</td>\n",
       "      <td>26327.970</td>\n",
       "    </tr>\n",
       "  </tbody>\n",
       "</table>\n",
       "</div>"
      ],
      "text/plain": [
       "   SK_ID_PREV  SK_ID_CURR  MONTHS_BALANCE  CNT_INSTALMENT  \\\n",
       "0     1803195      182943             -31            48.0   \n",
       "1     1715348      367990             -33            36.0   \n",
       "2     1784872      397406             -32            12.0   \n",
       "3     1903291      269225             -35            48.0   \n",
       "4     2341044      334279             -35            36.0   \n",
       "\n",
       "   CNT_INSTALMENT_FUTURE NAME_CONTRACT_STATUS  SK_DPD  SK_DPD_DEF  \\\n",
       "0                   45.0               Active     0.0         0.0   \n",
       "1                   35.0               Active     0.0         0.0   \n",
       "2                    9.0               Active     0.0         0.0   \n",
       "3                   42.0               Active     0.0         0.0   \n",
       "4                   35.0               Active     0.0         0.0   \n",
       "\n",
       "   NUM_INSTALMENT_VERSION  NUM_INSTALMENT_NUMBER  DAYS_INSTALMENT  \\\n",
       "0                     NaN                    NaN              NaN   \n",
       "1                     NaN                    NaN              NaN   \n",
       "2                     1.0                    3.0           -949.0   \n",
       "3                     1.0                    7.0          -1038.0   \n",
       "4                     1.0                    1.0          -1062.0   \n",
       "\n",
       "   DAYS_ENTRY_PAYMENT  AMT_INSTALMENT  AMT_PAYMENT  \n",
       "0                 NaN             NaN          NaN  \n",
       "1                 NaN             NaN          NaN  \n",
       "2              -951.0       14746.455    14746.455  \n",
       "3             -1071.0       32328.000    32328.000  \n",
       "4             -1092.0       26327.970    26327.970  "
      ]
     },
     "execution_count": 5,
     "metadata": {},
     "output_type": "execute_result"
    }
   ],
   "source": [
    "df = pd.merge(POS_CASH_balance, installments_payments,  left_on=(['SK_ID_PREV','SK_ID_CURR','MONTHS_BALANCE']), right_on=(['SK_ID_PREV','SK_ID_CURR','MONTHS_BALANCE']), how='outer')\n",
    "df.head(5)"
   ]
  },
  {
   "cell_type": "code",
   "execution_count": null,
   "id": "endangered-stability",
   "metadata": {
    "scrolled": true
   },
   "outputs": [],
   "source": [
    "df=pd.merge(df, credit_card_balance, how = 'outer')\n",
    "df.head(5)"
   ]
  },
  {
   "cell_type": "code",
   "execution_count": null,
   "id": "impressed-terminal",
   "metadata": {},
   "outputs": [],
   "source": []
  },
  {
   "cell_type": "code",
   "execution_count": 9,
   "id": "technological-victor",
   "metadata": {},
   "outputs": [
    {
     "data": {
      "text/plain": [
       "30"
      ]
     },
     "execution_count": 9,
     "metadata": {},
     "output_type": "execute_result"
    }
   ],
   "source": [
    "\n",
    "del credit_card_balance, POS_CASH_balance ,installments_payments\n",
    "gc.collect()"
   ]
  },
  {
   "cell_type": "code",
   "execution_count": 10,
   "id": "collect-tokyo",
   "metadata": {},
   "outputs": [],
   "source": [
    "values = list(set(df.columns) - set(['SK_ID_PREV', 'SK_ID_CURR', 'MONTHS_BALANCE']))"
   ]
  },
  {
   "cell_type": "code",
   "execution_count": null,
   "id": "fleet-acceptance",
   "metadata": {},
   "outputs": [],
   "source": [
    "df_pivot = df.pivot_table(values=values, index='SK_ID_CURR', columns='MONTHS_BALANCE')"
   ]
  },
  {
   "cell_type": "code",
   "execution_count": null,
   "id": "aggregate-brooks",
   "metadata": {},
   "outputs": [],
   "source": [
    "import pandas as pd\n",
    "import numpy as np\n",
    "import gc\n",
    "credit_card_balance =  pd.read_csv('../data/credit_card_balance.csv')\n",
    "POS_CASH_balance =  pd.read_csv('../data/POS_CASH_balance.csv')\n",
    "installments_payments =  pd.read_csv('../data/installments_payments.csv')\n",
    "installments_payments['MONTHS_BALANCE'] = (installments_payments['DAYS_INSTALMENT']/30).round().astype(int)\n",
    "df = pd.merge(POS_CASH_balance, installments_payments,  left_on=(['SK_ID_PREV','SK_ID_CURR','MONTHS_BALANCE']), right_on=(['SK_ID_PREV','SK_ID_CURR','MONTHS_BALANCE']), how='outer')\n",
    "df=pd.merge(df, credit_card_balance, how = 'outer')\n",
    "del credit_card_balance, POS_CASH_balance ,installments_payments\n",
    "gc.collect()\n",
    "values = list(set(df.columns) - set(['SK_ID_PREV', 'SK_ID_CURR', 'MONTHS_BALANCE']))\n",
    "df_pivot = df.pivot_table(values=values, index='SK_ID_CURR', columns='MONTHS_BALANCE').to_json('../treated_data/timeseries.json')"
   ]
  }
 ],
 "metadata": {
  "kernelspec": {
   "display_name": "Python 3",
   "language": "python",
   "name": "python3"
  },
  "language_info": {
   "codemirror_mode": {
    "name": "ipython",
    "version": 3
   },
   "file_extension": ".py",
   "mimetype": "text/x-python",
   "name": "python",
   "nbconvert_exporter": "python",
   "pygments_lexer": "ipython3",
   "version": "3.8.8"
  }
 },
 "nbformat": 4,
 "nbformat_minor": 5
}

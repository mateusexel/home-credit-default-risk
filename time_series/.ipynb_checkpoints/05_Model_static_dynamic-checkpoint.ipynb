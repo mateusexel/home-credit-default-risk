{
 "cells": [
  {
   "cell_type": "code",
   "execution_count": 1,
   "id": "dependent-account",
   "metadata": {},
   "outputs": [],
   "source": [
    "import pandas as pd\n",
    "import numpy as np\n",
    "from sklearn.preprocessing import StandardScaler, MinMaxScaler\n",
    "from sklearn.model_selection import train_test_split\n",
    "import matplotlib.pyplot as plt\n",
    "\n",
    "\n",
    "from tensorflow.keras.layers import Input, Dense, concatenate, LSTM, Bidirectional, Dropout, GRU\n",
    "from tensorflow.keras.models import Model\n",
    "import tensorflow as tf\n",
    "physical_devices = tf.config.list_physical_devices('GPU')\n",
    "tf.config.experimental.set_memory_growth(physical_devices[0], enable=True)\n"
   ]
  },
  {
   "cell_type": "code",
   "execution_count": 2,
   "id": "strange-revision",
   "metadata": {},
   "outputs": [
    {
     "name": "stderr",
     "output_type": "stream",
     "text": [
      "/home/mateus/anaconda3/envs/home-credit/lib/python3.8/site-packages/numpy/lib/arraysetops.py:580: FutureWarning: elementwise comparison failed; returning scalar instead, but in the future will perform elementwise comparison\n",
      "  mask |= (ar1 == a)\n"
     ]
    }
   ],
   "source": [
    "df_static = pd.read_csv('../treated_data/df_static.csv',index_col=0)\n",
    "df_dynamic = pd.read_csv('../treated_data/df_dynamic.csv', index_col=0)"
   ]
  },
  {
   "cell_type": "code",
   "execution_count": 3,
   "id": "common-california",
   "metadata": {},
   "outputs": [],
   "source": [
    "X_train, X_test, y_train, y_test  = train_test_split(df_static.index ,df_static.TARGET, test_size=0.33, random_state=42, shuffle=False)"
   ]
  },
  {
   "cell_type": "code",
   "execution_count": 4,
   "id": "fatty-recycling",
   "metadata": {},
   "outputs": [],
   "source": [
    "X_static_train = df_static.loc[X_train]\n",
    "X_static_train = X_static_train.fillna(X_static_train.mean()).values[:,1:]\n",
    "\n",
    "X_static_test = df_static.loc[X_test]\n",
    "X_static_test = X_static_test.fillna(X_static_train.mean()).values[:,1:]"
   ]
  },
  {
   "cell_type": "code",
   "execution_count": 40,
   "id": "vocal-digit",
   "metadata": {},
   "outputs": [],
   "source": [
    "X_dynamic_train = df_dynamic.loc[X_train].reset_index()\n",
    "X_dynamic_train = X_dynamic_train.fillna(X_dynamic_train.mean())\n",
    "X_dynamic_train = X_dynamic_train.pivot_table(values=list(set(X_dynamic_train.columns)-set(['SK_ID_PREV', 'MONTHS_BALANCE','SK_ID_CURR'])), index='SK_ID_CURR', columns='MONTHS_BALANCE',aggfunc='sum', fill_value=0)"
   ]
  },
  {
   "cell_type": "code",
   "execution_count": 53,
   "id": "sustained-swift",
   "metadata": {},
   "outputs": [
    {
     "data": {
      "text/plain": [
       "MultiIndex([('AMT_INSTALMENT', -96),\n",
       "            ('AMT_INSTALMENT', -95),\n",
       "            ('AMT_INSTALMENT', -94),\n",
       "            ('AMT_INSTALMENT', -93),\n",
       "            ('AMT_INSTALMENT', -92),\n",
       "            ('AMT_INSTALMENT', -91),\n",
       "            ('AMT_INSTALMENT', -90),\n",
       "            ('AMT_INSTALMENT', -89),\n",
       "            ('AMT_INSTALMENT', -88),\n",
       "            ('AMT_INSTALMENT', -87),\n",
       "            ...\n",
       "            (      'STATUS_X',  -9),\n",
       "            (      'STATUS_X',  -8),\n",
       "            (      'STATUS_X',  -7),\n",
       "            (      'STATUS_X',  -6),\n",
       "            (      'STATUS_X',  -5),\n",
       "            (      'STATUS_X',  -4),\n",
       "            (      'STATUS_X',  -3),\n",
       "            (      'STATUS_X',  -2),\n",
       "            (      'STATUS_X',  -1),\n",
       "            (      'STATUS_X',   0)],\n",
       "           names=[None, 'MONTHS_BALANCE'], length=2134)"
      ]
     },
     "execution_count": 53,
     "metadata": {},
     "output_type": "execute_result"
    }
   ],
   "source": [
    "\n",
    "X_dynamic_train.columns"
   ]
  },
  {
   "cell_type": "code",
   "execution_count": 55,
   "id": "going-family",
   "metadata": {},
   "outputs": [
    {
     "data": {
      "text/plain": [
       "MONTHS_BALANCE\n",
       "-4     1\n",
       "-96    0\n",
       "-35    0\n",
       "-26    0\n",
       "-27    0\n",
       "      ..\n",
       "-66    0\n",
       "-67    0\n",
       "-68    0\n",
       "-69    0\n",
       " 0     0\n",
       "Length: 97, dtype: int64"
      ]
     },
     "execution_count": 55,
     "metadata": {},
     "output_type": "execute_result"
    }
   ],
   "source": [
    "for i in \n",
    "X_dynamic_train['STATUS_X'].max().sort_values(ascending=False)"
   ]
  },
  {
   "cell_type": "code",
   "execution_count": 44,
   "id": "collective-encoding",
   "metadata": {},
   "outputs": [
    {
     "data": {
      "text/plain": [
       "array([ 4.14558e+03,  4.14558e+03,  1.20000e+01,  1.10000e+01,\n",
       "       -2.66300e+03, -2.65100e+03,  1.00000e+00,  0.00000e+00,\n",
       "        0.00000e+00,  0.00000e+00,  0.00000e+00,  0.00000e+00,\n",
       "        0.00000e+00,  0.00000e+00,  2.00000e+00,  1.00000e+00,\n",
       "        0.00000e+00,  0.00000e+00,  0.00000e+00,  0.00000e+00,\n",
       "        0.00000e+00,  0.00000e+00])"
      ]
     },
     "execution_count": 44,
     "metadata": {},
     "output_type": "execute_result"
    }
   ],
   "source": [
    "X_dynamic_train_reshaped[-5,8,:]"
   ]
  },
  {
   "cell_type": "code",
   "execution_count": 35,
   "id": "mediterranean-alabama",
   "metadata": {},
   "outputs": [],
   "source": [
    "X_dynamic_train = df_dynamic.loc[X_train].reset_index()\n",
    "X_dynamic_train = X_dynamic_train.fillna(X_dynamic_train.mean())\n",
    "X_dynamic_train = X_dynamic_train.pivot_table(values=list(set(X_dynamic_train.columns)-set(['SK_ID_PREV', 'MONTHS_BALANCE','SK_ID_CURR'])), index='SK_ID_CURR', columns='MONTHS_BALANCE',aggfunc='sum', fill_value=0).values\n",
    "\n",
    "\n",
    "X_dynamic_test = df_dynamic.loc[X_test].reset_index()\n",
    "X_dynamic_test = X_dynamic_test.fillna(X_dynamic_train.mean())\n",
    "X_dynamic_test = X_dynamic_test.pivot_table(values=list(set(X_dynamic_test.columns)-set(['SK_ID_PREV', 'MONTHS_BALANCE','SK_ID_CURR'])), index='SK_ID_CURR', columns='MONTHS_BALANCE', aggfunc='sum', fill_value=0).values\n",
    "\n"
   ]
  },
  {
   "cell_type": "code",
   "execution_count": 36,
   "id": "reserved-walker",
   "metadata": {},
   "outputs": [],
   "source": [
    "X_dynamic_train_reshaped = np.zeros((33265, 97,22))\n",
    "\n",
    "for l in range(33265):\n",
    "    for o in range(97):\n",
    "        for i in range(22):\n",
    "            X_dynamic_train_reshaped[l,o,i]=X_dynamic_train[l,i*97+o]\n",
    "\n",
    "            \n",
    "X_dynamic_test_reshaped = np.zeros((16385, 97,22))\n",
    "\n",
    "for l in range(16385):\n",
    "    for o in range(97):\n",
    "        for i in range(22):\n",
    "            X_dynamic_test_reshaped[l,o,i]=X_dynamic_test[l,i*97+o]"
   ]
  },
  {
   "cell_type": "code",
   "execution_count": 8,
   "id": "empty-sarah",
   "metadata": {},
   "outputs": [],
   "source": [
    "scaler = StandardScaler()\n",
    "X_static_train = scaler.fit_transform(X_static_train)\n",
    "X_static_test = scaler.transform(X_static_test)"
   ]
  },
  {
   "cell_type": "code",
   "execution_count": 9,
   "id": "annoying-singer",
   "metadata": {},
   "outputs": [],
   "source": [
    "scalers = {}\n",
    "for i in range(X_dynamic_train_reshaped.shape[2]):\n",
    "    scalers[i] = MinMaxScaler()\n",
    "    X_dynamic_train_reshaped[:, :, i] = scalers[i].fit_transform(X_dynamic_train_reshaped[:, :, i]) \n",
    "\n",
    "for i in range(X_dynamic_test_reshaped.shape[2]):\n",
    "    X_dynamic_test_reshaped[:, :, 1] = scalers[i].transform(X_dynamic_test_reshaped[:, :, i]) "
   ]
  },
  {
   "cell_type": "code",
   "execution_count": 30,
   "id": "floral-shoot",
   "metadata": {
    "scrolled": true
   },
   "outputs": [],
   "source": [
    "# x_in_dy = Input(shape=(97,22))\n",
    "# x_in_st = Input(shape=(200))\n",
    "\n",
    "# x_dy = Bidirectional(LSTM(84, return_sequences=True))(x_in_dy)\n",
    "# x_dy = Dropout(0.6)(x_dy)\n",
    "# x_dy = Bidirectional(LSTM(46))(x_dy)\n",
    "\n",
    "# x_st = Dense(100, activation=\"relu\")(x_in_st)\n",
    "# x_st = Dropout(0.6)(x_st)\n",
    "# x_st = Dense(50, activation=\"relu\")(x_st)\n",
    "\n",
    "\n",
    "\n",
    "# z=concatenate([x_dy,x_st])\n",
    "\n",
    "# out = Dense(24, activation='relu')(z)\n",
    "# out = Dropout(0.5)(out)\n",
    "# out = Dense(1, activation='sigmoid')(out)\n",
    "# model1 = Model(inputs = [x_in_dy,x_in_st], outputs = out)\n",
    "\n",
    "\n",
    "# x_in_dy = Input(shape=(97,22))\n",
    "\n",
    "# x_dy = Bidirectional(LSTM(84, return_sequences=True))(x_in_dy)\n",
    "# x_dy = Dropout(0.5)(x_dy)\n",
    "# x_dy = Bidirectional(LSTM(46))(x_in_dy)\n",
    "\n",
    "# out = Dense(12, activation='relu')(x_dy)\n",
    "# # out = Dropout(0.5)(out)\n",
    "# out = Dense(1, activation='sigmoid')(out)\n",
    "# model1 = Model(inputs = x_in_dy, outputs = out)\n",
    "\n",
    "x_in_dy = Input(shape=(40,22))\n",
    "x_in_st = Input(shape=(200))\n",
    "\n",
    "x_dy = LSTM(84, return_sequences=True, go_backwards=True)(x_in_dy)\n",
    "x_dy = Dropout(0.6)(x_dy)\n",
    "x_dy = LSTM(46, go_backwards=True)(x_dy)\n",
    "\n",
    "x_st = Dense(100, activation=\"relu\")(x_in_st)\n",
    "x_st = Dropout(0.6)(x_st)\n",
    "x_st = Dense(50, activation=\"relu\")(x_st)\n",
    "\n",
    "\n",
    "\n",
    "z=concatenate([x_dy,x_st])\n",
    "\n",
    "out = Dense(24, activation='relu')(x_dy)\n",
    "out = Dropout(0.5)(out)\n",
    "out = Dense(1, activation='sigmoid')(out)\n",
    "model1 = Model(inputs = x_in_dy, outputs = out)"
   ]
  },
  {
   "cell_type": "code",
   "execution_count": 12,
   "id": "raising-perception",
   "metadata": {},
   "outputs": [],
   "source": [
    "# model1.compile(optimizer='rmsprop', \n",
    "#               loss = 'binary_crossentropy',\n",
    "#               metrics=['accuracy'])\n",
    "# history = model1.fit([X_dynamic_train, X_static_train], y_train, epochs=100, batch_size= 1000, validation_data=([X_dynamic_test, X_static_test], y_test)  )"
   ]
  },
  {
   "cell_type": "code",
   "execution_count": 31,
   "id": "expressed-flesh",
   "metadata": {},
   "outputs": [],
   "source": [
    "opt = tf.keras.optimizers.SGD(lr=0.002)\n",
    "m = tf.keras.metrics.AUC(num_thresholds=100)"
   ]
  },
  {
   "cell_type": "code",
   "execution_count": 32,
   "id": "another-peripheral",
   "metadata": {
    "scrolled": true
   },
   "outputs": [
    {
     "name": "stdout",
     "output_type": "stream",
     "text": [
      "Epoch 1/100\n",
      "167/167 [==============================] - 2s 13ms/step - loss: 0.6936 - auc_6: 0.4974 - val_loss: 0.6952 - val_auc_6: 0.5046\n",
      "Epoch 2/100\n",
      "167/167 [==============================] - 2s 11ms/step - loss: 0.6937 - auc_6: 0.4950 - val_loss: 0.6951 - val_auc_6: 0.5043\n",
      "Epoch 3/100\n",
      "167/167 [==============================] - 2s 9ms/step - loss: 0.6935 - auc_6: 0.4980 - val_loss: 0.6951 - val_auc_6: 0.5040\n",
      "Epoch 4/100\n",
      "167/167 [==============================] - 2s 10ms/step - loss: 0.6935 - auc_6: 0.4978 - val_loss: 0.6951 - val_auc_6: 0.5038\n",
      "Epoch 5/100\n",
      "167/167 [==============================] - 1s 9ms/step - loss: 0.6933 - auc_6: 0.5055 - val_loss: 0.6951 - val_auc_6: 0.5040\n",
      "Epoch 6/100\n",
      "167/167 [==============================] - 1s 9ms/step - loss: 0.6936 - auc_6: 0.4971 - val_loss: 0.6951 - val_auc_6: 0.5040\n",
      "Epoch 7/100\n",
      "167/167 [==============================] - 2s 11ms/step - loss: 0.6933 - auc_6: 0.5017 - val_loss: 0.6951 - val_auc_6: 0.5041\n",
      "Epoch 8/100\n",
      "167/167 [==============================] - 1s 8ms/step - loss: 0.6933 - auc_6: 0.5037 - val_loss: 0.6951 - val_auc_6: 0.5040\n",
      "Epoch 9/100\n",
      "167/167 [==============================] - 1s 9ms/step - loss: 0.6935 - auc_6: 0.4997 - val_loss: 0.6951 - val_auc_6: 0.5043\n",
      "Epoch 10/100\n",
      "167/167 [==============================] - 1s 9ms/step - loss: 0.6934 - auc_6: 0.4965 - val_loss: 0.6951 - val_auc_6: 0.5042\n",
      "Epoch 11/100\n",
      "167/167 [==============================] - 2s 9ms/step - loss: 0.6933 - auc_6: 0.5034 - val_loss: 0.6951 - val_auc_6: 0.5040\n",
      "Epoch 12/100\n",
      "167/167 [==============================] - 2s 11ms/step - loss: 0.6935 - auc_6: 0.4984 - val_loss: 0.6951 - val_auc_6: 0.5041\n",
      "Epoch 13/100\n",
      "167/167 [==============================] - 2s 12ms/step - loss: 0.6935 - auc_6: 0.4969 - val_loss: 0.6951 - val_auc_6: 0.5037\n",
      "Epoch 14/100\n",
      "167/167 [==============================] - 2s 14ms/step - loss: 0.6932 - auc_6: 0.5042 - val_loss: 0.6951 - val_auc_6: 0.5040\n",
      "Epoch 15/100\n",
      "167/167 [==============================] - 2s 13ms/step - loss: 0.6932 - auc_6: 0.5010 - val_loss: 0.6950 - val_auc_6: 0.5042\n",
      "Epoch 16/100\n",
      "167/167 [==============================] - 2s 12ms/step - loss: 0.6935 - auc_6: 0.4958 - val_loss: 0.6950 - val_auc_6: 0.5047\n",
      "Epoch 17/100\n",
      "167/167 [==============================] - 2s 10ms/step - loss: 0.6935 - auc_6: 0.4956 - val_loss: 0.6950 - val_auc_6: 0.5049\n",
      "Epoch 18/100\n",
      "167/167 [==============================] - 2s 12ms/step - loss: 0.6932 - auc_6: 0.5050 - val_loss: 0.6950 - val_auc_6: 0.5044\n",
      "Epoch 19/100\n",
      "167/167 [==============================] - 2s 13ms/step - loss: 0.6934 - auc_6: 0.4986 - val_loss: 0.6950 - val_auc_6: 0.5046\n",
      "Epoch 20/100\n",
      "167/167 [==============================] - 2s 15ms/step - loss: 0.6933 - auc_6: 0.5021 - val_loss: 0.6950 - val_auc_6: 0.5043\n",
      "Epoch 21/100\n",
      "167/167 [==============================] - 2s 11ms/step - loss: 0.6933 - auc_6: 0.5000 - val_loss: 0.6950 - val_auc_6: 0.5044\n",
      "Epoch 22/100\n",
      "167/167 [==============================] - 2s 11ms/step - loss: 0.6934 - auc_6: 0.4979 - val_loss: 0.6950 - val_auc_6: 0.5040\n",
      "Epoch 23/100\n",
      "167/167 [==============================] - 2s 13ms/step - loss: 0.6932 - auc_6: 0.5039 - val_loss: 0.6950 - val_auc_6: 0.5039\n",
      "Epoch 24/100\n",
      "167/167 [==============================] - 3s 16ms/step - loss: 0.6932 - auc_6: 0.5018 - val_loss: 0.6950 - val_auc_6: 0.5038\n",
      "Epoch 25/100\n",
      "167/167 [==============================] - 2s 15ms/step - loss: 0.6932 - auc_6: 0.5041 - val_loss: 0.6950 - val_auc_6: 0.5038\n",
      "Epoch 26/100\n",
      "167/167 [==============================] - 2s 9ms/step - loss: 0.6931 - auc_6: 0.5041 - val_loss: 0.6950 - val_auc_6: 0.5037\n",
      "Epoch 27/100\n",
      "167/167 [==============================] - 2s 12ms/step - loss: 0.6932 - auc_6: 0.5043 - val_loss: 0.6950 - val_auc_6: 0.5035\n",
      "Epoch 28/100\n",
      "167/167 [==============================] - 2s 13ms/step - loss: 0.6933 - auc_6: 0.4966 - val_loss: 0.6951 - val_auc_6: 0.5038\n",
      "Epoch 29/100\n",
      "167/167 [==============================] - 2s 11ms/step - loss: 0.6931 - auc_6: 0.5049 - val_loss: 0.6951 - val_auc_6: 0.5037\n",
      "Epoch 30/100\n",
      "167/167 [==============================] - 2s 12ms/step - loss: 0.6932 - auc_6: 0.5021 - val_loss: 0.6951 - val_auc_6: 0.5041\n",
      "Epoch 31/100\n",
      "167/167 [==============================] - 2s 14ms/step - loss: 0.6930 - auc_6: 0.5092 - val_loss: 0.6951 - val_auc_6: 0.5041\n",
      "Epoch 32/100\n",
      "167/167 [==============================] - 2s 14ms/step - loss: 0.6933 - auc_6: 0.5002 - val_loss: 0.6951 - val_auc_6: 0.5041\n",
      "Epoch 33/100\n",
      "167/167 [==============================] - 2s 12ms/step - loss: 0.6933 - auc_6: 0.4989 - val_loss: 0.6950 - val_auc_6: 0.5032\n",
      "Epoch 34/100\n",
      "167/167 [==============================] - 2s 13ms/step - loss: 0.6933 - auc_6: 0.4977 - val_loss: 0.6951 - val_auc_6: 0.5041\n",
      "Epoch 35/100\n",
      "167/167 [==============================] - 1s 9ms/step - loss: 0.6932 - auc_6: 0.4979 - val_loss: 0.6951 - val_auc_6: 0.5040\n",
      "Epoch 36/100\n",
      "167/167 [==============================] - 2s 12ms/step - loss: 0.6933 - auc_6: 0.4964 - val_loss: 0.6951 - val_auc_6: 0.5039\n",
      "Epoch 37/100\n",
      "167/167 [==============================] - 2s 11ms/step - loss: 0.6930 - auc_6: 0.5093 - val_loss: 0.6951 - val_auc_6: 0.5040\n",
      "Epoch 38/100\n",
      "167/167 [==============================] - 2s 11ms/step - loss: 0.6932 - auc_6: 0.4997 - val_loss: 0.6951 - val_auc_6: 0.5036\n",
      "Epoch 39/100\n",
      "167/167 [==============================] - 2s 12ms/step - loss: 0.6933 - auc_6: 0.4967 - val_loss: 0.6951 - val_auc_6: 0.5031\n",
      "Epoch 40/100\n",
      "167/167 [==============================] - 2s 10ms/step - loss: 0.6932 - auc_6: 0.5036 - val_loss: 0.6951 - val_auc_6: 0.5032\n",
      "Epoch 41/100\n",
      "167/167 [==============================] - 2s 11ms/step - loss: 0.6932 - auc_6: 0.5005 - val_loss: 0.6951 - val_auc_6: 0.5032\n",
      "Epoch 42/100\n",
      "167/167 [==============================] - 2s 11ms/step - loss: 0.6932 - auc_6: 0.5044 - val_loss: 0.6951 - val_auc_6: 0.5033\n",
      "Epoch 43/100\n",
      "167/167 [==============================] - 2s 11ms/step - loss: 0.6932 - auc_6: 0.5014 - val_loss: 0.6951 - val_auc_6: 0.5035\n",
      "Epoch 44/100\n",
      "167/167 [==============================] - 2s 14ms/step - loss: 0.6932 - auc_6: 0.5006 - val_loss: 0.6951 - val_auc_6: 0.5035\n",
      "Epoch 45/100\n",
      "167/167 [==============================] - 3s 15ms/step - loss: 0.6931 - auc_6: 0.5022 - val_loss: 0.6951 - val_auc_6: 0.5035\n",
      "Epoch 46/100\n",
      "167/167 [==============================] - 2s 9ms/step - loss: 0.6932 - auc_6: 0.4991 - val_loss: 0.6951 - val_auc_6: 0.5032\n",
      "Epoch 47/100\n",
      "167/167 [==============================] - 2s 13ms/step - loss: 0.6932 - auc_6: 0.4994 - val_loss: 0.6951 - val_auc_6: 0.5029\n",
      "Epoch 48/100\n",
      "167/167 [==============================] - 2s 11ms/step - loss: 0.6931 - auc_6: 0.5044 - val_loss: 0.6951 - val_auc_6: 0.5028\n",
      "Epoch 49/100\n",
      "167/167 [==============================] - 2s 10ms/step - loss: 0.6934 - auc_6: 0.4964 - val_loss: 0.6951 - val_auc_6: 0.5028\n",
      "Epoch 50/100\n",
      "167/167 [==============================] - 1s 9ms/step - loss: 0.6932 - auc_6: 0.5011 - val_loss: 0.6951 - val_auc_6: 0.5034\n",
      "Epoch 51/100\n",
      "167/167 [==============================] - 2s 9ms/step - loss: 0.6931 - auc_6: 0.5047 - val_loss: 0.6951 - val_auc_6: 0.5031\n",
      "Epoch 52/100\n",
      "167/167 [==============================] - 1s 9ms/step - loss: 0.6932 - auc_6: 0.4999 - val_loss: 0.6951 - val_auc_6: 0.5027\n",
      "Epoch 53/100\n",
      "167/167 [==============================] - 2s 9ms/step - loss: 0.6932 - auc_6: 0.5023 - val_loss: 0.6951 - val_auc_6: 0.5034\n",
      "Epoch 54/100\n",
      "167/167 [==============================] - 2s 9ms/step - loss: 0.6931 - auc_6: 0.5011 - val_loss: 0.6951 - val_auc_6: 0.5031\n",
      "Epoch 55/100\n",
      "167/167 [==============================] - 2s 11ms/step - loss: 0.6932 - auc_6: 0.5003 - val_loss: 0.6951 - val_auc_6: 0.5036\n",
      "Epoch 56/100\n",
      "167/167 [==============================] - 2s 9ms/step - loss: 0.6933 - auc_6: 0.4958 - val_loss: 0.6951 - val_auc_6: 0.5038\n",
      "Epoch 57/100\n",
      "167/167 [==============================] - 2s 11ms/step - loss: 0.6932 - auc_6: 0.5004 - val_loss: 0.6951 - val_auc_6: 0.5036\n",
      "Epoch 58/100\n",
      "167/167 [==============================] - 2s 12ms/step - loss: 0.6931 - auc_6: 0.5054 - val_loss: 0.6951 - val_auc_6: 0.5038\n",
      "Epoch 59/100\n",
      "167/167 [==============================] - 2s 13ms/step - loss: 0.6931 - auc_6: 0.5020 - val_loss: 0.6951 - val_auc_6: 0.5039\n",
      "Epoch 60/100\n"
     ]
    },
    {
     "name": "stdout",
     "output_type": "stream",
     "text": [
      "167/167 [==============================] - 2s 10ms/step - loss: 0.6933 - auc_6: 0.4967 - val_loss: 0.6951 - val_auc_6: 0.5039\n",
      "Epoch 61/100\n",
      "167/167 [==============================] - 2s 13ms/step - loss: 0.6932 - auc_6: 0.4999 - val_loss: 0.6951 - val_auc_6: 0.5040\n",
      "Epoch 62/100\n",
      "167/167 [==============================] - 2s 14ms/step - loss: 0.6930 - auc_6: 0.5057 - val_loss: 0.6951 - val_auc_6: 0.5039\n",
      "Epoch 63/100\n",
      "167/167 [==============================] - 3s 15ms/step - loss: 0.6932 - auc_6: 0.5015 - val_loss: 0.6951 - val_auc_6: 0.5037\n",
      "Epoch 64/100\n",
      "167/167 [==============================] - 3s 21ms/step - loss: 0.6932 - auc_6: 0.5036 - val_loss: 0.6951 - val_auc_6: 0.5039\n",
      "Epoch 65/100\n",
      "167/167 [==============================] - 3s 16ms/step - loss: 0.6932 - auc_6: 0.4989 - val_loss: 0.6951 - val_auc_6: 0.5034\n",
      "Epoch 66/100\n",
      "167/167 [==============================] - 2s 12ms/step - loss: 0.6932 - auc_6: 0.5009 - val_loss: 0.6951 - val_auc_6: 0.5034\n",
      "Epoch 67/100\n",
      "167/167 [==============================] - 2s 14ms/step - loss: 0.6932 - auc_6: 0.5000 - val_loss: 0.6951 - val_auc_6: 0.5034\n",
      "Epoch 68/100\n",
      "167/167 [==============================] - 3s 15ms/step - loss: 0.6932 - auc_6: 0.4989 - val_loss: 0.6951 - val_auc_6: 0.5037\n",
      "Epoch 69/100\n",
      "167/167 [==============================] - 2s 13ms/step - loss: 0.6932 - auc_6: 0.4993 - val_loss: 0.6951 - val_auc_6: 0.5038\n",
      "Epoch 70/100\n",
      "167/167 [==============================] - 2s 13ms/step - loss: 0.6931 - auc_6: 0.5039 - val_loss: 0.6951 - val_auc_6: 0.5036\n",
      "Epoch 71/100\n",
      "167/167 [==============================] - 3s 17ms/step - loss: 0.6931 - auc_6: 0.5041 - val_loss: 0.6951 - val_auc_6: 0.5033\n",
      "Epoch 72/100\n",
      "167/167 [==============================] - 3s 18ms/step - loss: 0.6932 - auc_6: 0.5013 - val_loss: 0.6951 - val_auc_6: 0.5035\n",
      "Epoch 73/100\n",
      "167/167 [==============================] - 3s 16ms/step - loss: 0.6930 - auc_6: 0.5068 - val_loss: 0.6951 - val_auc_6: 0.5038\n",
      "Epoch 74/100\n",
      "167/167 [==============================] - 3s 16ms/step - loss: 0.6933 - auc_6: 0.4968 - val_loss: 0.6950 - val_auc_6: 0.5032\n",
      "Epoch 75/100\n",
      "167/167 [==============================] - 2s 13ms/step - loss: 0.6932 - auc_6: 0.5000 - val_loss: 0.6951 - val_auc_6: 0.5036\n",
      "Epoch 76/100\n",
      "167/167 [==============================] - 2s 11ms/step - loss: 0.6932 - auc_6: 0.5002 - val_loss: 0.6951 - val_auc_6: 0.5042\n",
      "Epoch 77/100\n",
      "167/167 [==============================] - 2s 13ms/step - loss: 0.6932 - auc_6: 0.5008 - val_loss: 0.6951 - val_auc_6: 0.5040\n",
      "Epoch 78/100\n",
      "167/167 [==============================] - 2s 11ms/step - loss: 0.6932 - auc_6: 0.4989 - val_loss: 0.6951 - val_auc_6: 0.5041\n",
      "Epoch 79/100\n",
      "167/167 [==============================] - 3s 16ms/step - loss: 0.6932 - auc_6: 0.4994 - val_loss: 0.6950 - val_auc_6: 0.5041\n",
      "Epoch 80/100\n",
      "167/167 [==============================] - 3s 15ms/step - loss: 0.6931 - auc_6: 0.5050 - val_loss: 0.6950 - val_auc_6: 0.5036\n",
      "Epoch 81/100\n",
      "167/167 [==============================] - 2s 11ms/step - loss: 0.6932 - auc_6: 0.4964 - val_loss: 0.6950 - val_auc_6: 0.5036\n",
      "Epoch 82/100\n",
      "167/167 [==============================] - 3s 18ms/step - loss: 0.6930 - auc_6: 0.5087 - val_loss: 0.6950 - val_auc_6: 0.5040\n",
      "Epoch 83/100\n",
      "167/167 [==============================] - 3s 16ms/step - loss: 0.6931 - auc_6: 0.5042 - val_loss: 0.6950 - val_auc_6: 0.5041\n",
      "Epoch 84/100\n",
      "167/167 [==============================] - 2s 13ms/step - loss: 0.6931 - auc_6: 0.5065 - val_loss: 0.6950 - val_auc_6: 0.5041\n",
      "Epoch 85/100\n",
      "167/167 [==============================] - 2s 14ms/step - loss: 0.6932 - auc_6: 0.4997 - val_loss: 0.6950 - val_auc_6: 0.5039\n",
      "Epoch 86/100\n",
      "167/167 [==============================] - 2s 12ms/step - loss: 0.6932 - auc_6: 0.5023 - val_loss: 0.6950 - val_auc_6: 0.5037\n",
      "Epoch 87/100\n",
      "167/167 [==============================] - 2s 14ms/step - loss: 0.6932 - auc_6: 0.5008 - val_loss: 0.6950 - val_auc_6: 0.5039\n",
      "Epoch 88/100\n",
      "167/167 [==============================] - 2s 14ms/step - loss: 0.6931 - auc_6: 0.5022 - val_loss: 0.6950 - val_auc_6: 0.5040\n",
      "Epoch 89/100\n",
      "167/167 [==============================] - 2s 14ms/step - loss: 0.6932 - auc_6: 0.4964 - val_loss: 0.6950 - val_auc_6: 0.5041\n",
      "Epoch 90/100\n",
      "167/167 [==============================] - 2s 12ms/step - loss: 0.6931 - auc_6: 0.5025 - val_loss: 0.6950 - val_auc_6: 0.5041\n",
      "Epoch 91/100\n",
      "167/167 [==============================] - 2s 12ms/step - loss: 0.6931 - auc_6: 0.5044 - val_loss: 0.6950 - val_auc_6: 0.5041\n",
      "Epoch 92/100\n",
      "167/167 [==============================] - 2s 12ms/step - loss: 0.6932 - auc_6: 0.5032 - val_loss: 0.6950 - val_auc_6: 0.5040\n",
      "Epoch 93/100\n",
      "167/167 [==============================] - 2s 11ms/step - loss: 0.6931 - auc_6: 0.5026 - val_loss: 0.6950 - val_auc_6: 0.5039\n",
      "Epoch 94/100\n",
      "167/167 [==============================] - 2s 12ms/step - loss: 0.6931 - auc_6: 0.5026 - val_loss: 0.6950 - val_auc_6: 0.5040\n",
      "Epoch 95/100\n",
      "167/167 [==============================] - 3s 17ms/step - loss: 0.6931 - auc_6: 0.5041 - val_loss: 0.6950 - val_auc_6: 0.5039\n",
      "Epoch 96/100\n",
      "167/167 [==============================] - 2s 13ms/step - loss: 0.6931 - auc_6: 0.5046 - val_loss: 0.6950 - val_auc_6: 0.5040\n",
      "Epoch 97/100\n",
      "167/167 [==============================] - 2s 11ms/step - loss: 0.6931 - auc_6: 0.5024 - val_loss: 0.6950 - val_auc_6: 0.5040\n",
      "Epoch 98/100\n",
      "167/167 [==============================] - 2s 12ms/step - loss: 0.6931 - auc_6: 0.5018 - val_loss: 0.6950 - val_auc_6: 0.5039\n",
      "Epoch 99/100\n",
      "167/167 [==============================] - 3s 15ms/step - loss: 0.6931 - auc_6: 0.5048 - val_loss: 0.6950 - val_auc_6: 0.5040\n",
      "Epoch 100/100\n",
      "167/167 [==============================] - 2s 12ms/step - loss: 0.6932 - auc_6: 0.5020 - val_loss: 0.6950 - val_auc_6: 0.5037\n"
     ]
    }
   ],
   "source": [
    "# model1.compile(optimizer=opt, \n",
    "#               loss = 'binary_crossentropy',\n",
    "#               metrics=[m])\n",
    "# history = model1.fit( [X_dynamic_train_reshaped[:,-40:,:],X_static_train], y_train, epochs=500, batch_size= 500, validation_data=( [X_dynamic_test_reshaped[:,-40:,:],X_static_test], y_test)  )\n",
    "\n",
    "model1.compile(optimizer=opt, \n",
    "              loss = 'binary_crossentropy',\n",
    "              metrics=[m])\n",
    "history = model1.fit( X_dynamic_train_reshaped[:,-40:,:], y_train, epochs=100, batch_size= 200, validation_data= (X_dynamic_test_reshaped[:,-40:,:], y_test))"
   ]
  },
  {
   "cell_type": "code",
   "execution_count": 12,
   "id": "about-management",
   "metadata": {},
   "outputs": [
    {
     "data": {
      "image/png": "[encoded data removed]",
      "text/plain": [
       "<Figure size 432x288 with 1 Axes>"
      ]
     },
     "metadata": {
      "needs_background": "light"
     },
     "output_type": "display_data"
    }
   ],
   "source": [
    "loss_train = history.history['auc']\n",
    "loss_val = history.history['val_auc']\n",
    "epochs = range(500)\n",
    "plt.plot(epochs, loss_train, 'g', label='Training acc')\n",
    "plt.plot(epochs, loss_val, 'b', label='validation acc')\n",
    "plt.title('Training and Validation acc')\n",
    "plt.xlabel('Epochs')\n",
    "plt.ylabel('Acc')\n",
    "plt.legend()\n",
    "plt.show()"
   ]
  },
  {
   "cell_type": "code",
   "execution_count": 15,
   "id": "attached-exchange",
   "metadata": {},
   "outputs": [
    {
     "data": {
      "image/png": "[encoded data removed]",
      "text/plain": [
       "<Figure size 432x288 with 1 Axes>"
      ]
     },
     "metadata": {
      "needs_background": "light"
     },
     "output_type": "display_data"
    }
   ],
   "source": [
    "\n",
    "loss_train = history.history['auc']\n",
    "loss_val = history.history['val_auc']\n",
    "epochs = range(500)\n",
    "plt.plot(epochs, loss_train, 'g', label='Training acc')\n",
    "plt.plot(epochs, loss_val, 'b', label='validation acc')\n",
    "plt.title('Training and Validation acc')\n",
    "plt.xlabel('Epochs')\n",
    "plt.ylabel('Acc')\n",
    "plt.legend()\n",
    "plt.show()"
   ]
  },
  {
   "cell_type": "code",
   "execution_count": null,
   "id": "round-territory",
   "metadata": {},
   "outputs": [],
   "source": [
    "loss_train = history.history['auc']\n",
    "loss_val = history.history['val_auc']\n",
    "epochs = range(500)\n",
    "plt.plot(epochs, loss_train, 'g', label='Training acc')\n",
    "plt.plot(epochs, loss_val, 'b', label='validation acc')\n",
    "plt.title('Training and Validation acc')\n",
    "plt.xlabel('Epochs')\n",
    "plt.ylabel('Acc')\n",
    "plt.legend()\n",
    "plt.show()"
   ]
  },
  {
   "cell_type": "code",
   "execution_count": null,
   "id": "whole-memorabilia",
   "metadata": {},
   "outputs": [],
   "source": [
    "\n",
    "loss_train = history.history['auc']\n",
    "loss_val = history.history['val_auc']\n",
    "epochs = range(500)\n",
    "plt.plot(epochs, loss_train, 'g', label='Training acc')\n",
    "plt.plot(epochs, loss_val, 'b', label='validation acc')\n",
    "plt.title('Training and Validation acc')\n",
    "plt.xlabel('Epochs')\n",
    "plt.ylabel('Acc')\n",
    "plt.legend()\n",
    "plt.show()"
   ]
  },
  {
   "cell_type": "code",
   "execution_count": null,
   "id": "suited-allocation",
   "metadata": {},
   "outputs": [],
   "source": [
    "from sklearn.metrics import roc_curve\n",
    "y_pred = model1.predict([X_dynamic_test, X_static_test]).ravel()\n",
    "fpr_keras, tpr_keras, thresholds_keras = roc_curve(y_test, y_pred)"
   ]
  },
  {
   "cell_type": "code",
   "execution_count": null,
   "id": "limited-empty",
   "metadata": {},
   "outputs": [],
   "source": [
    "from sklearn.metrics import auc\n",
    "auc_keras = auc(fpr_keras, tpr_keras)"
   ]
  },
  {
   "cell_type": "code",
   "execution_count": null,
   "id": "private-horse",
   "metadata": {},
   "outputs": [],
   "source": [
    "plt.figure(1)\n",
    "plt.plot([0, 1], [0, 1], 'k--')\n",
    "plt.plot(fpr_keras, tpr_keras, label='Keras (area = {:.3f})'.format(auc_keras))\n",
    "# plt.plot(fpr_rf, tpr_rf, label='RF (area = {:.3f})'.format(auc_rf))\n",
    "plt.xlabel('False positive rate')\n",
    "plt.ylabel('True positive rate')\n",
    "plt.title('ROC curve')\n",
    "plt.legend(loc='best')\n",
    "plt.show()"
   ]
  },
  {
   "cell_type": "code",
   "execution_count": null,
   "id": "superior-parker",
   "metadata": {},
   "outputs": [],
   "source": [
    "print(thresholds_keras)"
   ]
  }
 ],
 "metadata": {
  "kernelspec": {
   "display_name": "Python 3",
   "language": "python",
   "name": "python3"
  },
  "language_info": {
   "codemirror_mode": {
    "name": "ipython",
    "version": 3
   },
   "file_extension": ".py",
   "mimetype": "text/x-python",
   "name": "python",
   "nbconvert_exporter": "python",
   "pygments_lexer": "ipython3",
   "version": "3.8.8"
  }
 },
 "nbformat": 4,
 "nbformat_minor": 5
}

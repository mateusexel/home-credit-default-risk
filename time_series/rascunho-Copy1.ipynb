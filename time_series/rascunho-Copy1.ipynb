{
 "cells": [
  {
   "cell_type": "code",
   "execution_count": 2,
   "id": "catholic-crisis",
   "metadata": {},
   "outputs": [],
   "source": [
    "import pandas as pd\n",
    "import numpy as np\n",
    "import matplotlib.pyplot as plt"
   ]
  },
  {
   "cell_type": "code",
   "execution_count": 3,
   "id": "aerial-laundry",
   "metadata": {},
   "outputs": [],
   "source": [
    "app =  pd.read_csv('../data/application_train.csv')\n",
    "credit_card_balance =  pd.read_csv('../treated_data/credit_card_balance.csv')\n",
    "POS_CASH_balance =  pd.read_csv('../treated_data/POS_CASH_balance.csv')\n",
    "installments_payments =  pd.read_csv('../treated_data/installments_payments.csv')\n"
   ]
  },
  {
   "cell_type": "code",
   "execution_count": 4,
   "id": "adjacent-product",
   "metadata": {
    "scrolled": true
   },
   "outputs": [],
   "source": [
    "credit_card_balance = credit_card_balance[credit_card_balance['MONTHS_BALANCE']>=-80]\n",
    "POS_CASH_balance = POS_CASH_balance[POS_CASH_balance['MONTHS_BALANCE']>=-80]\n",
    "installments_payments = installments_payments[installments_payments['MONTHS_BALANCE']>=-80]"
   ]
  },
  {
   "cell_type": "code",
   "execution_count": 12,
   "id": "front-february",
   "metadata": {},
   "outputs": [
    {
     "data": {
      "text/plain": [
       "SK_ID_PREV                      0\n",
       "SK_ID_CURR                      0\n",
       "MONTHS_BALANCE                  0\n",
       "AMT_DRAWINGS_POS_CURRENT      664\n",
       "AMT_PAYMENT_CURRENT         30365\n",
       "dtype: int64"
      ]
     },
     "execution_count": 12,
     "metadata": {},
     "output_type": "execute_result"
    }
   ],
   "source": [
    "credit_card_balance.isna().sum()"
   ]
  },
  {
   "cell_type": "code",
   "execution_count": 13,
   "id": "aggressive-confidence",
   "metadata": {
    "scrolled": true
   },
   "outputs": [],
   "source": [
    "df = pd.merge(app[['SK_ID_CURR', 'TARGET']], POS_CASH_balance, how='left')\n",
    "# df = pd.merge(df, credit_card_balance, how='left')\n",
    "df = pd.merge(df, installments_payments, how='left')\n",
    "df = df.fillna(df.mean())"
   ]
  },
  {
   "cell_type": "code",
   "execution_count": 15,
   "id": "prime-sellers",
   "metadata": {},
   "outputs": [],
   "source": [
    "df = df.fillna(df.mean())"
   ]
  },
  {
   "cell_type": "code",
   "execution_count": 16,
   "id": "opened-intent",
   "metadata": {},
   "outputs": [
    {
     "data": {
      "text/plain": [
       "SK_ID_CURR               0\n",
       "TARGET                   0\n",
       "SK_ID_PREV               0\n",
       "MONTHS_BALANCE           0\n",
       "CNT_INSTALMENT           0\n",
       "CNT_INSTALMENT_FUTURE    0\n",
       "DAYS_DELAYED             0\n",
       "DAYS_DELAYED.1           0\n",
       "dtype: int64"
      ]
     },
     "execution_count": 16,
     "metadata": {},
     "output_type": "execute_result"
    }
   ],
   "source": [
    "df.isna().sum()"
   ]
  },
  {
   "cell_type": "code",
   "execution_count": 40,
   "id": "solar-calibration",
   "metadata": {},
   "outputs": [],
   "source": [
    "y = app['TARGET']"
   ]
  },
  {
   "cell_type": "code",
   "execution_count": 21,
   "id": "suitable-exchange",
   "metadata": {},
   "outputs": [],
   "source": [
    "df = df.drop(['TARGET'], axis=1)"
   ]
  },
  {
   "cell_type": "code",
   "execution_count": 22,
   "id": "corporate-stopping",
   "metadata": {},
   "outputs": [],
   "source": [
    "df = df.pivot_table(values=list(set(df.columns) - set(['SK_ID_PREV', 'SK_ID_CURR', 'MONTHS_BALANCE'])), index='SK_ID_CURR', columns='MONTHS_BALANCE')\n"
   ]
  },
  {
   "cell_type": "code",
   "execution_count": 23,
   "id": "integrated-grain",
   "metadata": {},
   "outputs": [
    {
     "data": {
      "text/html": [
       "<div>\n",
       "<style scoped>\n",
       "    .dataframe tbody tr th:only-of-type {\n",
       "        vertical-align: middle;\n",
       "    }\n",
       "\n",
       "    .dataframe tbody tr th {\n",
       "        vertical-align: top;\n",
       "    }\n",
       "\n",
       "    .dataframe thead tr th {\n",
       "        text-align: left;\n",
       "    }\n",
       "\n",
       "    .dataframe thead tr:last-of-type th {\n",
       "        text-align: right;\n",
       "    }\n",
       "</style>\n",
       "<table border=\"1\" class=\"dataframe\">\n",
       "  <thead>\n",
       "    <tr>\n",
       "      <th></th>\n",
       "      <th colspan=\"10\" halign=\"left\">CNT_INSTALMENT</th>\n",
       "      <th>...</th>\n",
       "      <th colspan=\"10\" halign=\"left\">DAYS_DELAYED.1</th>\n",
       "    </tr>\n",
       "    <tr>\n",
       "      <th>MONTHS_BALANCE</th>\n",
       "      <th>-80.0</th>\n",
       "      <th>-79.0</th>\n",
       "      <th>-78.0</th>\n",
       "      <th>-77.0</th>\n",
       "      <th>-76.0</th>\n",
       "      <th>-75.0</th>\n",
       "      <th>-74.0</th>\n",
       "      <th>-73.0</th>\n",
       "      <th>-72.0</th>\n",
       "      <th>-71.0</th>\n",
       "      <th>...</th>\n",
       "      <th>-10.0</th>\n",
       "      <th>-9.0</th>\n",
       "      <th>-8.0</th>\n",
       "      <th>-7.0</th>\n",
       "      <th>-6.0</th>\n",
       "      <th>-5.0</th>\n",
       "      <th>-4.0</th>\n",
       "      <th>-3.0</th>\n",
       "      <th>-2.0</th>\n",
       "      <th>-1.0</th>\n",
       "    </tr>\n",
       "    <tr>\n",
       "      <th>SK_ID_CURR</th>\n",
       "      <th></th>\n",
       "      <th></th>\n",
       "      <th></th>\n",
       "      <th></th>\n",
       "      <th></th>\n",
       "      <th></th>\n",
       "      <th></th>\n",
       "      <th></th>\n",
       "      <th></th>\n",
       "      <th></th>\n",
       "      <th></th>\n",
       "      <th></th>\n",
       "      <th></th>\n",
       "      <th></th>\n",
       "      <th></th>\n",
       "      <th></th>\n",
       "      <th></th>\n",
       "      <th></th>\n",
       "      <th></th>\n",
       "      <th></th>\n",
       "      <th></th>\n",
       "    </tr>\n",
       "  </thead>\n",
       "  <tbody>\n",
       "    <tr>\n",
       "      <th>100002</th>\n",
       "      <td>NaN</td>\n",
       "      <td>NaN</td>\n",
       "      <td>NaN</td>\n",
       "      <td>NaN</td>\n",
       "      <td>NaN</td>\n",
       "      <td>NaN</td>\n",
       "      <td>NaN</td>\n",
       "      <td>NaN</td>\n",
       "      <td>NaN</td>\n",
       "      <td>NaN</td>\n",
       "      <td>...</td>\n",
       "      <td>17.000000</td>\n",
       "      <td>19.000000</td>\n",
       "      <td>15.000000</td>\n",
       "      <td>19.000000</td>\n",
       "      <td>19.000000</td>\n",
       "      <td>15.0</td>\n",
       "      <td>18.000000</td>\n",
       "      <td>14.0</td>\n",
       "      <td>12.0</td>\n",
       "      <td>24.0</td>\n",
       "    </tr>\n",
       "    <tr>\n",
       "      <th>100003</th>\n",
       "      <td>NaN</td>\n",
       "      <td>NaN</td>\n",
       "      <td>NaN</td>\n",
       "      <td>12.0</td>\n",
       "      <td>12.0</td>\n",
       "      <td>12.0</td>\n",
       "      <td>12.0</td>\n",
       "      <td>12.0</td>\n",
       "      <td>12.0</td>\n",
       "      <td>12.0</td>\n",
       "      <td>...</td>\n",
       "      <td>NaN</td>\n",
       "      <td>NaN</td>\n",
       "      <td>NaN</td>\n",
       "      <td>NaN</td>\n",
       "      <td>NaN</td>\n",
       "      <td>NaN</td>\n",
       "      <td>NaN</td>\n",
       "      <td>NaN</td>\n",
       "      <td>NaN</td>\n",
       "      <td>NaN</td>\n",
       "    </tr>\n",
       "    <tr>\n",
       "      <th>100004</th>\n",
       "      <td>NaN</td>\n",
       "      <td>NaN</td>\n",
       "      <td>NaN</td>\n",
       "      <td>NaN</td>\n",
       "      <td>NaN</td>\n",
       "      <td>NaN</td>\n",
       "      <td>NaN</td>\n",
       "      <td>NaN</td>\n",
       "      <td>NaN</td>\n",
       "      <td>NaN</td>\n",
       "      <td>...</td>\n",
       "      <td>NaN</td>\n",
       "      <td>NaN</td>\n",
       "      <td>NaN</td>\n",
       "      <td>NaN</td>\n",
       "      <td>NaN</td>\n",
       "      <td>NaN</td>\n",
       "      <td>NaN</td>\n",
       "      <td>NaN</td>\n",
       "      <td>NaN</td>\n",
       "      <td>NaN</td>\n",
       "    </tr>\n",
       "    <tr>\n",
       "      <th>100006</th>\n",
       "      <td>NaN</td>\n",
       "      <td>NaN</td>\n",
       "      <td>NaN</td>\n",
       "      <td>NaN</td>\n",
       "      <td>NaN</td>\n",
       "      <td>NaN</td>\n",
       "      <td>NaN</td>\n",
       "      <td>NaN</td>\n",
       "      <td>NaN</td>\n",
       "      <td>NaN</td>\n",
       "      <td>...</td>\n",
       "      <td>11.826665</td>\n",
       "      <td>4.000000</td>\n",
       "      <td>5.000000</td>\n",
       "      <td>5.000000</td>\n",
       "      <td>8.413333</td>\n",
       "      <td>18.0</td>\n",
       "      <td>9.413333</td>\n",
       "      <td>3.0</td>\n",
       "      <td>1.0</td>\n",
       "      <td>1.0</td>\n",
       "    </tr>\n",
       "    <tr>\n",
       "      <th>100007</th>\n",
       "      <td>NaN</td>\n",
       "      <td>NaN</td>\n",
       "      <td>NaN</td>\n",
       "      <td>10.0</td>\n",
       "      <td>10.0</td>\n",
       "      <td>10.0</td>\n",
       "      <td>10.0</td>\n",
       "      <td>10.0</td>\n",
       "      <td>10.0</td>\n",
       "      <td>10.0</td>\n",
       "      <td>...</td>\n",
       "      <td>3.000000</td>\n",
       "      <td>3.000000</td>\n",
       "      <td>4.000000</td>\n",
       "      <td>2.000000</td>\n",
       "      <td>4.000000</td>\n",
       "      <td>2.0</td>\n",
       "      <td>2.000000</td>\n",
       "      <td>2.0</td>\n",
       "      <td>1.0</td>\n",
       "      <td>0.0</td>\n",
       "    </tr>\n",
       "    <tr>\n",
       "      <th>...</th>\n",
       "      <td>...</td>\n",
       "      <td>...</td>\n",
       "      <td>...</td>\n",
       "      <td>...</td>\n",
       "      <td>...</td>\n",
       "      <td>...</td>\n",
       "      <td>...</td>\n",
       "      <td>...</td>\n",
       "      <td>...</td>\n",
       "      <td>...</td>\n",
       "      <td>...</td>\n",
       "      <td>...</td>\n",
       "      <td>...</td>\n",
       "      <td>...</td>\n",
       "      <td>...</td>\n",
       "      <td>...</td>\n",
       "      <td>...</td>\n",
       "      <td>...</td>\n",
       "      <td>...</td>\n",
       "      <td>...</td>\n",
       "      <td>...</td>\n",
       "    </tr>\n",
       "    <tr>\n",
       "      <th>456251</th>\n",
       "      <td>NaN</td>\n",
       "      <td>NaN</td>\n",
       "      <td>NaN</td>\n",
       "      <td>NaN</td>\n",
       "      <td>NaN</td>\n",
       "      <td>NaN</td>\n",
       "      <td>NaN</td>\n",
       "      <td>NaN</td>\n",
       "      <td>NaN</td>\n",
       "      <td>NaN</td>\n",
       "      <td>...</td>\n",
       "      <td>NaN</td>\n",
       "      <td>11.826665</td>\n",
       "      <td>11.826665</td>\n",
       "      <td>27.000000</td>\n",
       "      <td>42.000000</td>\n",
       "      <td>44.0</td>\n",
       "      <td>46.000000</td>\n",
       "      <td>46.0</td>\n",
       "      <td>41.0</td>\n",
       "      <td>8.0</td>\n",
       "    </tr>\n",
       "    <tr>\n",
       "      <th>456252</th>\n",
       "      <td>6.0</td>\n",
       "      <td>6.0</td>\n",
       "      <td>6.0</td>\n",
       "      <td>6.0</td>\n",
       "      <td>6.0</td>\n",
       "      <td>NaN</td>\n",
       "      <td>NaN</td>\n",
       "      <td>NaN</td>\n",
       "      <td>NaN</td>\n",
       "      <td>NaN</td>\n",
       "      <td>...</td>\n",
       "      <td>NaN</td>\n",
       "      <td>NaN</td>\n",
       "      <td>NaN</td>\n",
       "      <td>NaN</td>\n",
       "      <td>NaN</td>\n",
       "      <td>NaN</td>\n",
       "      <td>NaN</td>\n",
       "      <td>NaN</td>\n",
       "      <td>NaN</td>\n",
       "      <td>NaN</td>\n",
       "    </tr>\n",
       "    <tr>\n",
       "      <th>456253</th>\n",
       "      <td>NaN</td>\n",
       "      <td>NaN</td>\n",
       "      <td>NaN</td>\n",
       "      <td>NaN</td>\n",
       "      <td>NaN</td>\n",
       "      <td>NaN</td>\n",
       "      <td>NaN</td>\n",
       "      <td>NaN</td>\n",
       "      <td>NaN</td>\n",
       "      <td>NaN</td>\n",
       "      <td>...</td>\n",
       "      <td>NaN</td>\n",
       "      <td>NaN</td>\n",
       "      <td>NaN</td>\n",
       "      <td>NaN</td>\n",
       "      <td>NaN</td>\n",
       "      <td>NaN</td>\n",
       "      <td>NaN</td>\n",
       "      <td>NaN</td>\n",
       "      <td>NaN</td>\n",
       "      <td>NaN</td>\n",
       "    </tr>\n",
       "    <tr>\n",
       "      <th>456254</th>\n",
       "      <td>NaN</td>\n",
       "      <td>NaN</td>\n",
       "      <td>NaN</td>\n",
       "      <td>NaN</td>\n",
       "      <td>NaN</td>\n",
       "      <td>NaN</td>\n",
       "      <td>NaN</td>\n",
       "      <td>NaN</td>\n",
       "      <td>NaN</td>\n",
       "      <td>NaN</td>\n",
       "      <td>...</td>\n",
       "      <td>26.000000</td>\n",
       "      <td>13.913333</td>\n",
       "      <td>20.000000</td>\n",
       "      <td>23.000000</td>\n",
       "      <td>21.000000</td>\n",
       "      <td>18.0</td>\n",
       "      <td>16.000000</td>\n",
       "      <td>18.0</td>\n",
       "      <td>19.0</td>\n",
       "      <td>19.0</td>\n",
       "    </tr>\n",
       "    <tr>\n",
       "      <th>456255</th>\n",
       "      <td>NaN</td>\n",
       "      <td>NaN</td>\n",
       "      <td>NaN</td>\n",
       "      <td>NaN</td>\n",
       "      <td>NaN</td>\n",
       "      <td>NaN</td>\n",
       "      <td>NaN</td>\n",
       "      <td>NaN</td>\n",
       "      <td>NaN</td>\n",
       "      <td>NaN</td>\n",
       "      <td>...</td>\n",
       "      <td>1.333333</td>\n",
       "      <td>0.500000</td>\n",
       "      <td>2.200000</td>\n",
       "      <td>17.333333</td>\n",
       "      <td>15.500000</td>\n",
       "      <td>4.0</td>\n",
       "      <td>15.500000</td>\n",
       "      <td>2.0</td>\n",
       "      <td>10.0</td>\n",
       "      <td>NaN</td>\n",
       "    </tr>\n",
       "  </tbody>\n",
       "</table>\n",
       "<p>307511 rows × 324 columns</p>\n",
       "</div>"
      ],
      "text/plain": [
       "               CNT_INSTALMENT                                                  \\\n",
       "MONTHS_BALANCE          -80.0 -79.0 -78.0 -77.0 -76.0 -75.0 -74.0 -73.0 -72.0   \n",
       "SK_ID_CURR                                                                      \n",
       "100002                    NaN   NaN   NaN   NaN   NaN   NaN   NaN   NaN   NaN   \n",
       "100003                    NaN   NaN   NaN  12.0  12.0  12.0  12.0  12.0  12.0   \n",
       "100004                    NaN   NaN   NaN   NaN   NaN   NaN   NaN   NaN   NaN   \n",
       "100006                    NaN   NaN   NaN   NaN   NaN   NaN   NaN   NaN   NaN   \n",
       "100007                    NaN   NaN   NaN  10.0  10.0  10.0  10.0  10.0  10.0   \n",
       "...                       ...   ...   ...   ...   ...   ...   ...   ...   ...   \n",
       "456251                    NaN   NaN   NaN   NaN   NaN   NaN   NaN   NaN   NaN   \n",
       "456252                    6.0   6.0   6.0   6.0   6.0   NaN   NaN   NaN   NaN   \n",
       "456253                    NaN   NaN   NaN   NaN   NaN   NaN   NaN   NaN   NaN   \n",
       "456254                    NaN   NaN   NaN   NaN   NaN   NaN   NaN   NaN   NaN   \n",
       "456255                    NaN   NaN   NaN   NaN   NaN   NaN   NaN   NaN   NaN   \n",
       "\n",
       "                      ... DAYS_DELAYED.1                                   \\\n",
       "MONTHS_BALANCE -71.0  ...          -10.0      -9.0       -8.0       -7.0    \n",
       "SK_ID_CURR            ...                                                   \n",
       "100002           NaN  ...      17.000000  19.000000  15.000000  19.000000   \n",
       "100003          12.0  ...            NaN        NaN        NaN        NaN   \n",
       "100004           NaN  ...            NaN        NaN        NaN        NaN   \n",
       "100006           NaN  ...      11.826665   4.000000   5.000000   5.000000   \n",
       "100007          10.0  ...       3.000000   3.000000   4.000000   2.000000   \n",
       "...              ...  ...            ...        ...        ...        ...   \n",
       "456251           NaN  ...            NaN  11.826665  11.826665  27.000000   \n",
       "456252           NaN  ...            NaN        NaN        NaN        NaN   \n",
       "456253           NaN  ...            NaN        NaN        NaN        NaN   \n",
       "456254           NaN  ...      26.000000  13.913333  20.000000  23.000000   \n",
       "456255           NaN  ...       1.333333   0.500000   2.200000  17.333333   \n",
       "\n",
       "                                                              \n",
       "MONTHS_BALANCE      -6.0  -5.0       -4.0  -3.0  -2.0  -1.0   \n",
       "SK_ID_CURR                                                    \n",
       "100002          19.000000  15.0  18.000000  14.0  12.0  24.0  \n",
       "100003                NaN   NaN        NaN   NaN   NaN   NaN  \n",
       "100004                NaN   NaN        NaN   NaN   NaN   NaN  \n",
       "100006           8.413333  18.0   9.413333   3.0   1.0   1.0  \n",
       "100007           4.000000   2.0   2.000000   2.0   1.0   0.0  \n",
       "...                   ...   ...        ...   ...   ...   ...  \n",
       "456251          42.000000  44.0  46.000000  46.0  41.0   8.0  \n",
       "456252                NaN   NaN        NaN   NaN   NaN   NaN  \n",
       "456253                NaN   NaN        NaN   NaN   NaN   NaN  \n",
       "456254          21.000000  18.0  16.000000  18.0  19.0  19.0  \n",
       "456255          15.500000   4.0  15.500000   2.0  10.0   NaN  \n",
       "\n",
       "[307511 rows x 324 columns]"
      ]
     },
     "execution_count": 23,
     "metadata": {},
     "output_type": "execute_result"
    }
   ],
   "source": [
    "df"
   ]
  },
  {
   "cell_type": "code",
   "execution_count": 27,
   "id": "reflected-remedy",
   "metadata": {},
   "outputs": [],
   "source": [
    "df = df.values.reshape((307511,81,4))"
   ]
  },
  {
   "cell_type": "code",
   "execution_count": 30,
   "id": "hearing-brick",
   "metadata": {},
   "outputs": [],
   "source": [
    "df = np.nan_to_num(df)"
   ]
  },
  {
   "cell_type": "code",
   "execution_count": 41,
   "id": "logical-cooperation",
   "metadata": {},
   "outputs": [],
   "source": [
    "y = y.to_numpy()"
   ]
  },
  {
   "cell_type": "code",
   "execution_count": 35,
   "id": "common-duration",
   "metadata": {
    "scrolled": true
   },
   "outputs": [
    {
     "ename": "ValueError",
     "evalue": "Expected 1D or 2D array, got 3D array instead",
     "output_type": "error",
     "traceback": [
      "\u001b[0;31m--------------------------------------------------------------------------\u001b[0m",
      "\u001b[0;31mValueError\u001b[0m                               Traceback (most recent call last)",
      "\u001b[0;32m<ipython-input-35-5e115e40b05c>\u001b[0m in \u001b[0;36m<module>\u001b[0;34m\u001b[0m\n\u001b[0;32m----> 1\u001b[0;31m \u001b[0mnp\u001b[0m\u001b[0;34m.\u001b[0m\u001b[0msavetxt\u001b[0m\u001b[0;34m(\u001b[0m\u001b[0;34m'../data/X_train.csv'\u001b[0m\u001b[0;34m,\u001b[0m \u001b[0mdf\u001b[0m\u001b[0;34m,\u001b[0m \u001b[0mdelimiter\u001b[0m\u001b[0;34m=\u001b[0m\u001b[0;34m','\u001b[0m\u001b[0;34m)\u001b[0m\u001b[0;34m\u001b[0m\u001b[0;34m\u001b[0m\u001b[0m\n\u001b[0m\u001b[1;32m      2\u001b[0m \u001b[0mnp\u001b[0m\u001b[0;34m.\u001b[0m\u001b[0msavetxt\u001b[0m\u001b[0;34m(\u001b[0m\u001b[0;34m'../data/Y_train.csv'\u001b[0m\u001b[0;34m,\u001b[0m \u001b[0my\u001b[0m\u001b[0;34m,\u001b[0m \u001b[0mdelimiter\u001b[0m\u001b[0;34m=\u001b[0m\u001b[0;34m','\u001b[0m\u001b[0;34m)\u001b[0m\u001b[0;34m\u001b[0m\u001b[0;34m\u001b[0m\u001b[0m\n",
      "\u001b[0;32m<__array_function__ internals>\u001b[0m in \u001b[0;36msavetxt\u001b[0;34m(*args, **kwargs)\u001b[0m\n",
      "\u001b[0;32m~/anaconda3/envs/home-credit/lib/python3.8/site-packages/numpy/lib/npyio.py\u001b[0m in \u001b[0;36msavetxt\u001b[0;34m(fname, X, fmt, delimiter, newline, header, footer, comments, encoding)\u001b[0m\n\u001b[1;32m   1369\u001b[0m         \u001b[0;31m# Handle 1-dimensional arrays\u001b[0m\u001b[0;34m\u001b[0m\u001b[0;34m\u001b[0m\u001b[0;34m\u001b[0m\u001b[0m\n\u001b[1;32m   1370\u001b[0m         \u001b[0;32mif\u001b[0m \u001b[0mX\u001b[0m\u001b[0;34m.\u001b[0m\u001b[0mndim\u001b[0m \u001b[0;34m==\u001b[0m \u001b[0;36m0\u001b[0m \u001b[0;32mor\u001b[0m \u001b[0mX\u001b[0m\u001b[0;34m.\u001b[0m\u001b[0mndim\u001b[0m \u001b[0;34m>\u001b[0m \u001b[0;36m2\u001b[0m\u001b[0;34m:\u001b[0m\u001b[0;34m\u001b[0m\u001b[0;34m\u001b[0m\u001b[0m\n\u001b[0;32m-> 1371\u001b[0;31m             raise ValueError(\n\u001b[0m\u001b[1;32m   1372\u001b[0m                 \"Expected 1D or 2D array, got %dD array instead\" % X.ndim)\n\u001b[1;32m   1373\u001b[0m         \u001b[0;32melif\u001b[0m \u001b[0mX\u001b[0m\u001b[0;34m.\u001b[0m\u001b[0mndim\u001b[0m \u001b[0;34m==\u001b[0m \u001b[0;36m1\u001b[0m\u001b[0;34m:\u001b[0m\u001b[0;34m\u001b[0m\u001b[0;34m\u001b[0m\u001b[0m\n",
      "\u001b[0;31mValueError\u001b[0m: Expected 1D or 2D array, got 3D array instead"
     ]
    }
   ],
   "source": [
    "# np.savetxt('../data/X_train.csv', df, delimiter=',')\n",
    "# np.savetxt('../data/Y_train.csv', y, delimiter=',')"
   ]
  },
  {
   "cell_type": "code",
   "execution_count": 39,
   "id": "falling-chinese",
   "metadata": {},
   "outputs": [
    {
     "data": {
      "text/plain": [
       "8576306"
      ]
     },
     "execution_count": 39,
     "metadata": {},
     "output_type": "execute_result"
    }
   ],
   "source": [
    "len(y)"
   ]
  },
  {
   "cell_type": "code",
   "execution_count": 44,
   "id": "minor-committee",
   "metadata": {},
   "outputs": [],
   "source": [
    "from sklearn.model_selection import train_test_split\n",
    "import tensorflow as tf\n",
    "from tensorflow import keras\n",
    "from tensorflow.keras import layers\n",
    "physical_devices = tf.config.list_physical_devices('GPU')\n",
    "tf.config.experimental.set_memory_growth(physical_devices[0], enable=True)"
   ]
  },
  {
   "cell_type": "code",
   "execution_count": 42,
   "id": "religious-performance",
   "metadata": {},
   "outputs": [],
   "source": [
    "X_train, X_test, y_train, y_test = train_test_split(df, y, test_size=0.33, random_state=42)"
   ]
  },
  {
   "cell_type": "code",
   "execution_count": 45,
   "id": "former-ivory",
   "metadata": {},
   "outputs": [],
   "source": [
    "model = tf.keras.Sequential([\n",
    "    tf.keras.layers.LSTM(4, return_sequences = True),\n",
    "    tf.keras.layers.LSTM(2, return_sequences = False)\n",
    "])"
   ]
  },
  {
   "cell_type": "code",
   "execution_count": 46,
   "id": "preceding-railway",
   "metadata": {},
   "outputs": [],
   "source": [
    "model.compile(optimizer='adam', \n",
    "              loss='mean_squared_error', \n",
    "              metrics='accuracy')"
   ]
  },
  {
   "cell_type": "code",
   "execution_count": null,
   "id": "numeric-beads",
   "metadata": {},
   "outputs": [
    {
     "name": "stdout",
     "output_type": "stream",
     "text": [
      "Epoch 1/50\n",
      "413/413 [==============================] - 4s 10ms/step - loss: 0.0739 - accuracy: 0.5490 - val_loss: 0.0732 - val_accuracy: 0.7238\n",
      "Epoch 2/50\n",
      "413/413 [==============================] - 4s 10ms/step - loss: 0.0739 - accuracy: 0.5461 - val_loss: 0.0732 - val_accuracy: 0.4482\n",
      "Epoch 3/50\n",
      "413/413 [==============================] - 6s 14ms/step - loss: 0.0739 - accuracy: 0.5621 - val_loss: 0.0732 - val_accuracy: 0.5645\n",
      "Epoch 4/50\n",
      "413/413 [==============================] - 5s 11ms/step - loss: 0.0739 - accuracy: 0.5656 - val_loss: 0.0732 - val_accuracy: 0.6592\n",
      "Epoch 5/50\n",
      "413/413 [==============================] - 4s 9ms/step - loss: 0.0739 - accuracy: 0.5597 - val_loss: 0.0732 - val_accuracy: 0.6652\n",
      "Epoch 6/50\n",
      "413/413 [==============================] - 5s 13ms/step - loss: 0.0739 - accuracy: 0.5809 - val_loss: 0.0732 - val_accuracy: 0.5690\n",
      "Epoch 7/50\n",
      "413/413 [==============================] - 5s 13ms/step - loss: 0.0739 - accuracy: 0.5433 - val_loss: 0.0732 - val_accuracy: 0.5310\n",
      "Epoch 8/50\n",
      "410/413 [============================>.] - ETA: 0s - loss: 0.0739 - accuracy: 0.5747"
     ]
    }
   ],
   "source": [
    "history = model.fit(x=X_train, y=y_train, epochs= 50, batch_size=500, validation_data=(X_test,y_test) )"
   ]
  },
  {
   "cell_type": "code",
   "execution_count": null,
   "id": "alpine-anger",
   "metadata": {},
   "outputs": [],
   "source": [
    "loss_train = history.history['train_loss']\n",
    "loss_val = history.history['val_loss']\n",
    "epochs = range(1,35)\n",
    "plt.plot(epochs, loss_train, 'g', label='Training loss')\n",
    "plt.plot(epochs, loss_val, 'b', label='validation loss')\n",
    "plt.title('Training and Validation loss')\n",
    "plt.xlabel('Epochs')\n",
    "plt.ylabel('Loss')\n",
    "plt.legend()\n",
    "plt.show()"
   ]
  },
  {
   "cell_type": "code",
   "execution_count": null,
   "id": "german-crown",
   "metadata": {},
   "outputs": [],
   "source": [
    "cre_fill = credit_card_balance.fillna('mean')"
   ]
  },
  {
   "cell_type": "code",
   "execution_count": null,
   "id": "friendly-district",
   "metadata": {},
   "outputs": [],
   "source": [
    "cre_fill.astype(int)"
   ]
  },
  {
   "cell_type": "code",
   "execution_count": 5,
   "id": "rocky-sleep",
   "metadata": {},
   "outputs": [],
   "source": []
  },
  {
   "cell_type": "code",
   "execution_count": 6,
   "id": "related-karaoke",
   "metadata": {},
   "outputs": [
    {
     "name": "stdout",
     "output_type": "stream",
     "text": [
      "307511\n",
      "86905\n",
      "285213\n",
      "288410\n"
     ]
    }
   ],
   "source": [
    "\n",
    "print(len(set(app['SK_ID_CURR'])))\n",
    "print(len(set(credit_card_balance['SK_ID_CURR'])))\n",
    "print(len(set(POS_CASH_balance['SK_ID_CURR'])))\n",
    "print(len(set(installments_payments['SK_ID_CURR'])))"
   ]
  },
  {
   "cell_type": "code",
   "execution_count": 6,
   "id": "parliamentary-vanilla",
   "metadata": {},
   "outputs": [],
   "source": [
    "# values =list(set(installments_payments.columns) - set(['SK_ID_PREV', 'SK_ID_CURR', 'MONTHS_BALANCE']))"
   ]
  },
  {
   "cell_type": "code",
   "execution_count": 7,
   "id": "convenient-reconstruction",
   "metadata": {},
   "outputs": [
    {
     "data": {
      "text/plain": [
       "Index(['SK_ID_PREV', 'SK_ID_CURR', 'MONTHS_BALANCE', 'CNT_INSTALMENT',\n",
       "       'CNT_INSTALMENT_FUTURE', 'NAME_CONTRACT_STATUS', 'SK_DPD',\n",
       "       'SK_DPD_DEF'],\n",
       "      dtype='object')"
      ]
     },
     "execution_count": 7,
     "metadata": {},
     "output_type": "execute_result"
    }
   ],
   "source": [
    "POS_CASH_balance.columns"
   ]
  },
  {
   "cell_type": "code",
   "execution_count": 9,
   "id": "improved-grounds",
   "metadata": {
    "scrolled": true
   },
   "outputs": [],
   "source": [
    "credit_card_balance = credit_card_balance.pivot_table(values=list(set(credit_card_balance.columns) - set(['SK_ID_PREV', 'SK_ID_CURR', 'MONTHS_BALANCE'])), index='SK_ID_CURR', columns='MONTHS_BALANCE')\n",
    "\n",
    "POS_CASH_balance = POS_CASH_balance.pivot_table(values=list(set(POS_CASH_balance.columns) - set(['SK_ID_PREV', 'SK_ID_CURR', 'MONTHS_BALANCE'])), index='SK_ID_CURR', columns='MONTHS_BALANCE')\n",
    "\n",
    "installments_payments = installments_payments.pivot_table(values=list(set(installments_payments.columns) - set(['SK_ID_PREV', 'SK_ID_CURR', 'MONTHS_BALANCE'])), index='SK_ID_CURR', columns='MONTHS_BALANCE')"
   ]
  },
  {
   "cell_type": "code",
   "execution_count": 24,
   "id": "photographic-incentive",
   "metadata": {},
   "outputs": [
    {
     "data": {
      "text/html": [
       "<div>\n",
       "<style scoped>\n",
       "    .dataframe tbody tr th:only-of-type {\n",
       "        vertical-align: middle;\n",
       "    }\n",
       "\n",
       "    .dataframe tbody tr th {\n",
       "        vertical-align: top;\n",
       "    }\n",
       "\n",
       "    .dataframe thead tr th {\n",
       "        text-align: left;\n",
       "    }\n",
       "\n",
       "    .dataframe thead tr:last-of-type th {\n",
       "        text-align: right;\n",
       "    }\n",
       "</style>\n",
       "<table border=\"1\" class=\"dataframe\">\n",
       "  <thead>\n",
       "    <tr>\n",
       "      <th></th>\n",
       "      <th colspan=\"10\" halign=\"left\">CNT_INSTALMENT</th>\n",
       "      <th>...</th>\n",
       "      <th colspan=\"10\" halign=\"left\">SK_DPD_DEF</th>\n",
       "    </tr>\n",
       "    <tr>\n",
       "      <th>MONTHS_BALANCE</th>\n",
       "      <th>-80</th>\n",
       "      <th>-79</th>\n",
       "      <th>-78</th>\n",
       "      <th>-77</th>\n",
       "      <th>-76</th>\n",
       "      <th>-75</th>\n",
       "      <th>-74</th>\n",
       "      <th>-73</th>\n",
       "      <th>-72</th>\n",
       "      <th>-71</th>\n",
       "      <th>...</th>\n",
       "      <th>-10</th>\n",
       "      <th>-9</th>\n",
       "      <th>-8</th>\n",
       "      <th>-7</th>\n",
       "      <th>-6</th>\n",
       "      <th>-5</th>\n",
       "      <th>-4</th>\n",
       "      <th>-3</th>\n",
       "      <th>-2</th>\n",
       "      <th>-1</th>\n",
       "    </tr>\n",
       "    <tr>\n",
       "      <th>SK_ID_CURR</th>\n",
       "      <th></th>\n",
       "      <th></th>\n",
       "      <th></th>\n",
       "      <th></th>\n",
       "      <th></th>\n",
       "      <th></th>\n",
       "      <th></th>\n",
       "      <th></th>\n",
       "      <th></th>\n",
       "      <th></th>\n",
       "      <th></th>\n",
       "      <th></th>\n",
       "      <th></th>\n",
       "      <th></th>\n",
       "      <th></th>\n",
       "      <th></th>\n",
       "      <th></th>\n",
       "      <th></th>\n",
       "      <th></th>\n",
       "      <th></th>\n",
       "      <th></th>\n",
       "    </tr>\n",
       "  </thead>\n",
       "  <tbody>\n",
       "    <tr>\n",
       "      <th>100002</th>\n",
       "      <td>NaN</td>\n",
       "      <td>NaN</td>\n",
       "      <td>NaN</td>\n",
       "      <td>NaN</td>\n",
       "      <td>NaN</td>\n",
       "      <td>NaN</td>\n",
       "      <td>NaN</td>\n",
       "      <td>NaN</td>\n",
       "      <td>NaN</td>\n",
       "      <td>NaN</td>\n",
       "      <td>...</td>\n",
       "      <td>0.0</td>\n",
       "      <td>0.0</td>\n",
       "      <td>0.0</td>\n",
       "      <td>0.0</td>\n",
       "      <td>0.0</td>\n",
       "      <td>0.0</td>\n",
       "      <td>0.0</td>\n",
       "      <td>0.0</td>\n",
       "      <td>0.0</td>\n",
       "      <td>0.0</td>\n",
       "    </tr>\n",
       "    <tr>\n",
       "      <th>100003</th>\n",
       "      <td>NaN</td>\n",
       "      <td>NaN</td>\n",
       "      <td>NaN</td>\n",
       "      <td>12.0</td>\n",
       "      <td>12.0</td>\n",
       "      <td>12.0</td>\n",
       "      <td>12.0</td>\n",
       "      <td>12.0</td>\n",
       "      <td>12.0</td>\n",
       "      <td>12.0</td>\n",
       "      <td>...</td>\n",
       "      <td>NaN</td>\n",
       "      <td>NaN</td>\n",
       "      <td>NaN</td>\n",
       "      <td>NaN</td>\n",
       "      <td>NaN</td>\n",
       "      <td>NaN</td>\n",
       "      <td>NaN</td>\n",
       "      <td>NaN</td>\n",
       "      <td>NaN</td>\n",
       "      <td>NaN</td>\n",
       "    </tr>\n",
       "    <tr>\n",
       "      <th>100004</th>\n",
       "      <td>NaN</td>\n",
       "      <td>NaN</td>\n",
       "      <td>NaN</td>\n",
       "      <td>NaN</td>\n",
       "      <td>NaN</td>\n",
       "      <td>NaN</td>\n",
       "      <td>NaN</td>\n",
       "      <td>NaN</td>\n",
       "      <td>NaN</td>\n",
       "      <td>NaN</td>\n",
       "      <td>...</td>\n",
       "      <td>NaN</td>\n",
       "      <td>NaN</td>\n",
       "      <td>NaN</td>\n",
       "      <td>NaN</td>\n",
       "      <td>NaN</td>\n",
       "      <td>NaN</td>\n",
       "      <td>NaN</td>\n",
       "      <td>NaN</td>\n",
       "      <td>NaN</td>\n",
       "      <td>NaN</td>\n",
       "    </tr>\n",
       "    <tr>\n",
       "      <th>100006</th>\n",
       "      <td>NaN</td>\n",
       "      <td>NaN</td>\n",
       "      <td>NaN</td>\n",
       "      <td>NaN</td>\n",
       "      <td>NaN</td>\n",
       "      <td>NaN</td>\n",
       "      <td>NaN</td>\n",
       "      <td>NaN</td>\n",
       "      <td>NaN</td>\n",
       "      <td>NaN</td>\n",
       "      <td>...</td>\n",
       "      <td>0.0</td>\n",
       "      <td>0.0</td>\n",
       "      <td>0.0</td>\n",
       "      <td>0.0</td>\n",
       "      <td>0.0</td>\n",
       "      <td>0.0</td>\n",
       "      <td>0.0</td>\n",
       "      <td>0.0</td>\n",
       "      <td>0.0</td>\n",
       "      <td>0.0</td>\n",
       "    </tr>\n",
       "    <tr>\n",
       "      <th>100007</th>\n",
       "      <td>NaN</td>\n",
       "      <td>NaN</td>\n",
       "      <td>NaN</td>\n",
       "      <td>10.0</td>\n",
       "      <td>10.0</td>\n",
       "      <td>10.0</td>\n",
       "      <td>10.0</td>\n",
       "      <td>10.0</td>\n",
       "      <td>10.0</td>\n",
       "      <td>10.0</td>\n",
       "      <td>...</td>\n",
       "      <td>0.0</td>\n",
       "      <td>0.0</td>\n",
       "      <td>0.0</td>\n",
       "      <td>0.0</td>\n",
       "      <td>0.0</td>\n",
       "      <td>0.0</td>\n",
       "      <td>0.0</td>\n",
       "      <td>0.0</td>\n",
       "      <td>0.0</td>\n",
       "      <td>0.0</td>\n",
       "    </tr>\n",
       "    <tr>\n",
       "      <th>...</th>\n",
       "      <td>...</td>\n",
       "      <td>...</td>\n",
       "      <td>...</td>\n",
       "      <td>...</td>\n",
       "      <td>...</td>\n",
       "      <td>...</td>\n",
       "      <td>...</td>\n",
       "      <td>...</td>\n",
       "      <td>...</td>\n",
       "      <td>...</td>\n",
       "      <td>...</td>\n",
       "      <td>...</td>\n",
       "      <td>...</td>\n",
       "      <td>...</td>\n",
       "      <td>...</td>\n",
       "      <td>...</td>\n",
       "      <td>...</td>\n",
       "      <td>...</td>\n",
       "      <td>...</td>\n",
       "      <td>...</td>\n",
       "      <td>...</td>\n",
       "    </tr>\n",
       "    <tr>\n",
       "      <th>456251</th>\n",
       "      <td>NaN</td>\n",
       "      <td>NaN</td>\n",
       "      <td>NaN</td>\n",
       "      <td>NaN</td>\n",
       "      <td>NaN</td>\n",
       "      <td>NaN</td>\n",
       "      <td>NaN</td>\n",
       "      <td>NaN</td>\n",
       "      <td>NaN</td>\n",
       "      <td>NaN</td>\n",
       "      <td>...</td>\n",
       "      <td>NaN</td>\n",
       "      <td>0.0</td>\n",
       "      <td>0.0</td>\n",
       "      <td>0.0</td>\n",
       "      <td>0.0</td>\n",
       "      <td>0.0</td>\n",
       "      <td>0.0</td>\n",
       "      <td>0.0</td>\n",
       "      <td>0.0</td>\n",
       "      <td>0.0</td>\n",
       "    </tr>\n",
       "    <tr>\n",
       "      <th>456252</th>\n",
       "      <td>6.0</td>\n",
       "      <td>6.0</td>\n",
       "      <td>6.0</td>\n",
       "      <td>6.0</td>\n",
       "      <td>6.0</td>\n",
       "      <td>NaN</td>\n",
       "      <td>NaN</td>\n",
       "      <td>NaN</td>\n",
       "      <td>NaN</td>\n",
       "      <td>NaN</td>\n",
       "      <td>...</td>\n",
       "      <td>NaN</td>\n",
       "      <td>NaN</td>\n",
       "      <td>NaN</td>\n",
       "      <td>NaN</td>\n",
       "      <td>NaN</td>\n",
       "      <td>NaN</td>\n",
       "      <td>NaN</td>\n",
       "      <td>NaN</td>\n",
       "      <td>NaN</td>\n",
       "      <td>NaN</td>\n",
       "    </tr>\n",
       "    <tr>\n",
       "      <th>456253</th>\n",
       "      <td>NaN</td>\n",
       "      <td>NaN</td>\n",
       "      <td>NaN</td>\n",
       "      <td>NaN</td>\n",
       "      <td>NaN</td>\n",
       "      <td>NaN</td>\n",
       "      <td>NaN</td>\n",
       "      <td>NaN</td>\n",
       "      <td>NaN</td>\n",
       "      <td>NaN</td>\n",
       "      <td>...</td>\n",
       "      <td>NaN</td>\n",
       "      <td>NaN</td>\n",
       "      <td>NaN</td>\n",
       "      <td>NaN</td>\n",
       "      <td>NaN</td>\n",
       "      <td>NaN</td>\n",
       "      <td>NaN</td>\n",
       "      <td>NaN</td>\n",
       "      <td>NaN</td>\n",
       "      <td>NaN</td>\n",
       "    </tr>\n",
       "    <tr>\n",
       "      <th>456254</th>\n",
       "      <td>NaN</td>\n",
       "      <td>NaN</td>\n",
       "      <td>NaN</td>\n",
       "      <td>NaN</td>\n",
       "      <td>NaN</td>\n",
       "      <td>NaN</td>\n",
       "      <td>NaN</td>\n",
       "      <td>NaN</td>\n",
       "      <td>NaN</td>\n",
       "      <td>NaN</td>\n",
       "      <td>...</td>\n",
       "      <td>0.0</td>\n",
       "      <td>0.0</td>\n",
       "      <td>0.0</td>\n",
       "      <td>0.0</td>\n",
       "      <td>0.0</td>\n",
       "      <td>0.0</td>\n",
       "      <td>0.0</td>\n",
       "      <td>0.0</td>\n",
       "      <td>0.0</td>\n",
       "      <td>0.0</td>\n",
       "    </tr>\n",
       "    <tr>\n",
       "      <th>456255</th>\n",
       "      <td>NaN</td>\n",
       "      <td>NaN</td>\n",
       "      <td>NaN</td>\n",
       "      <td>NaN</td>\n",
       "      <td>NaN</td>\n",
       "      <td>NaN</td>\n",
       "      <td>NaN</td>\n",
       "      <td>NaN</td>\n",
       "      <td>NaN</td>\n",
       "      <td>NaN</td>\n",
       "      <td>...</td>\n",
       "      <td>0.0</td>\n",
       "      <td>0.0</td>\n",
       "      <td>0.0</td>\n",
       "      <td>0.0</td>\n",
       "      <td>0.0</td>\n",
       "      <td>0.0</td>\n",
       "      <td>0.0</td>\n",
       "      <td>0.0</td>\n",
       "      <td>0.0</td>\n",
       "      <td>NaN</td>\n",
       "    </tr>\n",
       "  </tbody>\n",
       "</table>\n",
       "<p>285213 rows × 320 columns</p>\n",
       "</div>"
      ],
      "text/plain": [
       "               CNT_INSTALMENT                                                \\\n",
       "MONTHS_BALANCE            -80  -79  -78   -77   -76   -75   -74   -73   -72   \n",
       "SK_ID_CURR                                                                    \n",
       "100002                    NaN  NaN  NaN   NaN   NaN   NaN   NaN   NaN   NaN   \n",
       "100003                    NaN  NaN  NaN  12.0  12.0  12.0  12.0  12.0  12.0   \n",
       "100004                    NaN  NaN  NaN   NaN   NaN   NaN   NaN   NaN   NaN   \n",
       "100006                    NaN  NaN  NaN   NaN   NaN   NaN   NaN   NaN   NaN   \n",
       "100007                    NaN  NaN  NaN  10.0  10.0  10.0  10.0  10.0  10.0   \n",
       "...                       ...  ...  ...   ...   ...   ...   ...   ...   ...   \n",
       "456251                    NaN  NaN  NaN   NaN   NaN   NaN   NaN   NaN   NaN   \n",
       "456252                    6.0  6.0  6.0   6.0   6.0   NaN   NaN   NaN   NaN   \n",
       "456253                    NaN  NaN  NaN   NaN   NaN   NaN   NaN   NaN   NaN   \n",
       "456254                    NaN  NaN  NaN   NaN   NaN   NaN   NaN   NaN   NaN   \n",
       "456255                    NaN  NaN  NaN   NaN   NaN   NaN   NaN   NaN   NaN   \n",
       "\n",
       "                      ... SK_DPD_DEF                                          \\\n",
       "MONTHS_BALANCE   -71  ...        -10  -9   -8   -7   -6   -5   -4   -3   -2    \n",
       "SK_ID_CURR            ...                                                      \n",
       "100002           NaN  ...        0.0  0.0  0.0  0.0  0.0  0.0  0.0  0.0  0.0   \n",
       "100003          12.0  ...        NaN  NaN  NaN  NaN  NaN  NaN  NaN  NaN  NaN   \n",
       "100004           NaN  ...        NaN  NaN  NaN  NaN  NaN  NaN  NaN  NaN  NaN   \n",
       "100006           NaN  ...        0.0  0.0  0.0  0.0  0.0  0.0  0.0  0.0  0.0   \n",
       "100007          10.0  ...        0.0  0.0  0.0  0.0  0.0  0.0  0.0  0.0  0.0   \n",
       "...              ...  ...        ...  ...  ...  ...  ...  ...  ...  ...  ...   \n",
       "456251           NaN  ...        NaN  0.0  0.0  0.0  0.0  0.0  0.0  0.0  0.0   \n",
       "456252           NaN  ...        NaN  NaN  NaN  NaN  NaN  NaN  NaN  NaN  NaN   \n",
       "456253           NaN  ...        NaN  NaN  NaN  NaN  NaN  NaN  NaN  NaN  NaN   \n",
       "456254           NaN  ...        0.0  0.0  0.0  0.0  0.0  0.0  0.0  0.0  0.0   \n",
       "456255           NaN  ...        0.0  0.0  0.0  0.0  0.0  0.0  0.0  0.0  0.0   \n",
       "\n",
       "                     \n",
       "MONTHS_BALANCE  -1   \n",
       "SK_ID_CURR           \n",
       "100002          0.0  \n",
       "100003          NaN  \n",
       "100004          NaN  \n",
       "100006          0.0  \n",
       "100007          0.0  \n",
       "...             ...  \n",
       "456251          0.0  \n",
       "456252          NaN  \n",
       "456253          NaN  \n",
       "456254          0.0  \n",
       "456255          NaN  \n",
       "\n",
       "[285213 rows x 320 columns]"
      ]
     },
     "execution_count": 24,
     "metadata": {},
     "output_type": "execute_result"
    }
   ],
   "source": [
    "POS_CASH_balance"
   ]
  },
  {
   "cell_type": "code",
   "execution_count": 22,
   "id": "fifth-removal",
   "metadata": {},
   "outputs": [
    {
     "data": {
      "text/plain": [
       "(86905, 1520)"
      ]
     },
     "execution_count": 22,
     "metadata": {},
     "output_type": "execute_result"
    }
   ],
   "source": [
    "credit_card_balance.shape"
   ]
  },
  {
   "cell_type": "code",
   "execution_count": 25,
   "id": "criminal-bargain",
   "metadata": {},
   "outputs": [
    {
     "data": {
      "text/plain": [
       "(285213, 320)"
      ]
     },
     "execution_count": 25,
     "metadata": {},
     "output_type": "execute_result"
    }
   ],
   "source": [
    "POS_CASH_balance.shape"
   ]
  },
  {
   "cell_type": "code",
   "execution_count": 11,
   "id": "subjective-territory",
   "metadata": {},
   "outputs": [
    {
     "ename": "NameError",
     "evalue": "name 'priit' is not defined",
     "output_type": "error",
     "traceback": [
      "\u001b[0;31m---------------------------------------------------------------------------\u001b[0m",
      "\u001b[0;31mNameError\u001b[0m                                 Traceback (most recent call last)",
      "\u001b[0;32m<ipython-input-11-2c1a73702b56>\u001b[0m in \u001b[0;36m<module>\u001b[0;34m\u001b[0m\n\u001b[0;32m----> 1\u001b[0;31m \u001b[0mpriit\u001b[0m\u001b[0;34m\u001b[0m\u001b[0;34m\u001b[0m\u001b[0m\n\u001b[0m",
      "\u001b[0;31mNameError\u001b[0m: name 'priit' is not defined"
     ]
    }
   ],
   "source": [
    "priit"
   ]
  },
  {
   "cell_type": "code",
   "execution_count": 18,
   "id": "cubic-strategy",
   "metadata": {},
   "outputs": [
    {
     "data": {
      "text/plain": [
       "6.0"
      ]
     },
     "execution_count": 18,
     "metadata": {},
     "output_type": "execute_result"
    }
   ],
   "source": [
    "installments_payments.shape[1]/81"
   ]
  },
  {
   "cell_type": "code",
   "execution_count": 19,
   "id": "czech-prescription",
   "metadata": {},
   "outputs": [],
   "source": [
    "# credit_card_balance= credit_card_balance.values.reshape((86905,80,19))\n",
    "# POS_CASH_balance= POS_CASH_balance.values.reshape((285213,80,4))\n",
    "installments_payments= installments_payments.values.reshape((288410,81,6))\n"
   ]
  },
  {
   "cell_type": "code",
   "execution_count": 21,
   "id": "anonymous-finding",
   "metadata": {},
   "outputs": [
    {
     "ename": "AttributeError",
     "evalue": "'numpy.ndarray' object has no attribute 'keys'",
     "output_type": "error",
     "traceback": [
      "\u001b[0;31m---------------------------------------------------------------------------\u001b[0m",
      "\u001b[0;31mAttributeError\u001b[0m                            Traceback (most recent call last)",
      "\u001b[0;32m<ipython-input-21-fadc6b216203>\u001b[0m in \u001b[0;36m<module>\u001b[0;34m\u001b[0m\n\u001b[0;32m----> 1\u001b[0;31m \u001b[0minstallments_payments\u001b[0m\u001b[0;34m.\u001b[0m\u001b[0mkeys\u001b[0m\u001b[0;34m\u001b[0m\u001b[0;34m\u001b[0m\u001b[0m\n\u001b[0m",
      "\u001b[0;31mAttributeError\u001b[0m: 'numpy.ndarray' object has no attribute 'keys'"
     ]
    }
   ],
   "source": [
    "installments_payments.keys"
   ]
  },
  {
   "cell_type": "code",
   "execution_count": null,
   "id": "federal-ferry",
   "metadata": {},
   "outputs": [],
   "source": [
    "df = installments_payments[installments_payments['SK_ID_CURR'].isin(app['SK_ID_CURR'])]"
   ]
  },
  {
   "cell_type": "code",
   "execution_count": null,
   "id": "fifty-theme",
   "metadata": {},
   "outputs": [],
   "source": [
    "df.shape"
   ]
  },
  {
   "cell_type": "code",
   "execution_count": null,
   "id": "printable-gentleman",
   "metadata": {},
   "outputs": [],
   "source": [
    "df = pd.merge(df, POS_CASH_balance, how='left')\n",
    "# df.head(5)"
   ]
  },
  {
   "cell_type": "code",
   "execution_count": null,
   "id": "endangered-stability",
   "metadata": {
    "scrolled": true
   },
   "outputs": [],
   "source": [
    "df=pd.merge(df, credit_card_balance, how = 'left')\n",
    "# df.head(5)"
   ]
  },
  {
   "cell_type": "code",
   "execution_count": null,
   "id": "cubic-alcohol",
   "metadata": {},
   "outputs": [],
   "source": [
    "df = df[df['MONTHS_BALANCE']>-80]"
   ]
  },
  {
   "cell_type": "code",
   "execution_count": null,
   "id": "equivalent-toner",
   "metadata": {},
   "outputs": [],
   "source": [
    "df.shape"
   ]
  },
  {
   "cell_type": "code",
   "execution_count": null,
   "id": "technological-victor",
   "metadata": {},
   "outputs": [],
   "source": [
    "\n",
    "del credit_card_balance, POS_CASH_balance ,installments_payments\n",
    "gc.collect()"
   ]
  },
  {
   "cell_type": "code",
   "execution_count": null,
   "id": "finnish-generation",
   "metadata": {},
   "outputs": [],
   "source": [
    "# df = df[df['SK_ID_CURR'].isin(app['SK_ID_CURR'])]"
   ]
  },
  {
   "cell_type": "code",
   "execution_count": null,
   "id": "collect-tokyo",
   "metadata": {},
   "outputs": [],
   "source": [
    "values = list(set(df.columns) - set(['SK_ID_PREV', 'SK_ID_CURR', 'MONTHS_BALANCE']))"
   ]
  },
  {
   "cell_type": "code",
   "execution_count": null,
   "id": "fleet-acceptance",
   "metadata": {},
   "outputs": [],
   "source": [
    "df_pivot = df.pivot_table(values=values, index='SK_ID_CURR', columns='MONTHS_BALANCE')"
   ]
  },
  {
   "cell_type": "code",
   "execution_count": null,
   "id": "aggregate-brooks",
   "metadata": {},
   "outputs": [],
   "source": [
    "# import pandas as pd\n",
    "# import numpy as np\n",
    "# import gc\n",
    "# credit_card_balance =  pd.read_csv('../data/credit_card_balance.csv')\n",
    "# POS_CASH_balance =  pd.read_csv('../data/POS_CASH_balance.csv')\n",
    "# installments_payments =  pd.read_csv('../data/installments_payments.csv')\n",
    "# installments_payments['MONTHS_BALANCE'] = (installments_payments['DAYS_INSTALMENT']/30).round().astype(int)\n",
    "# df = pd.merge(POS_CASH_balance, installments_payments,  left_on=(['SK_ID_PREV','SK_ID_CURR','MONTHS_BALANCE']), right_on=(['SK_ID_PREV','SK_ID_CURR','MONTHS_BALANCE']), how='outer')\n",
    "# df=pd.merge(df, credit_card_balance, how = 'outer')\n",
    "# del credit_card_balance, POS_CASH_balance ,installments_payments\n",
    "# gc.collect()\n",
    "# values = list(set(df.columns) - set(['SK_ID_PREV', 'SK_ID_CURR', 'MONTHS_BALANCE']))\n",
    "# df_pivot = df.pivot_table(values=values, index='SK_ID_CURR', columns='MONTHS_BALANCE').to_json('../treated_data/timeseries.json')"
   ]
  }
 ],
 "metadata": {
  "kernelspec": {
   "display_name": "Python 3",
   "language": "python",
   "name": "python3"
  },
  "language_info": {
   "codemirror_mode": {
    "name": "ipython",
    "version": 3
   },
   "file_extension": ".py",
   "mimetype": "text/x-python",
   "name": "python",
   "nbconvert_exporter": "python",
   "pygments_lexer": "ipython3",
   "version": "3.8.8"
  }
 },
 "nbformat": 4,
 "nbformat_minor": 5
}

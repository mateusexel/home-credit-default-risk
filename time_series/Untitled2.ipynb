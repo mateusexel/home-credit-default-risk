{
 "cells": [
  {
   "cell_type": "code",
   "execution_count": 1,
   "id": "atlantic-density",
   "metadata": {},
   "outputs": [],
   "source": [
    "import pandas as pd\n",
    "import numpy as np\n",
    "from sklearn.preprocessing import StandardScaler, MinMaxScaler, PowerTransformer \n",
    "from sklearn.model_selection import train_test_split\n",
    "\n",
    "from tensorflow.keras.layers import Input, Dense, concatenate, LSTM, Bidirectional, Dropout, GRU\n",
    "from tensorflow.keras.models import Model\n",
    "import tensorflow as tf\n",
    "physical_devices = tf.config.list_physical_devices('GPU')\n",
    "tf.config.experimental.set_memory_growth(physical_devices[0], enable=True)"
   ]
  },
  {
   "cell_type": "code",
   "execution_count": 66,
   "id": "automatic-security",
   "metadata": {},
   "outputs": [],
   "source": [
    "df_static = pd.read_csv('../data/application_train.csv',index_col=0)"
   ]
  },
  {
   "cell_type": "code",
   "execution_count": 2,
   "id": "organic-bottle",
   "metadata": {},
   "outputs": [],
   "source": [
    "df_static = pd.read_csv('../treated_data/df_static2.csv',index_col=0)"
   ]
  },
  {
   "cell_type": "code",
   "execution_count": 68,
   "id": "exterior-seven",
   "metadata": {},
   "outputs": [
    {
     "name": "stdout",
     "output_type": "stream",
     "text": [
      "Random under-sampling:\n",
      "0    24825\n",
      "1    24825\n",
      "Name: TARGET, dtype: int64\n"
     ]
    },
    {
     "data": {
      "image/png": "[encoded data removed]",
      "text/plain": [
       "<Figure size 432x288 with 1 Axes>"
      ]
     },
     "metadata": {
      "needs_background": "light"
     },
     "output_type": "display_data"
    }
   ],
   "source": [
    "count_0, count_1 = df_static.TARGET.value_counts()\n",
    "df_class_0 = df_static[df_static['TARGET'] == 0]\n",
    "df_class_1 = df_static[df_static['TARGET'] == 1]\n",
    "\n",
    "df_class_0_under = df_class_0.sample(count_1, random_state=42)\n",
    "df_static = pd.concat([df_class_0_under, df_class_1], axis=0)\n",
    "\n",
    "print('Random under-sampling:')\n",
    "print(df_static.TARGET.value_counts())\n",
    "\n",
    "df_static.TARGET.value_counts().plot(kind='bar', title='Count (target)');"
   ]
  },
  {
   "cell_type": "code",
   "execution_count": 3,
   "id": "aggressive-wallpaper",
   "metadata": {},
   "outputs": [],
   "source": [
    "df_static = pd.get_dummies(df_static, drop_first=True )"
   ]
  },
  {
   "cell_type": "code",
   "execution_count": 12,
   "id": "lonely-musician",
   "metadata": {},
   "outputs": [],
   "source": [
    "X_train, X_test, y_train, y_test  = train_test_split(df_static.index ,df_static.TARGET, test_size=0.33, random_state=42, shuffle=True)"
   ]
  },
  {
   "cell_type": "code",
   "execution_count": 13,
   "id": "pointed-connecticut",
   "metadata": {},
   "outputs": [],
   "source": [
    "X_static_train = df_static.loc[X_train]\n",
    "X_static_train = X_static_train.fillna(X_static_train.mean()).iloc[:,1:]\n",
    "\n",
    "X_static_test = df_static.loc[X_test]\n",
    "X_static_test = X_static_test.fillna(X_static_train.mean()).iloc[:,1:]"
   ]
  },
  {
   "cell_type": "code",
   "execution_count": 16,
   "id": "automotive-census",
   "metadata": {},
   "outputs": [],
   "source": [
    "scaler = MinMaxScaler()\n",
    "X_static_train_sc = scaler.fit_transform(X_static_train)\n",
    "X_static_test_sc = scaler.transform(X_static_test)"
   ]
  },
  {
   "cell_type": "code",
   "execution_count": 7,
   "id": "peaceful-arrangement",
   "metadata": {},
   "outputs": [
    {
     "data": {
      "text/plain": [
       "(33265, 186)"
      ]
     },
     "execution_count": 7,
     "metadata": {},
     "output_type": "execute_result"
    }
   ],
   "source": [
    "X_static_train_sc.shape"
   ]
  },
  {
   "cell_type": "code",
   "execution_count": 37,
   "id": "amazing-neighbor",
   "metadata": {},
   "outputs": [
    {
     "data": {
      "text/plain": [
       "1.0"
      ]
     },
     "execution_count": 37,
     "metadata": {},
     "output_type": "execute_result"
    }
   ],
   "source": [
    "X_static_train_sc.max()"
   ]
  },
  {
   "cell_type": "code",
   "execution_count": 38,
   "id": "aboriginal-courtesy",
   "metadata": {},
   "outputs": [
    {
     "data": {
      "text/plain": [
       "2.714285714285714"
      ]
     },
     "execution_count": 38,
     "metadata": {},
     "output_type": "execute_result"
    }
   ],
   "source": [
    "X_static_test_sd.max()"
   ]
  },
  {
   "cell_type": "code",
   "execution_count": 25,
   "id": "sacred-population",
   "metadata": {},
   "outputs": [],
   "source": [
    "input_x = Input(shape=186)\n",
    "x = Dense(100, activation = 'relu')(input_x)\n",
    "x = Dropout(0.2)(x)\n",
    "x = Dense(50, activation = 'relu')(x)\n",
    "out = Dense(1, activation = 'sigmoid')(x)\n",
    "\n",
    "model = Model(input_x, out)"
   ]
  },
  {
   "cell_type": "code",
   "execution_count": 26,
   "id": "promising-newton",
   "metadata": {},
   "outputs": [],
   "source": [
    "opt = tf.keras.optimizers.SGD(lr=0.003)\n",
    "m = tf.keras.metrics.AUC(num_thresholds=100)"
   ]
  },
  {
   "cell_type": "code",
   "execution_count": 27,
   "id": "premium-printing",
   "metadata": {},
   "outputs": [],
   "source": [
    "model.compile(optimizer=opt, loss= 'binary_crossentropy', metrics = [m])"
   ]
  },
  {
   "cell_type": "code",
   "execution_count": 28,
   "id": "floral-municipality",
   "metadata": {
    "scrolled": true
   },
   "outputs": [
    {
     "name": "stdout",
     "output_type": "stream",
     "text": [
      "Epoch 1/100\n",
      "1040/1040 [==============================] - 2s 2ms/step - loss: 0.6903 - auc_2: 0.5476 - val_loss: 0.6812 - val_auc_2: 0.6102\n",
      "Epoch 2/100\n",
      "1040/1040 [==============================] - 2s 2ms/step - loss: 0.6780 - auc_2: 0.6071 - val_loss: 0.6706 - val_auc_2: 0.6471\n",
      "Epoch 3/100\n",
      "1040/1040 [==============================] - 2s 2ms/step - loss: 0.6688 - auc_2: 0.6331 - val_loss: 0.6606 - val_auc_2: 0.6644\n",
      "Epoch 4/100\n",
      "1040/1040 [==============================] - 2s 2ms/step - loss: 0.6604 - auc_2: 0.6512 - val_loss: 0.6526 - val_auc_2: 0.6760\n",
      "Epoch 5/100\n",
      "1040/1040 [==============================] - 2s 2ms/step - loss: 0.6528 - auc_2: 0.6653 - val_loss: 0.6441 - val_auc_2: 0.6865\n",
      "Epoch 6/100\n",
      "1040/1040 [==============================] - 2s 2ms/step - loss: 0.6455 - auc_2: 0.6777 - val_loss: 0.6373 - val_auc_2: 0.6954\n",
      "Epoch 7/100\n",
      "1040/1040 [==============================] - 2s 2ms/step - loss: 0.6407 - auc_2: 0.6851 - val_loss: 0.6317 - val_auc_2: 0.7036\n",
      "Epoch 8/100\n",
      "1040/1040 [==============================] - 2s 2ms/step - loss: 0.6346 - auc_2: 0.6943 - val_loss: 0.6265 - val_auc_2: 0.7096\n",
      "Epoch 9/100\n",
      "1040/1040 [==============================] - 2s 2ms/step - loss: 0.6313 - auc_2: 0.6993 - val_loss: 0.6226 - val_auc_2: 0.7149\n",
      "Epoch 10/100\n",
      "1040/1040 [==============================] - 2s 2ms/step - loss: 0.6270 - auc_2: 0.7050 - val_loss: 0.6191 - val_auc_2: 0.7192\n",
      "Epoch 11/100\n",
      "1040/1040 [==============================] - 2s 2ms/step - loss: 0.6239 - auc_2: 0.7097 - val_loss: 0.6164 - val_auc_2: 0.7227\n",
      "Epoch 12/100\n",
      "1040/1040 [==============================] - 2s 2ms/step - loss: 0.6208 - auc_2: 0.7139 - val_loss: 0.6142 - val_auc_2: 0.7252\n",
      "Epoch 13/100\n",
      "1040/1040 [==============================] - 2s 2ms/step - loss: 0.6194 - auc_2: 0.7163 - val_loss: 0.6120 - val_auc_2: 0.7273\n",
      "Epoch 14/100\n",
      "1040/1040 [==============================] - 2s 2ms/step - loss: 0.6174 - auc_2: 0.7188 - val_loss: 0.6106 - val_auc_2: 0.7288\n",
      "Epoch 15/100\n",
      "1040/1040 [==============================] - 2s 2ms/step - loss: 0.6151 - auc_2: 0.7219 - val_loss: 0.6099 - val_auc_2: 0.7302\n",
      "Epoch 16/100\n",
      "1040/1040 [==============================] - 2s 2ms/step - loss: 0.6141 - auc_2: 0.7231 - val_loss: 0.6087 - val_auc_2: 0.7312\n",
      "Epoch 17/100\n",
      "1040/1040 [==============================] - 2s 2ms/step - loss: 0.6139 - auc_2: 0.7231 - val_loss: 0.6078 - val_auc_2: 0.7321\n",
      "Epoch 18/100\n",
      "1040/1040 [==============================] - 2s 2ms/step - loss: 0.6122 - auc_2: 0.7256 - val_loss: 0.6071 - val_auc_2: 0.7327\n",
      "Epoch 19/100\n",
      "1040/1040 [==============================] - 2s 2ms/step - loss: 0.6127 - auc_2: 0.7246 - val_loss: 0.6064 - val_auc_2: 0.7334\n",
      "Epoch 20/100\n",
      "1040/1040 [==============================] - 2s 2ms/step - loss: 0.6104 - auc_2: 0.7279 - val_loss: 0.6059 - val_auc_2: 0.7341\n",
      "Epoch 21/100\n",
      "1040/1040 [==============================] - 2s 2ms/step - loss: 0.6085 - auc_2: 0.7301 - val_loss: 0.6054 - val_auc_2: 0.7345\n",
      "Epoch 22/100\n",
      "1040/1040 [==============================] - 2s 2ms/step - loss: 0.6089 - auc_2: 0.7300 - val_loss: 0.6051 - val_auc_2: 0.7352\n",
      "Epoch 23/100\n",
      "1040/1040 [==============================] - 2s 2ms/step - loss: 0.6083 - auc_2: 0.7303 - val_loss: 0.6047 - val_auc_2: 0.7353\n",
      "Epoch 24/100\n",
      "1040/1040 [==============================] - 2s 2ms/step - loss: 0.6071 - auc_2: 0.7319 - val_loss: 0.6044 - val_auc_2: 0.7357\n",
      "Epoch 25/100\n",
      "1040/1040 [==============================] - 2s 2ms/step - loss: 0.6084 - auc_2: 0.7298 - val_loss: 0.6043 - val_auc_2: 0.7357\n",
      "Epoch 26/100\n",
      "1040/1040 [==============================] - 2s 2ms/step - loss: 0.6071 - auc_2: 0.7316 - val_loss: 0.6047 - val_auc_2: 0.7360\n",
      "Epoch 27/100\n",
      "1040/1040 [==============================] - 2s 2ms/step - loss: 0.6064 - auc_2: 0.7329 - val_loss: 0.6038 - val_auc_2: 0.7362\n",
      "Epoch 28/100\n",
      "1040/1040 [==============================] - 2s 2ms/step - loss: 0.6061 - auc_2: 0.7330 - val_loss: 0.6037 - val_auc_2: 0.7366\n",
      "Epoch 29/100\n",
      "1040/1040 [==============================] - 2s 2ms/step - loss: 0.6058 - auc_2: 0.7334 - val_loss: 0.6041 - val_auc_2: 0.7367\n",
      "Epoch 30/100\n",
      "1040/1040 [==============================] - 2s 2ms/step - loss: 0.6052 - auc_2: 0.7342 - val_loss: 0.6035 - val_auc_2: 0.7368\n",
      "Epoch 31/100\n",
      "1040/1040 [==============================] - 2s 2ms/step - loss: 0.6054 - auc_2: 0.7339 - val_loss: 0.6034 - val_auc_2: 0.7371\n",
      "Epoch 32/100\n",
      "1040/1040 [==============================] - 2s 2ms/step - loss: 0.6050 - auc_2: 0.7347 - val_loss: 0.6031 - val_auc_2: 0.7372\n",
      "Epoch 33/100\n",
      "1040/1040 [==============================] - 2s 2ms/step - loss: 0.6045 - auc_2: 0.7351 - val_loss: 0.6029 - val_auc_2: 0.7373\n",
      "Epoch 34/100\n",
      "1040/1040 [==============================] - 2s 2ms/step - loss: 0.6037 - auc_2: 0.7364 - val_loss: 0.6030 - val_auc_2: 0.7373\n",
      "Epoch 35/100\n",
      "1040/1040 [==============================] - 2s 2ms/step - loss: 0.6034 - auc_2: 0.7368 - val_loss: 0.6035 - val_auc_2: 0.7375\n",
      "Epoch 36/100\n",
      "1040/1040 [==============================] - 2s 2ms/step - loss: 0.6044 - auc_2: 0.7356 - val_loss: 0.6033 - val_auc_2: 0.7374\n",
      "Epoch 37/100\n",
      "1040/1040 [==============================] - 2s 2ms/step - loss: 0.6026 - auc_2: 0.7374 - val_loss: 0.6032 - val_auc_2: 0.7377\n",
      "Epoch 38/100\n",
      "1040/1040 [==============================] - 2s 2ms/step - loss: 0.6028 - auc_2: 0.7376 - val_loss: 0.6024 - val_auc_2: 0.7379\n",
      "Epoch 39/100\n",
      "1040/1040 [==============================] - 2s 2ms/step - loss: 0.6027 - auc_2: 0.7373 - val_loss: 0.6026 - val_auc_2: 0.7379\n",
      "Epoch 40/100\n",
      "1040/1040 [==============================] - 2s 2ms/step - loss: 0.6014 - auc_2: 0.7387 - val_loss: 0.6024 - val_auc_2: 0.7379\n",
      "Epoch 41/100\n",
      "1040/1040 [==============================] - 2s 2ms/step - loss: 0.6011 - auc_2: 0.7391 - val_loss: 0.6022 - val_auc_2: 0.7383\n",
      "Epoch 42/100\n",
      "1040/1040 [==============================] - 2s 2ms/step - loss: 0.6010 - auc_2: 0.7393 - val_loss: 0.6022 - val_auc_2: 0.7382\n",
      "Epoch 43/100\n",
      "1040/1040 [==============================] - 2s 2ms/step - loss: 0.6009 - auc_2: 0.7398 - val_loss: 0.6023 - val_auc_2: 0.7380\n",
      "Epoch 44/100\n",
      "1040/1040 [==============================] - 2s 2ms/step - loss: 0.6010 - auc_2: 0.7398 - val_loss: 0.6020 - val_auc_2: 0.7384\n",
      "Epoch 45/100\n",
      "1040/1040 [==============================] - 2s 2ms/step - loss: 0.6005 - auc_2: 0.7400 - val_loss: 0.6021 - val_auc_2: 0.7382\n",
      "Epoch 46/100\n",
      "1040/1040 [==============================] - 2s 2ms/step - loss: 0.6001 - auc_2: 0.7402 - val_loss: 0.6022 - val_auc_2: 0.7384\n",
      "Epoch 47/100\n",
      "1040/1040 [==============================] - 2s 2ms/step - loss: 0.6005 - auc_2: 0.7402 - val_loss: 0.6024 - val_auc_2: 0.7384\n",
      "Epoch 48/100\n",
      "1040/1040 [==============================] - 2s 2ms/step - loss: 0.6000 - auc_2: 0.7404 - val_loss: 0.6020 - val_auc_2: 0.7388\n",
      "Epoch 49/100\n",
      "1040/1040 [==============================] - 2s 2ms/step - loss: 0.5999 - auc_2: 0.7406 - val_loss: 0.6018 - val_auc_2: 0.7386\n",
      "Epoch 50/100\n",
      "1040/1040 [==============================] - 2s 2ms/step - loss: 0.5984 - auc_2: 0.7427 - val_loss: 0.6020 - val_auc_2: 0.7387\n",
      "Epoch 51/100\n",
      "1040/1040 [==============================] - 2s 2ms/step - loss: 0.5993 - auc_2: 0.7416 - val_loss: 0.6018 - val_auc_2: 0.7388\n",
      "Epoch 52/100\n",
      "1040/1040 [==============================] - 2s 2ms/step - loss: 0.5992 - auc_2: 0.7418 - val_loss: 0.6022 - val_auc_2: 0.7388\n",
      "Epoch 53/100\n",
      "1040/1040 [==============================] - 2s 2ms/step - loss: 0.5989 - auc_2: 0.7421 - val_loss: 0.6017 - val_auc_2: 0.7385\n",
      "Epoch 54/100\n",
      "1040/1040 [==============================] - 2s 2ms/step - loss: 0.5982 - auc_2: 0.7426 - val_loss: 0.6016 - val_auc_2: 0.7388\n",
      "Epoch 55/100\n",
      "1040/1040 [==============================] - 2s 2ms/step - loss: 0.5983 - auc_2: 0.7427 - val_loss: 0.6020 - val_auc_2: 0.7389\n",
      "Epoch 56/100\n",
      "1040/1040 [==============================] - 2s 2ms/step - loss: 0.5974 - auc_2: 0.7438 - val_loss: 0.6022 - val_auc_2: 0.7388\n",
      "Epoch 57/100\n",
      "1040/1040 [==============================] - 2s 2ms/step - loss: 0.5977 - auc_2: 0.7440 - val_loss: 0.6016 - val_auc_2: 0.7392\n",
      "Epoch 58/100\n",
      "1040/1040 [==============================] - 2s 2ms/step - loss: 0.5987 - auc_2: 0.7428 - val_loss: 0.6015 - val_auc_2: 0.7392\n",
      "Epoch 59/100\n"
     ]
    },
    {
     "name": "stdout",
     "output_type": "stream",
     "text": [
      "1040/1040 [==============================] - 2s 2ms/step - loss: 0.5967 - auc_2: 0.7446 - val_loss: 0.6018 - val_auc_2: 0.7392\n",
      "Epoch 60/100\n",
      "1040/1040 [==============================] - 2s 2ms/step - loss: 0.5981 - auc_2: 0.7432 - val_loss: 0.6013 - val_auc_2: 0.7392\n",
      "Epoch 61/100\n",
      "1040/1040 [==============================] - 2s 2ms/step - loss: 0.5966 - auc_2: 0.7449 - val_loss: 0.6015 - val_auc_2: 0.7391\n",
      "Epoch 62/100\n",
      "1040/1040 [==============================] - 2s 2ms/step - loss: 0.5967 - auc_2: 0.7447 - val_loss: 0.6014 - val_auc_2: 0.7392\n",
      "Epoch 63/100\n",
      "1040/1040 [==============================] - 3s 2ms/step - loss: 0.5973 - auc_2: 0.7440 - val_loss: 0.6013 - val_auc_2: 0.7391\n",
      "Epoch 64/100\n",
      "1040/1040 [==============================] - 2s 2ms/step - loss: 0.5967 - auc_2: 0.7445 - val_loss: 0.6013 - val_auc_2: 0.7391\n",
      "Epoch 65/100\n",
      "1040/1040 [==============================] - 2s 2ms/step - loss: 0.5968 - auc_2: 0.7446 - val_loss: 0.6013 - val_auc_2: 0.7391\n",
      "Epoch 66/100\n",
      "1040/1040 [==============================] - 2s 2ms/step - loss: 0.5966 - auc_2: 0.7447 - val_loss: 0.6014 - val_auc_2: 0.7392\n",
      "Epoch 67/100\n",
      "1040/1040 [==============================] - 2s 2ms/step - loss: 0.5965 - auc_2: 0.7449 - val_loss: 0.6012 - val_auc_2: 0.7392\n",
      "Epoch 68/100\n",
      "1040/1040 [==============================] - 2s 2ms/step - loss: 0.5961 - auc_2: 0.7453 - val_loss: 0.6013 - val_auc_2: 0.7392\n",
      "Epoch 69/100\n",
      "1040/1040 [==============================] - 2s 2ms/step - loss: 0.5960 - auc_2: 0.7453 - val_loss: 0.6012 - val_auc_2: 0.7392\n",
      "Epoch 70/100\n",
      "1040/1040 [==============================] - 2s 2ms/step - loss: 0.5952 - auc_2: 0.7459 - val_loss: 0.6013 - val_auc_2: 0.7395\n",
      "Epoch 71/100\n",
      "1040/1040 [==============================] - 2s 2ms/step - loss: 0.5960 - auc_2: 0.7455 - val_loss: 0.6011 - val_auc_2: 0.7393\n",
      "Epoch 72/100\n",
      "1040/1040 [==============================] - 2s 2ms/step - loss: 0.5966 - auc_2: 0.7450 - val_loss: 0.6019 - val_auc_2: 0.7393\n",
      "Epoch 73/100\n",
      "1040/1040 [==============================] - 2s 2ms/step - loss: 0.5958 - auc_2: 0.7455 - val_loss: 0.6018 - val_auc_2: 0.7390\n",
      "Epoch 74/100\n",
      "1040/1040 [==============================] - 2s 2ms/step - loss: 0.5950 - auc_2: 0.7464 - val_loss: 0.6016 - val_auc_2: 0.7391\n",
      "Epoch 75/100\n",
      "1040/1040 [==============================] - 2s 2ms/step - loss: 0.5945 - auc_2: 0.7472 - val_loss: 0.6012 - val_auc_2: 0.7393\n",
      "Epoch 76/100\n",
      "1040/1040 [==============================] - 2s 2ms/step - loss: 0.5949 - auc_2: 0.7464 - val_loss: 0.6010 - val_auc_2: 0.7395\n",
      "Epoch 77/100\n",
      "1040/1040 [==============================] - 2s 2ms/step - loss: 0.5949 - auc_2: 0.7467 - val_loss: 0.6009 - val_auc_2: 0.7396\n",
      "Epoch 78/100\n",
      "1040/1040 [==============================] - 2s 2ms/step - loss: 0.5947 - auc_2: 0.7469 - val_loss: 0.6010 - val_auc_2: 0.7397\n",
      "Epoch 79/100\n",
      "1040/1040 [==============================] - 2s 2ms/step - loss: 0.5950 - auc_2: 0.7470 - val_loss: 0.6010 - val_auc_2: 0.7393\n",
      "Epoch 80/100\n",
      "1040/1040 [==============================] - 2s 2ms/step - loss: 0.5939 - auc_2: 0.7478 - val_loss: 0.6017 - val_auc_2: 0.7395\n",
      "Epoch 81/100\n",
      "1040/1040 [==============================] - 2s 2ms/step - loss: 0.5935 - auc_2: 0.7481 - val_loss: 0.6012 - val_auc_2: 0.7394\n",
      "Epoch 82/100\n",
      "1040/1040 [==============================] - 2s 2ms/step - loss: 0.5941 - auc_2: 0.7478 - val_loss: 0.6012 - val_auc_2: 0.7395\n",
      "Epoch 83/100\n",
      "1040/1040 [==============================] - 2s 2ms/step - loss: 0.5946 - auc_2: 0.7470 - val_loss: 0.6011 - val_auc_2: 0.7394\n",
      "Epoch 84/100\n",
      "1040/1040 [==============================] - 2s 2ms/step - loss: 0.5945 - auc_2: 0.7475 - val_loss: 0.6012 - val_auc_2: 0.7393\n",
      "Epoch 85/100\n",
      "1040/1040 [==============================] - 2s 2ms/step - loss: 0.5936 - auc_2: 0.7485 - val_loss: 0.6011 - val_auc_2: 0.7394\n",
      "Epoch 86/100\n",
      "1040/1040 [==============================] - 2s 2ms/step - loss: 0.5927 - auc_2: 0.7493 - val_loss: 0.6012 - val_auc_2: 0.7397\n",
      "Epoch 87/100\n",
      "1040/1040 [==============================] - 2s 2ms/step - loss: 0.5938 - auc_2: 0.7482 - val_loss: 0.6012 - val_auc_2: 0.7395\n",
      "Epoch 88/100\n",
      "1040/1040 [==============================] - 2s 2ms/step - loss: 0.5930 - auc_2: 0.7489 - val_loss: 0.6013 - val_auc_2: 0.7395\n",
      "Epoch 89/100\n",
      "1040/1040 [==============================] - 2s 2ms/step - loss: 0.5927 - auc_2: 0.7489 - val_loss: 0.6010 - val_auc_2: 0.7396\n",
      "Epoch 90/100\n",
      "1040/1040 [==============================] - 2s 2ms/step - loss: 0.5928 - auc_2: 0.7488 - val_loss: 0.6012 - val_auc_2: 0.7395\n",
      "Epoch 91/100\n",
      "1040/1040 [==============================] - 2s 2ms/step - loss: 0.5923 - auc_2: 0.7497 - val_loss: 0.6015 - val_auc_2: 0.7395\n",
      "Epoch 92/100\n",
      "1040/1040 [==============================] - 2s 2ms/step - loss: 0.5927 - auc_2: 0.7491 - val_loss: 0.6009 - val_auc_2: 0.7396\n",
      "Epoch 93/100\n",
      "1040/1040 [==============================] - 2s 2ms/step - loss: 0.5918 - auc_2: 0.7501 - val_loss: 0.6014 - val_auc_2: 0.7392\n",
      "Epoch 94/100\n",
      "1040/1040 [==============================] - 2s 2ms/step - loss: 0.5918 - auc_2: 0.7503 - val_loss: 0.6011 - val_auc_2: 0.7395\n",
      "Epoch 95/100\n",
      "1040/1040 [==============================] - 2s 2ms/step - loss: 0.5926 - auc_2: 0.7494 - val_loss: 0.6014 - val_auc_2: 0.7395\n",
      "Epoch 96/100\n",
      "1040/1040 [==============================] - 2s 2ms/step - loss: 0.5919 - auc_2: 0.7505 - val_loss: 0.6010 - val_auc_2: 0.7394\n",
      "Epoch 97/100\n",
      "1040/1040 [==============================] - 2s 2ms/step - loss: 0.5916 - auc_2: 0.7505 - val_loss: 0.6013 - val_auc_2: 0.7393\n",
      "Epoch 98/100\n",
      "1040/1040 [==============================] - 2s 2ms/step - loss: 0.5924 - auc_2: 0.7495 - val_loss: 0.6014 - val_auc_2: 0.7393\n",
      "Epoch 99/100\n",
      "1040/1040 [==============================] - 2s 2ms/step - loss: 0.5918 - auc_2: 0.7499 - val_loss: 0.6012 - val_auc_2: 0.7393\n",
      "Epoch 100/100\n",
      "1040/1040 [==============================] - 2s 2ms/step - loss: 0.5912 - auc_2: 0.7511 - val_loss: 0.6014 - val_auc_2: 0.7395\n"
     ]
    }
   ],
   "source": [
    "history = model.fit(X_static_train_sc, y_train, validation_data=(X_static_test_sc, y_test), epochs=100)"
   ]
  },
  {
   "cell_type": "code",
   "execution_count": 29,
   "id": "obvious-gardening",
   "metadata": {},
   "outputs": [
    {
     "data": {
      "image/png": "[encoded data removed]",
      "text/plain": [
       "<Figure size 432x288 with 1 Axes>"
      ]
     },
     "metadata": {
      "needs_background": "light"
     },
     "output_type": "display_data"
    }
   ],
   "source": [
    "loss_train = history.history['auc_2']\n",
    "loss_val = history.history['val_auc_2']\n",
    "epochs = range(100)\n",
    "plt.plot(epochs, loss_train, 'g', label='Training acc')\n",
    "plt.plot(epochs, loss_val, 'b', label='validation acc')\n",
    "plt.title('Training and Validation acc')\n",
    "plt.xlabel('Epochs')\n",
    "plt.ylabel('Acc')\n",
    "plt.legend()\n",
    "plt.show()"
   ]
  },
  {
   "cell_type": "code",
   "execution_count": 22,
   "id": "fantastic-mobility",
   "metadata": {},
   "outputs": [],
   "source": [
    "import matplotlib.pyplot as plt"
   ]
  }
 ],
 "metadata": {
  "kernelspec": {
   "display_name": "Python 3",
   "language": "python",
   "name": "python3"
  },
  "language_info": {
   "codemirror_mode": {
    "name": "ipython",
    "version": 3
   },
   "file_extension": ".py",
   "mimetype": "text/x-python",
   "name": "python",
   "nbconvert_exporter": "python",
   "pygments_lexer": "ipython3",
   "version": "3.8.8"
  }
 },
 "nbformat": 4,
 "nbformat_minor": 5
}

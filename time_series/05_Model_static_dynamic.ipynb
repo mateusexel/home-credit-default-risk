{
 "cells": [
  {
   "cell_type": "code",
   "execution_count": 1,
   "id": "dependent-account",
   "metadata": {},
   "outputs": [],
   "source": [
    "import pandas as pd\n",
    "import numpy as np\n",
    "from sklearn.preprocessing import StandardScaler, MinMaxScaler, PowerTransformer \n",
    "from sklearn.model_selection import train_test_split\n",
    "import matplotlib.pyplot as plt\n",
    "\n",
    "\n",
    "from tensorflow.keras.layers import Input, Dense, concatenate, LSTM, Bidirectional, Dropout, GRU\n",
    "from tensorflow.keras.models import Model\n",
    "import tensorflow as tf\n",
    "physical_devices = tf.config.list_physical_devices('GPU')\n",
    "tf.config.experimental.set_memory_growth(physical_devices[0], enable=True)\n"
   ]
  },
  {
   "cell_type": "markdown",
   "id": "southern-innocent",
   "metadata": {},
   "source": [
    "# Modeling using both types of data\n",
    "As said before, the data presented has a static dimension as well as a continuous/dynamic dimension. to access all information we need both a recurrent network and a deep network. After both data go through a couple of its respective layers they will be concatenated and go through a dense layer with a sigmoid function. Back prop will adjust weight from both neworks and find minimal loss/ max acc ."
   ]
  },
  {
   "cell_type": "code",
   "execution_count": 2,
   "id": "strange-revision",
   "metadata": {},
   "outputs": [
    {
     "name": "stderr",
     "output_type": "stream",
     "text": [
      "/home/mateus/anaconda3/envs/home-credit/lib/python3.8/site-packages/numpy/lib/arraysetops.py:580: FutureWarning: elementwise comparison failed; returning scalar instead, but in the future will perform elementwise comparison\n",
      "  mask |= (ar1 == a)\n"
     ]
    }
   ],
   "source": [
    "df_static = pd.read_csv('../treated_data/df_static2.csv',index_col=0)\n",
    "df_dynamic = pd.read_csv('../treated_data/df_dynamic.csv', index_col=0)"
   ]
  },
  {
   "cell_type": "markdown",
   "id": "stone-accused",
   "metadata": {},
   "source": [
    "# Train test split\n",
    "the split is using just the SK_ID_CURR that later will .loc() the other features from both dfs"
   ]
  },
  {
   "cell_type": "code",
   "execution_count": 3,
   "id": "common-california",
   "metadata": {},
   "outputs": [],
   "source": [
    "X_train, X_test, y_train, y_test  = train_test_split(df_static.index ,df_static.TARGET, test_size=0.33, random_state=42, shuffle=True)"
   ]
  },
  {
   "cell_type": "code",
   "execution_count": 4,
   "id": "fatty-recycling",
   "metadata": {},
   "outputs": [],
   "source": [
    "X_static_train = df_static.loc[X_train]\n",
    "X_static_train = X_static_train.fillna(X_static_train.mean()).iloc[:,1:]\n",
    "\n",
    "X_static_test = df_static.loc[X_test]\n",
    "X_static_test = X_static_test.fillna(X_static_train.mean()).iloc[:,1:]"
   ]
  },
  {
   "cell_type": "markdown",
   "id": "political-invalid",
   "metadata": {},
   "source": [
    "Dynamic data needs to be pivoted on SK_ID_CURR so each observation has 97 months for each of the 57 features\n",
    "\n",
    "After pivoting the columns are organized as 97 months of first feature, 97 months of second feature and so on.\n",
    "df has to be reshaped into a 3d array with (ID, MONTH, FEATURES). Fortran-like order is used for every number to fall in place"
   ]
  },
  {
   "cell_type": "code",
   "execution_count": 5,
   "id": "mediterranean-alabama",
   "metadata": {},
   "outputs": [],
   "source": [
    "X_dynamic_train = df_dynamic.loc[X_train].reset_index()\n",
    "X_dynamic_train = X_dynamic_train.fillna(0)\n",
    "X_dynamic_train = X_dynamic_train.pivot_table(values=list(set(X_dynamic_train.columns)-set(['SK_ID_PREV', 'MONTHS_BALANCE','SK_ID_CURR'])), index='SK_ID_CURR', columns='MONTHS_BALANCE',aggfunc='sum', fill_value=0).loc[X_train].values\n",
    "X_dynamic_train = X_dynamic_train.reshape((33265,97,57), order = 'F')\n",
    "\n",
    "X_dynamic_test = df_dynamic.loc[X_test].reset_index()\n",
    "X_dynamic_test = X_dynamic_test.fillna(0)\n",
    "X_dynamic_test = X_dynamic_test.pivot_table(values=list(set(X_dynamic_test.columns)-set(['SK_ID_PREV', 'MONTHS_BALANCE','SK_ID_CURR'])), index='SK_ID_CURR', columns='MONTHS_BALANCE',aggfunc='sum', fill_value=0).loc[X_test].values\n",
    "X_dynamic_test = X_dynamic_test.reshape((16385,97,57), order = 'F')"
   ]
  },
  {
   "cell_type": "markdown",
   "id": "standing-marine",
   "metadata": {},
   "source": [
    "# Scaling\n",
    "Is always a good idea to scale data to prevent high magnitude weighting too much on euclidean distance calculation. when using neural networks it is even more essential because input neurons expect values [0:1].\n",
    "\n",
    "dynamic data needs special treatment, each feature has to be scaled through every time step and for every SK"
   ]
  },
  {
   "cell_type": "code",
   "execution_count": 6,
   "id": "empty-sarah",
   "metadata": {},
   "outputs": [],
   "source": [
    "scaler = MinMaxScaler()\n",
    "X_static_train = scaler.fit_transform(X_static_train)\n",
    "X_static_test = scaler.transform(X_static_test)"
   ]
  },
  {
   "cell_type": "code",
   "execution_count": 7,
   "id": "annoying-singer",
   "metadata": {},
   "outputs": [],
   "source": [
    "scalers = {}\n",
    "for i in range(X_dynamic_train.shape[2]):\n",
    "    scalers[i] = MinMaxScaler()\n",
    "    X_dynamic_train[:, :, i] = scalers[i].fit_transform(X_dynamic_train[:, :, i]) \n",
    "\n",
    "for i in range(X_dynamic_test.shape[2]):\n",
    "    X_dynamic_test[:, :, i] = scalers[i].transform(X_dynamic_test[:, :, i]) "
   ]
  },
  {
   "cell_type": "markdown",
   "id": "alert-party",
   "metadata": {},
   "source": [
    "# Model\n",
    "has two inputs, dy that has shape (time steps, number of features) and st has shape (number of features), each input goes through an independent network. \n",
    "dy will go through a LSTM that outputs 70 neurons followed by a dense layer\n",
    "st will go through a Dense that outputs 40 neurons, dropout 0.5 and another dense that outputs 30 neurons.\n",
    "the output of those two branches will be concatenated on layes z that  output 60 neurons.\n",
    "a last dense relu layer will be used before the last sigmoid layer"
   ]
  },
  {
   "cell_type": "code",
   "execution_count": 8,
   "id": "floral-shoot",
   "metadata": {
    "scrolled": true
   },
   "outputs": [],
   "source": [
    "x_in_dy = Input(shape=(48,57))\n",
    "x_in_st = Input(shape=(186))\n",
    "\n",
    "x_dy = LSTM(70, return_sequences=False)(x_in_dy)\n",
    "x_dy = Dense(30)(x_dy)\n",
    "\n",
    "x_st = Dense(40, activation=\"relu\")(x_in_st)\n",
    "x_st = Dropout(0.5)(x_st)\n",
    "x_st = Dense(30, activation=\"relu\")(x_st)\n",
    "\n",
    "\n",
    "z=concatenate([x_dy,x_st])\n",
    "\n",
    "out = Dense(24, activation='relu')(z)\n",
    "out = Dense(1, activation='sigmoid')(out)\n",
    "\n",
    "\n",
    "model1 = Model(inputs = [x_in_dy,x_in_st], outputs = out)"
   ]
  },
  {
   "cell_type": "markdown",
   "id": "unlimited-interest",
   "metadata": {},
   "source": [
    "## Compile\n",
    "The arguments used for compiling model are speciffic for a binary classification problem\n",
    "optimizer = Stochastic Gradient Descent with momentum\n",
    "loss = Binary Crossentropy\n",
    "metric = Area under the ROC Curve"
   ]
  },
  {
   "cell_type": "code",
   "execution_count": 9,
   "id": "expressed-flesh",
   "metadata": {},
   "outputs": [],
   "source": [
    "opt = tf.keras.optimizers.SGD(lr=0.01, momentum=0.7)\n",
    "m = tf.keras.metrics.AUC(num_thresholds=100)\n",
    "\n",
    "model1.compile(optimizer=opt, loss = 'binary_crossentropy', metrics=[m])"
   ]
  },
  {
   "cell_type": "markdown",
   "id": "objective-subdivision",
   "metadata": {},
   "source": [
    "## Model\n",
    "considering the trade-off data size/ time to process it was verified that the last 2 years (48 months) had the most information. \n",
    "\n",
    "models starts do overfit after 150 epochs"
   ]
  },
  {
   "cell_type": "code",
   "execution_count": 10,
   "id": "another-peripheral",
   "metadata": {
    "scrolled": true
   },
   "outputs": [
    {
     "name": "stdout",
     "output_type": "stream",
     "text": [
      "Epoch 1/150\n",
      "WARNING:tensorflow:Model was constructed with shape (None, 97, 57) for input Tensor(\"input_1:0\", shape=(None, 97, 57), dtype=float32), but it was called on an input with incompatible shape (None, 48, 57).\n",
      "WARNING:tensorflow:Model was constructed with shape (None, 97, 57) for input Tensor(\"input_1:0\", shape=(None, 97, 57), dtype=float32), but it was called on an input with incompatible shape (None, 48, 57).\n",
      "67/67 [==============================] - ETA: 0s - loss: 0.6967 - auc: 0.5224WARNING:tensorflow:Model was constructed with shape (None, 97, 57) for input Tensor(\"input_1:0\", shape=(None, 97, 57), dtype=float32), but it was called on an input with incompatible shape (None, 48, 57).\n",
      "67/67 [==============================] - 3s 43ms/step - loss: 0.6967 - auc: 0.5224 - val_loss: 0.6894 - val_auc: 0.5671\n",
      "Epoch 2/150\n",
      "67/67 [==============================] - 3s 39ms/step - loss: 0.6894 - auc: 0.5487 - val_loss: 0.6871 - val_auc: 0.5863\n",
      "Epoch 3/150\n",
      "67/67 [==============================] - 3s 39ms/step - loss: 0.6869 - auc: 0.5654 - val_loss: 0.6848 - val_auc: 0.5988\n",
      "Epoch 4/150\n",
      "67/67 [==============================] - 3s 40ms/step - loss: 0.6851 - auc: 0.5744 - val_loss: 0.6823 - val_auc: 0.6096\n",
      "Epoch 5/150\n",
      "67/67 [==============================] - 3s 40ms/step - loss: 0.6828 - auc: 0.5848 - val_loss: 0.6797 - val_auc: 0.6173\n",
      "Epoch 6/150\n",
      "67/67 [==============================] - 3s 39ms/step - loss: 0.6809 - auc: 0.5921 - val_loss: 0.6766 - val_auc: 0.6251\n",
      "Epoch 7/150\n",
      "67/67 [==============================] - 3s 38ms/step - loss: 0.6795 - auc: 0.5970 - val_loss: 0.6742 - val_auc: 0.6334\n",
      "Epoch 8/150\n",
      "67/67 [==============================] - 3s 41ms/step - loss: 0.6754 - auc: 0.6105 - val_loss: 0.6709 - val_auc: 0.6405\n",
      "Epoch 9/150\n",
      "67/67 [==============================] - 3s 39ms/step - loss: 0.6738 - auc: 0.6148 - val_loss: 0.6678 - val_auc: 0.6463\n",
      "Epoch 10/150\n",
      "67/67 [==============================] - 3s 40ms/step - loss: 0.6718 - auc: 0.6218 - val_loss: 0.6657 - val_auc: 0.6510\n",
      "Epoch 11/150\n",
      "67/67 [==============================] - 3s 40ms/step - loss: 0.6690 - auc: 0.6296 - val_loss: 0.6625 - val_auc: 0.6568\n",
      "Epoch 12/150\n",
      "67/67 [==============================] - 3s 41ms/step - loss: 0.6673 - auc: 0.6309 - val_loss: 0.6592 - val_auc: 0.6622\n",
      "Epoch 13/150\n",
      "67/67 [==============================] - 3s 39ms/step - loss: 0.6653 - auc: 0.6372 - val_loss: 0.6565 - val_auc: 0.6670\n",
      "Epoch 14/150\n",
      "67/67 [==============================] - 3s 39ms/step - loss: 0.6619 - auc: 0.6454 - val_loss: 0.6532 - val_auc: 0.6714\n",
      "Epoch 15/150\n",
      "67/67 [==============================] - 3s 40ms/step - loss: 0.6596 - auc: 0.6490 - val_loss: 0.6500 - val_auc: 0.6765\n",
      "Epoch 16/150\n",
      "67/67 [==============================] - 3s 40ms/step - loss: 0.6580 - auc: 0.6530 - val_loss: 0.6481 - val_auc: 0.6812\n",
      "Epoch 17/150\n",
      "67/67 [==============================] - 3s 40ms/step - loss: 0.6550 - auc: 0.6592 - val_loss: 0.6448 - val_auc: 0.6846\n",
      "Epoch 18/150\n",
      "67/67 [==============================] - 3s 39ms/step - loss: 0.6527 - auc: 0.6630 - val_loss: 0.6420 - val_auc: 0.6889\n",
      "Epoch 19/150\n",
      "67/67 [==============================] - 3s 40ms/step - loss: 0.6514 - auc: 0.6659 - val_loss: 0.6394 - val_auc: 0.6932\n",
      "Epoch 20/150\n",
      "67/67 [==============================] - 3s 39ms/step - loss: 0.6500 - auc: 0.6692 - val_loss: 0.6374 - val_auc: 0.6961\n",
      "Epoch 21/150\n",
      "67/67 [==============================] - 3s 39ms/step - loss: 0.6471 - auc: 0.6744 - val_loss: 0.6356 - val_auc: 0.6994\n",
      "Epoch 22/150\n",
      "67/67 [==============================] - 3s 40ms/step - loss: 0.6470 - auc: 0.6734 - val_loss: 0.6331 - val_auc: 0.7016\n",
      "Epoch 23/150\n",
      "67/67 [==============================] - 3s 40ms/step - loss: 0.6442 - auc: 0.6791 - val_loss: 0.6308 - val_auc: 0.7050\n",
      "Epoch 24/150\n",
      "67/67 [==============================] - 3s 40ms/step - loss: 0.6430 - auc: 0.6803 - val_loss: 0.6289 - val_auc: 0.7080\n",
      "Epoch 25/150\n",
      "67/67 [==============================] - 3s 40ms/step - loss: 0.6430 - auc: 0.6809 - val_loss: 0.6280 - val_auc: 0.7092\n",
      "Epoch 26/150\n",
      "67/67 [==============================] - 3s 40ms/step - loss: 0.6405 - auc: 0.6846 - val_loss: 0.6260 - val_auc: 0.7118\n",
      "Epoch 27/150\n",
      "67/67 [==============================] - 3s 40ms/step - loss: 0.6388 - auc: 0.6882 - val_loss: 0.6240 - val_auc: 0.7139\n",
      "Epoch 28/150\n",
      "67/67 [==============================] - 3s 40ms/step - loss: 0.6352 - auc: 0.6930 - val_loss: 0.6221 - val_auc: 0.7158\n",
      "Epoch 29/150\n",
      "67/67 [==============================] - 3s 39ms/step - loss: 0.6340 - auc: 0.6948 - val_loss: 0.6211 - val_auc: 0.7169\n",
      "Epoch 30/150\n",
      "67/67 [==============================] - 3s 39ms/step - loss: 0.6351 - auc: 0.6938 - val_loss: 0.6200 - val_auc: 0.7185\n",
      "Epoch 31/150\n",
      "67/67 [==============================] - 3s 40ms/step - loss: 0.6322 - auc: 0.6976 - val_loss: 0.6188 - val_auc: 0.7201\n",
      "Epoch 32/150\n",
      "67/67 [==============================] - 3s 40ms/step - loss: 0.6316 - auc: 0.6983 - val_loss: 0.6176 - val_auc: 0.7215\n",
      "Epoch 33/150\n",
      "67/67 [==============================] - 3s 39ms/step - loss: 0.6306 - auc: 0.7007 - val_loss: 0.6168 - val_auc: 0.7225\n",
      "Epoch 34/150\n",
      "67/67 [==============================] - 3s 40ms/step - loss: 0.6280 - auc: 0.7042 - val_loss: 0.6150 - val_auc: 0.7245\n",
      "Epoch 35/150\n",
      "67/67 [==============================] - 3s 40ms/step - loss: 0.6292 - auc: 0.7022 - val_loss: 0.6145 - val_auc: 0.7256\n",
      "Epoch 36/150\n",
      "67/67 [==============================] - 3s 40ms/step - loss: 0.6284 - auc: 0.7034 - val_loss: 0.6139 - val_auc: 0.7261\n",
      "Epoch 37/150\n",
      "67/67 [==============================] - 3s 39ms/step - loss: 0.6259 - auc: 0.7073 - val_loss: 0.6129 - val_auc: 0.7269\n",
      "Epoch 38/150\n",
      "67/67 [==============================] - 3s 39ms/step - loss: 0.6254 - auc: 0.7076 - val_loss: 0.6122 - val_auc: 0.7277\n",
      "Epoch 39/150\n",
      "67/67 [==============================] - 3s 40ms/step - loss: 0.6273 - auc: 0.7053 - val_loss: 0.6119 - val_auc: 0.7286\n",
      "Epoch 40/150\n",
      "67/67 [==============================] - 3s 40ms/step - loss: 0.6249 - auc: 0.7086 - val_loss: 0.6113 - val_auc: 0.7291\n",
      "Epoch 41/150\n",
      "67/67 [==============================] - 3s 40ms/step - loss: 0.6245 - auc: 0.7090 - val_loss: 0.6108 - val_auc: 0.7294\n",
      "Epoch 42/150\n",
      "67/67 [==============================] - 3s 41ms/step - loss: 0.6221 - auc: 0.7128 - val_loss: 0.6100 - val_auc: 0.7299\n",
      "Epoch 43/150\n",
      "67/67 [==============================] - 3s 40ms/step - loss: 0.6221 - auc: 0.7126 - val_loss: 0.6099 - val_auc: 0.7306\n",
      "Epoch 44/150\n",
      "67/67 [==============================] - 3s 40ms/step - loss: 0.6219 - auc: 0.7130 - val_loss: 0.6093 - val_auc: 0.7310\n",
      "Epoch 45/150\n",
      "67/67 [==============================] - 3s 40ms/step - loss: 0.6209 - auc: 0.7134 - val_loss: 0.6090 - val_auc: 0.7314\n",
      "Epoch 46/150\n",
      "67/67 [==============================] - 3s 39ms/step - loss: 0.6223 - auc: 0.7123 - val_loss: 0.6091 - val_auc: 0.7317\n",
      "Epoch 47/150\n",
      "67/67 [==============================] - 3s 39ms/step - loss: 0.6200 - auc: 0.7154 - val_loss: 0.6080 - val_auc: 0.7326\n",
      "Epoch 48/150\n",
      "67/67 [==============================] - 3s 40ms/step - loss: 0.6198 - auc: 0.7154 - val_loss: 0.6080 - val_auc: 0.7329\n",
      "Epoch 49/150\n",
      "67/67 [==============================] - 3s 40ms/step - loss: 0.6187 - auc: 0.7170 - val_loss: 0.6077 - val_auc: 0.7330\n",
      "Epoch 50/150\n",
      "67/67 [==============================] - 3s 40ms/step - loss: 0.6188 - auc: 0.7172 - val_loss: 0.6072 - val_auc: 0.7335\n",
      "Epoch 51/150\n",
      "67/67 [==============================] - 3s 40ms/step - loss: 0.6179 - auc: 0.7182 - val_loss: 0.6069 - val_auc: 0.7342\n",
      "Epoch 52/150\n",
      "67/67 [==============================] - 3s 40ms/step - loss: 0.6168 - auc: 0.7196 - val_loss: 0.6074 - val_auc: 0.7336\n",
      "Epoch 53/150\n",
      "67/67 [==============================] - 3s 40ms/step - loss: 0.6163 - auc: 0.7207 - val_loss: 0.6063 - val_auc: 0.7344\n",
      "Epoch 54/150\n",
      "67/67 [==============================] - 3s 40ms/step - loss: 0.6163 - auc: 0.7205 - val_loss: 0.6065 - val_auc: 0.7345\n",
      "Epoch 55/150\n",
      "67/67 [==============================] - 3s 39ms/step - loss: 0.6166 - auc: 0.7198 - val_loss: 0.6059 - val_auc: 0.7349\n",
      "Epoch 56/150\n",
      "67/67 [==============================] - 3s 39ms/step - loss: 0.6159 - auc: 0.7209 - val_loss: 0.6059 - val_auc: 0.7351\n",
      "Epoch 57/150\n"
     ]
    },
    {
     "name": "stdout",
     "output_type": "stream",
     "text": [
      "67/67 [==============================] - 3s 40ms/step - loss: 0.6160 - auc: 0.7211 - val_loss: 0.6059 - val_auc: 0.7353\n",
      "Epoch 58/150\n",
      "67/67 [==============================] - 3s 40ms/step - loss: 0.6160 - auc: 0.7210 - val_loss: 0.6054 - val_auc: 0.7357\n",
      "Epoch 59/150\n",
      "67/67 [==============================] - 3s 39ms/step - loss: 0.6136 - auc: 0.7238 - val_loss: 0.6056 - val_auc: 0.7356\n",
      "Epoch 60/150\n",
      "67/67 [==============================] - 3s 40ms/step - loss: 0.6146 - auc: 0.7228 - val_loss: 0.6055 - val_auc: 0.7360\n",
      "Epoch 61/150\n",
      "67/67 [==============================] - 3s 40ms/step - loss: 0.6148 - auc: 0.7224 - val_loss: 0.6052 - val_auc: 0.7362\n",
      "Epoch 62/150\n",
      "67/67 [==============================] - 3s 40ms/step - loss: 0.6140 - auc: 0.7233 - val_loss: 0.6050 - val_auc: 0.7361\n",
      "Epoch 63/150\n",
      "67/67 [==============================] - 3s 38ms/step - loss: 0.6133 - auc: 0.7245 - val_loss: 0.6047 - val_auc: 0.7363\n",
      "Epoch 64/150\n",
      "67/67 [==============================] - 3s 39ms/step - loss: 0.6148 - auc: 0.7224 - val_loss: 0.6049 - val_auc: 0.7363\n",
      "Epoch 65/150\n",
      "67/67 [==============================] - 3s 40ms/step - loss: 0.6122 - auc: 0.7259 - val_loss: 0.6046 - val_auc: 0.7366\n",
      "Epoch 66/150\n",
      "67/67 [==============================] - 3s 40ms/step - loss: 0.6130 - auc: 0.7247 - val_loss: 0.6048 - val_auc: 0.7366\n",
      "Epoch 67/150\n",
      "67/67 [==============================] - 3s 40ms/step - loss: 0.6123 - auc: 0.7257 - val_loss: 0.6043 - val_auc: 0.7369\n",
      "Epoch 68/150\n",
      "67/67 [==============================] - 3s 40ms/step - loss: 0.6111 - auc: 0.7270 - val_loss: 0.6041 - val_auc: 0.7371\n",
      "Epoch 69/150\n",
      "67/67 [==============================] - 3s 39ms/step - loss: 0.6109 - auc: 0.7275 - val_loss: 0.6041 - val_auc: 0.7371\n",
      "Epoch 70/150\n",
      "67/67 [==============================] - 3s 39ms/step - loss: 0.6112 - auc: 0.7271 - val_loss: 0.6041 - val_auc: 0.7370\n",
      "Epoch 71/150\n",
      "67/67 [==============================] - 3s 40ms/step - loss: 0.6108 - auc: 0.7275 - val_loss: 0.6041 - val_auc: 0.7372\n",
      "Epoch 72/150\n",
      "67/67 [==============================] - 3s 39ms/step - loss: 0.6094 - auc: 0.7294 - val_loss: 0.6036 - val_auc: 0.7375\n",
      "Epoch 73/150\n",
      "67/67 [==============================] - 3s 39ms/step - loss: 0.6113 - auc: 0.7271 - val_loss: 0.6044 - val_auc: 0.7374\n",
      "Epoch 74/150\n",
      "67/67 [==============================] - 3s 39ms/step - loss: 0.6106 - auc: 0.7283 - val_loss: 0.6036 - val_auc: 0.7377\n",
      "Epoch 75/150\n",
      "67/67 [==============================] - 3s 40ms/step - loss: 0.6101 - auc: 0.7284 - val_loss: 0.6037 - val_auc: 0.7374\n",
      "Epoch 76/150\n",
      "67/67 [==============================] - 3s 40ms/step - loss: 0.6094 - auc: 0.7294 - val_loss: 0.6034 - val_auc: 0.7379\n",
      "Epoch 77/150\n",
      "67/67 [==============================] - 3s 40ms/step - loss: 0.6092 - auc: 0.7295 - val_loss: 0.6034 - val_auc: 0.7379\n",
      "Epoch 78/150\n",
      "67/67 [==============================] - 3s 39ms/step - loss: 0.6110 - auc: 0.7277 - val_loss: 0.6039 - val_auc: 0.7375\n",
      "Epoch 79/150\n",
      "67/67 [==============================] - 3s 40ms/step - loss: 0.6101 - auc: 0.7284 - val_loss: 0.6036 - val_auc: 0.7377\n",
      "Epoch 80/150\n",
      "67/67 [==============================] - 3s 39ms/step - loss: 0.6088 - auc: 0.7299 - val_loss: 0.6031 - val_auc: 0.7382\n",
      "Epoch 81/150\n",
      "67/67 [==============================] - 3s 39ms/step - loss: 0.6099 - auc: 0.7284 - val_loss: 0.6033 - val_auc: 0.7382\n",
      "Epoch 82/150\n",
      "67/67 [==============================] - 3s 40ms/step - loss: 0.6096 - auc: 0.7291 - val_loss: 0.6031 - val_auc: 0.7382\n",
      "Epoch 83/150\n",
      "67/67 [==============================] - 3s 40ms/step - loss: 0.6075 - auc: 0.7319 - val_loss: 0.6032 - val_auc: 0.7379\n",
      "Epoch 84/150\n",
      "67/67 [==============================] - 3s 40ms/step - loss: 0.6086 - auc: 0.7305 - val_loss: 0.6031 - val_auc: 0.7381\n",
      "Epoch 85/150\n",
      "67/67 [==============================] - 3s 40ms/step - loss: 0.6081 - auc: 0.7315 - val_loss: 0.6030 - val_auc: 0.7382\n",
      "Epoch 86/150\n",
      "67/67 [==============================] - 3s 40ms/step - loss: 0.6079 - auc: 0.7314 - val_loss: 0.6034 - val_auc: 0.7383\n",
      "Epoch 87/150\n",
      "67/67 [==============================] - 3s 41ms/step - loss: 0.6058 - auc: 0.7344 - val_loss: 0.6029 - val_auc: 0.7385\n",
      "Epoch 88/150\n",
      "67/67 [==============================] - 3s 40ms/step - loss: 0.6058 - auc: 0.7338 - val_loss: 0.6034 - val_auc: 0.7382\n",
      "Epoch 89/150\n",
      "67/67 [==============================] - 3s 39ms/step - loss: 0.6092 - auc: 0.7297 - val_loss: 0.6030 - val_auc: 0.7386\n",
      "Epoch 90/150\n",
      "67/67 [==============================] - 3s 39ms/step - loss: 0.6086 - auc: 0.7306 - val_loss: 0.6029 - val_auc: 0.7381\n",
      "Epoch 91/150\n",
      "67/67 [==============================] - 3s 40ms/step - loss: 0.6066 - auc: 0.7327 - val_loss: 0.6029 - val_auc: 0.7383\n",
      "Epoch 92/150\n",
      "67/67 [==============================] - 3s 40ms/step - loss: 0.6076 - auc: 0.7319 - val_loss: 0.6026 - val_auc: 0.7387\n",
      "Epoch 93/150\n",
      "67/67 [==============================] - 3s 40ms/step - loss: 0.6067 - auc: 0.7326 - val_loss: 0.6032 - val_auc: 0.7389\n",
      "Epoch 94/150\n",
      "67/67 [==============================] - 3s 40ms/step - loss: 0.6077 - auc: 0.7316 - val_loss: 0.6024 - val_auc: 0.7389\n",
      "Epoch 95/150\n",
      "67/67 [==============================] - 3s 40ms/step - loss: 0.6056 - auc: 0.7341 - val_loss: 0.6023 - val_auc: 0.7390\n",
      "Epoch 96/150\n",
      "67/67 [==============================] - 3s 40ms/step - loss: 0.6056 - auc: 0.7342 - val_loss: 0.6023 - val_auc: 0.7388\n",
      "Epoch 97/150\n",
      "67/67 [==============================] - 3s 40ms/step - loss: 0.6075 - auc: 0.7320 - val_loss: 0.6026 - val_auc: 0.7385\n",
      "Epoch 98/150\n",
      "67/67 [==============================] - 3s 39ms/step - loss: 0.6068 - auc: 0.7328 - val_loss: 0.6030 - val_auc: 0.7386\n",
      "Epoch 99/150\n",
      "67/67 [==============================] - 3s 39ms/step - loss: 0.6076 - auc: 0.7321 - val_loss: 0.6027 - val_auc: 0.7386\n",
      "Epoch 100/150\n",
      "67/67 [==============================] - 3s 39ms/step - loss: 0.6055 - auc: 0.7347 - val_loss: 0.6023 - val_auc: 0.7390\n",
      "Epoch 101/150\n",
      "67/67 [==============================] - 3s 51ms/step - loss: 0.6049 - auc: 0.7352 - val_loss: 0.6022 - val_auc: 0.7392\n",
      "Epoch 102/150\n",
      "67/67 [==============================] - 3s 49ms/step - loss: 0.6059 - auc: 0.7338 - val_loss: 0.6023 - val_auc: 0.7390\n",
      "Epoch 103/150\n",
      "67/67 [==============================] - 3s 41ms/step - loss: 0.6041 - auc: 0.7362 - val_loss: 0.6018 - val_auc: 0.7394\n",
      "Epoch 104/150\n",
      "67/67 [==============================] - 3s 40ms/step - loss: 0.6052 - auc: 0.7351 - val_loss: 0.6021 - val_auc: 0.7392\n",
      "Epoch 105/150\n",
      "67/67 [==============================] - 3s 43ms/step - loss: 0.6056 - auc: 0.7343 - val_loss: 0.6021 - val_auc: 0.7392\n",
      "Epoch 106/150\n",
      "67/67 [==============================] - 3s 43ms/step - loss: 0.6044 - auc: 0.7356 - val_loss: 0.6019 - val_auc: 0.7391\n",
      "Epoch 107/150\n",
      "67/67 [==============================] - 3s 41ms/step - loss: 0.6061 - auc: 0.7339 - val_loss: 0.6023 - val_auc: 0.7395\n",
      "Epoch 108/150\n",
      "67/67 [==============================] - 3s 41ms/step - loss: 0.6051 - auc: 0.7351 - val_loss: 0.6019 - val_auc: 0.7393\n",
      "Epoch 109/150\n",
      "67/67 [==============================] - 3s 41ms/step - loss: 0.6043 - auc: 0.7357 - val_loss: 0.6020 - val_auc: 0.7389\n",
      "Epoch 110/150\n",
      "67/67 [==============================] - 3s 42ms/step - loss: 0.6043 - auc: 0.7356 - val_loss: 0.6024 - val_auc: 0.7392\n",
      "Epoch 111/150\n",
      "67/67 [==============================] - 3s 44ms/step - loss: 0.6042 - auc: 0.7362 - val_loss: 0.6019 - val_auc: 0.7394\n",
      "Epoch 112/150\n",
      "67/67 [==============================] - 3s 50ms/step - loss: 0.6055 - auc: 0.7345 - val_loss: 0.6020 - val_auc: 0.7391\n",
      "Epoch 113/150\n",
      "67/67 [==============================] - 3s 49ms/step - loss: 0.6059 - auc: 0.7337 - val_loss: 0.6023 - val_auc: 0.7391\n",
      "Epoch 114/150\n",
      "67/67 [==============================] - 3s 47ms/step - loss: 0.6049 - auc: 0.7351 - val_loss: 0.6025 - val_auc: 0.7393\n",
      "Epoch 115/150\n",
      "67/67 [==============================] - 3s 46ms/step - loss: 0.6035 - auc: 0.7369 - val_loss: 0.6022 - val_auc: 0.7394\n",
      "Epoch 116/150\n",
      "67/67 [==============================] - 3s 46ms/step - loss: 0.6040 - auc: 0.7364 - val_loss: 0.6020 - val_auc: 0.7392\n",
      "Epoch 117/150\n",
      "67/67 [==============================] - 3s 47ms/step - loss: 0.6035 - auc: 0.7369 - val_loss: 0.6024 - val_auc: 0.7392\n",
      "Epoch 118/150\n"
     ]
    },
    {
     "name": "stdout",
     "output_type": "stream",
     "text": [
      "67/67 [==============================] - 3s 46ms/step - loss: 0.6045 - auc: 0.7356 - val_loss: 0.6020 - val_auc: 0.7392\n",
      "Epoch 119/150\n",
      "67/67 [==============================] - 3s 47ms/step - loss: 0.6027 - auc: 0.7377 - val_loss: 0.6021 - val_auc: 0.7390\n",
      "Epoch 120/150\n",
      "67/67 [==============================] - 3s 46ms/step - loss: 0.6044 - auc: 0.7360 - val_loss: 0.6020 - val_auc: 0.7392\n",
      "Epoch 121/150\n",
      "67/67 [==============================] - 3s 47ms/step - loss: 0.6037 - auc: 0.7364 - val_loss: 0.6034 - val_auc: 0.7395\n",
      "Epoch 122/150\n",
      "67/67 [==============================] - 3s 47ms/step - loss: 0.6038 - auc: 0.7364 - val_loss: 0.6022 - val_auc: 0.7390\n",
      "Epoch 123/150\n",
      "67/67 [==============================] - 3s 48ms/step - loss: 0.6032 - auc: 0.7374 - val_loss: 0.6019 - val_auc: 0.7392\n",
      "Epoch 124/150\n",
      "67/67 [==============================] - 3s 46ms/step - loss: 0.6033 - auc: 0.7372 - val_loss: 0.6017 - val_auc: 0.7395\n",
      "Epoch 125/150\n",
      "67/67 [==============================] - 3s 46ms/step - loss: 0.6026 - auc: 0.7382 - val_loss: 0.6017 - val_auc: 0.7395\n",
      "Epoch 126/150\n",
      "67/67 [==============================] - 3s 47ms/step - loss: 0.6031 - auc: 0.7375 - val_loss: 0.6017 - val_auc: 0.7393\n",
      "Epoch 127/150\n",
      "67/67 [==============================] - 3s 48ms/step - loss: 0.6048 - auc: 0.7352 - val_loss: 0.6021 - val_auc: 0.7392\n",
      "Epoch 128/150\n",
      "67/67 [==============================] - 3s 47ms/step - loss: 0.6023 - auc: 0.7386 - val_loss: 0.6018 - val_auc: 0.7392\n",
      "Epoch 129/150\n",
      "67/67 [==============================] - 3s 47ms/step - loss: 0.6029 - auc: 0.7377 - val_loss: 0.6019 - val_auc: 0.7392\n",
      "Epoch 130/150\n",
      "67/67 [==============================] - 3s 47ms/step - loss: 0.6010 - auc: 0.7400 - val_loss: 0.6019 - val_auc: 0.7393\n",
      "Epoch 131/150\n",
      "67/67 [==============================] - 3s 47ms/step - loss: 0.6012 - auc: 0.7400 - val_loss: 0.6026 - val_auc: 0.7390\n",
      "Epoch 132/150\n",
      "67/67 [==============================] - 3s 46ms/step - loss: 0.6016 - auc: 0.7391 - val_loss: 0.6024 - val_auc: 0.7392\n",
      "Epoch 133/150\n",
      "67/67 [==============================] - 3s 46ms/step - loss: 0.6016 - auc: 0.7390 - val_loss: 0.6019 - val_auc: 0.7393\n",
      "Epoch 134/150\n",
      "67/67 [==============================] - 3s 47ms/step - loss: 0.6035 - auc: 0.7369 - val_loss: 0.6019 - val_auc: 0.7391\n",
      "Epoch 135/150\n",
      "67/67 [==============================] - 3s 47ms/step - loss: 0.6020 - auc: 0.7387 - val_loss: 0.6018 - val_auc: 0.7393\n",
      "Epoch 136/150\n",
      "67/67 [==============================] - 3s 47ms/step - loss: 0.6015 - auc: 0.7394 - val_loss: 0.6021 - val_auc: 0.7394\n",
      "Epoch 137/150\n",
      "67/67 [==============================] - 3s 47ms/step - loss: 0.6022 - auc: 0.7385 - val_loss: 0.6018 - val_auc: 0.7391\n",
      "Epoch 138/150\n",
      "67/67 [==============================] - 3s 47ms/step - loss: 0.6003 - auc: 0.7409 - val_loss: 0.6021 - val_auc: 0.7395\n",
      "Epoch 139/150\n",
      "67/67 [==============================] - 3s 47ms/step - loss: 0.6010 - auc: 0.7404 - val_loss: 0.6021 - val_auc: 0.7392\n",
      "Epoch 140/150\n",
      "67/67 [==============================] - 3s 47ms/step - loss: 0.6004 - auc: 0.7409 - val_loss: 0.6017 - val_auc: 0.7394\n",
      "Epoch 141/150\n",
      "67/67 [==============================] - 3s 46ms/step - loss: 0.6012 - auc: 0.7397 - val_loss: 0.6017 - val_auc: 0.7394\n",
      "Epoch 142/150\n",
      "67/67 [==============================] - 3s 46ms/step - loss: 0.6006 - auc: 0.7407 - val_loss: 0.6020 - val_auc: 0.7394\n",
      "Epoch 143/150\n",
      "67/67 [==============================] - 3s 47ms/step - loss: 0.6014 - auc: 0.7395 - val_loss: 0.6016 - val_auc: 0.7396\n",
      "Epoch 144/150\n",
      "67/67 [==============================] - 3s 47ms/step - loss: 0.6001 - auc: 0.7411 - val_loss: 0.6016 - val_auc: 0.7396\n",
      "Epoch 145/150\n",
      "67/67 [==============================] - 3s 47ms/step - loss: 0.6005 - auc: 0.7403 - val_loss: 0.6015 - val_auc: 0.7397\n",
      "Epoch 146/150\n",
      "67/67 [==============================] - 3s 47ms/step - loss: 0.6007 - auc: 0.7399 - val_loss: 0.6016 - val_auc: 0.7397\n",
      "Epoch 147/150\n",
      "67/67 [==============================] - 3s 47ms/step - loss: 0.6001 - auc: 0.7412 - val_loss: 0.6014 - val_auc: 0.7397\n",
      "Epoch 148/150\n",
      "67/67 [==============================] - 3s 47ms/step - loss: 0.5995 - auc: 0.7421 - val_loss: 0.6017 - val_auc: 0.7396\n",
      "Epoch 149/150\n",
      "67/67 [==============================] - 3s 46ms/step - loss: 0.6012 - auc: 0.7396 - val_loss: 0.6015 - val_auc: 0.7394\n",
      "Epoch 150/150\n",
      "67/67 [==============================] - 3s 46ms/step - loss: 0.6005 - auc: 0.7404 - val_loss: 0.6016 - val_auc: 0.7394\n"
     ]
    }
   ],
   "source": [
    "history = model1.fit([X_dynamic_train[:,-48:,:],X_static_train], y_train,\n",
    "                     validation_data=([X_dynamic_test[:,-48:,:], X_static_test], y_test),\n",
    "                    epochs=150, batch_size= 500)"
   ]
  },
  {
   "cell_type": "markdown",
   "id": "difficult-democrat",
   "metadata": {},
   "source": [
    "## Area Unde ROC Curve"
   ]
  },
  {
   "cell_type": "code",
   "execution_count": 11,
   "id": "southeast-anthony",
   "metadata": {
    "scrolled": false
   },
   "outputs": [
    {
     "data": {
      "image/png": "[encoded data removed]",
      "text/plain": [
       "<Figure size 432x288 with 1 Axes>"
      ]
     },
     "metadata": {
      "needs_background": "light"
     },
     "output_type": "display_data"
    }
   ],
   "source": [
    "\n",
    "loss_train = history.history['auc']\n",
    "loss_val = history.history['val_auc']\n",
    "epochs = range(150)\n",
    "plt.plot(epochs, loss_train, 'g', label='Training AUC')\n",
    "plt.plot(epochs, loss_val, 'b', label='validation AUC')\n",
    "plt.title('Training and Validation AUC')\n",
    "plt.xlabel('Epochs')\n",
    "plt.ylabel('AUC')\n",
    "plt.legend()\n",
    "plt.show()"
   ]
  },
  {
   "cell_type": "code",
   "execution_count": 21,
   "id": "commercial-adventure",
   "metadata": {},
   "outputs": [],
   "source": [
    "from sklearn.metrics import roc_curve, auc\n",
    "y_pred_keras = model1.predict([X_dynamic_test[:,-48:,:], X_static_test]).ravel()\n",
    "fpr_keras, tpr_keras, thresholds_keras = roc_curve(y_test, y_pred_keras)\n",
    "auc_keras = auc(fpr_keras, tpr_keras)"
   ]
  },
  {
   "cell_type": "code",
   "execution_count": 23,
   "id": "wicked-nicholas",
   "metadata": {},
   "outputs": [
    {
     "data": {
      "image/png": "[encoded data removed]",
      "text/plain": [
       "<Figure size 432x288 with 1 Axes>"
      ]
     },
     "metadata": {
      "needs_background": "light"
     },
     "output_type": "display_data"
    }
   ],
   "source": [
    "\n",
    "plt.plot(fpr_keras, tpr_keras, label='Keras (area = {:.3f})'.format(auc_keras))\n",
    "plt.xlabel('False positive rate')\n",
    "plt.ylabel('True positive rate')\n",
    "plt.title('ROC curve')\n",
    "plt.legend(loc='best')\n",
    "plt.show()"
   ]
  }
 ],
 "metadata": {
  "kernelspec": {
   "display_name": "Python 3",
   "language": "python",
   "name": "python3"
  },
  "language_info": {
   "codemirror_mode": {
    "name": "ipython",
    "version": 3
   },
   "file_extension": ".py",
   "mimetype": "text/x-python",
   "name": "python",
   "nbconvert_exporter": "python",
   "pygments_lexer": "ipython3",
   "version": "3.8.8"
  }
 },
 "nbformat": 4,
 "nbformat_minor": 5
}

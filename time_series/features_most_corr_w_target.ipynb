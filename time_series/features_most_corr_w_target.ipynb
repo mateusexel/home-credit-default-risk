{
 "cells": [
  {
   "cell_type": "code",
   "execution_count": 1,
   "id": "catholic-crisis",
   "metadata": {},
   "outputs": [],
   "source": [
    "import pandas as pd\n",
    "import numpy as np\n",
    "import matplotlib.pyplot as plt"
   ]
  },
  {
   "cell_type": "code",
   "execution_count": 9,
   "id": "aerial-laundry",
   "metadata": {},
   "outputs": [],
   "source": [
    "app =  pd.read_csv('../data/application_train.csv')[['SK_ID_CURR','TARGET']]\n",
    "cre=  pd.read_csv('../data/credit_card_balance.csv')\n",
    "# POS_CASH_balance =  pd.read_csv('../data/POS_CASH_balance.csv')\n",
    "# installments_payments =  pd.read_csv('../data/installments_payments.csv')\n",
    "\n",
    "# installments_payments['MONTHS_BALANCE'] = (installments_payments['DAYS_INSTALMENT']/30).round().astype(int)"
   ]
  },
  {
   "cell_type": "code",
   "execution_count": 10,
   "id": "advanced-variance",
   "metadata": {},
   "outputs": [
    {
     "data": {
      "text/plain": [
       "103558"
      ]
     },
     "execution_count": 10,
     "metadata": {},
     "output_type": "execute_result"
    }
   ],
   "source": [
    "len(cre['SK_ID_CURR'].unique())"
   ]
  },
  {
   "cell_type": "code",
   "execution_count": 11,
   "id": "ready-gothic",
   "metadata": {},
   "outputs": [
    {
     "data": {
      "text/plain": [
       "307511"
      ]
     },
     "execution_count": 11,
     "metadata": {},
     "output_type": "execute_result"
    }
   ],
   "source": [
    "len(app['SK_ID_CURR'].unique())"
   ]
  },
  {
   "cell_type": "code",
   "execution_count": 16,
   "id": "homeless-florist",
   "metadata": {},
   "outputs": [
    {
     "data": {
      "text/plain": [
       "TARGET                        1.000000\n",
       "AMT_BALANCE                   0.050098\n",
       "AMT_TOTAL_RECEIVABLE          0.049839\n",
       "AMT_RECIVABLE                 0.049803\n",
       "AMT_RECEIVABLE_PRINCIPAL      0.049692\n",
       "AMT_INST_MIN_REGULARITY       0.039798\n",
       "CNT_DRAWINGS_ATM_CURRENT      0.038437\n",
       "CNT_DRAWINGS_CURRENT          0.037793\n",
       "MONTHS_BALANCE                0.035695\n",
       "CNT_DRAWINGS_POS_CURRENT      0.029536\n",
       "AMT_DRAWINGS_ATM_CURRENT      0.024700\n",
       "CNT_INSTALMENT_MATURE_CUM     0.023684\n",
       "AMT_DRAWINGS_CURRENT          0.022378\n",
       "AMT_CREDIT_LIMIT_ACTUAL       0.013823\n",
       "AMT_PAYMENT_CURRENT           0.012929\n",
       "AMT_PAYMENT_TOTAL_CURRENT     0.012302\n",
       "SK_DPD_DEF                    0.010538\n",
       "AMT_DRAWINGS_POS_CURRENT      0.005084\n",
       "SK_ID_CURR                    0.004617\n",
       "AMT_DRAWINGS_OTHER_CURRENT    0.003843\n",
       "CNT_DRAWINGS_OTHER_CURRENT    0.003044\n",
       "SK_ID_PREV                    0.002571\n",
       "SK_DPD                        0.001684\n",
       "Name: TARGET, dtype: float64"
      ]
     },
     "execution_count": 16,
     "metadata": {},
     "output_type": "execute_result"
    }
   ],
   "source": [
    "pd.merge(app, cre, how= 'inner').corr().abs()['TARGET'].sort_values(ascending=False)"
   ]
  },
  {
   "cell_type": "code",
   "execution_count": null,
   "id": "disciplinary-liberal",
   "metadata": {},
   "outputs": [],
   "source": []
  },
  {
   "cell_type": "code",
   "execution_count": 15,
   "id": "tender-hurricane",
   "metadata": {},
   "outputs": [],
   "source": [
    "df = pd.merge(app,pd.merge(installments_payments, pd.merge(POS_CASH_balance,credit_card_balance, how = 'outer') , how='outer'),how='left').groupby('SK_ID_CURR').mean().corr()['TARGET']"
   ]
  },
  {
   "cell_type": "code",
   "execution_count": 19,
   "id": "simplified-boating",
   "metadata": {},
   "outputs": [],
   "source": [
    "main_features = df.abs().sort_values(ascending=False)[1:9].keys()"
   ]
  },
  {
   "cell_type": "code",
   "execution_count": 20,
   "id": "wrapped-eugene",
   "metadata": {
    "scrolled": true
   },
   "outputs": [
    {
     "data": {
      "text/plain": [
       "Index(['DAYS_ENTRY_PAYMENT', 'DAYS_INSTALMENT', 'MONTHS_BALANCE',\n",
       "       'NUM_INSTALMENT_VERSION', 'CNT_INSTALMENT_FUTURE', 'AMT_PAYMENT',\n",
       "       'AMT_INSTALMENT', 'CNT_INSTALMENT'],\n",
       "      dtype='object')"
      ]
     },
     "execution_count": 20,
     "metadata": {},
     "output_type": "execute_result"
    }
   ],
   "source": [
    "main_features"
   ]
  },
  {
   "cell_type": "code",
   "execution_count": null,
   "id": "scientific-customs",
   "metadata": {},
   "outputs": [],
   "source": []
  },
  {
   "cell_type": "code",
   "execution_count": null,
   "id": "consolidated-democracy",
   "metadata": {},
   "outputs": [],
   "source": []
  },
  {
   "cell_type": "markdown",
   "id": "cellular-thanks",
   "metadata": {},
   "source": [
    "# cells bellow will be used to create a model on another notebook"
   ]
  },
  {
   "cell_type": "code",
   "execution_count": null,
   "id": "fifth-preservation",
   "metadata": {},
   "outputs": [],
   "source": []
  },
  {
   "cell_type": "code",
   "execution_count": null,
   "id": "dressed-climate",
   "metadata": {},
   "outputs": [],
   "source": [
    "ap, cre , pos, ins = app.columns,credit_card_balance.columns, POS_CASH_balance.columns, installments_payments.columns"
   ]
  },
  {
   "cell_type": "code",
   "execution_count": null,
   "id": "cooked-given",
   "metadata": {},
   "outputs": [],
   "source": [
    "print([ap, cre , pos, ins].remove(ap))"
   ]
  },
  {
   "cell_type": "code",
   "execution_count": null,
   "id": "inner-claim",
   "metadata": {},
   "outputs": [],
   "source": [
    "ins & pos\n",
    "    "
   ]
  },
  {
   "cell_type": "code",
   "execution_count": null,
   "id": "promotional-check",
   "metadata": {},
   "outputs": [],
   "source": [
    "POS_CASH_balance.isna().sum().sort_values(ascending=False)"
   ]
  },
  {
   "cell_type": "code",
   "execution_count": null,
   "id": "dated-columbia",
   "metadata": {},
   "outputs": [],
   "source": [
    "credit_card_balance = credit_card_balance.rename(columns = {'NAME_CONTRACT_STATUS':'CRE_NAME_CONTRACT_STATUS','SK_DPD':'CRE_SK_DPD', 'SK_DPD_DEF':'CRE_SK_DPD_DEF'})"
   ]
  },
  {
   "cell_type": "code",
   "execution_count": null,
   "id": "studied-feelings",
   "metadata": {},
   "outputs": [],
   "source": [
    "len(list(POS_CASH_balance['SK_ID_PREV']) and list(credit_card_balance['SK_ID_PREV']))"
   ]
  },
  {
   "cell_type": "code",
   "execution_count": null,
   "id": "retained-investor",
   "metadata": {},
   "outputs": [],
   "source": [
    "pd.merge(POS_CASH_balance, credit_card_balance, left_on=['SK_ID_PREV'], right_on=['SK_ID_PREV'], how='inner')"
   ]
  },
  {
   "cell_type": "code",
   "execution_count": null,
   "id": "expanded-creek",
   "metadata": {},
   "outputs": [],
   "source": [
    "pd.merge(POS_CASH_balance, credit_card_balance, left_on=['SK_ID_PREV'], right_on=['SK_ID_PREV'], how='left').isna().sum().sort_values(ascending=False)"
   ]
  },
  {
   "cell_type": "code",
   "execution_count": null,
   "id": "searching-ribbon",
   "metadata": {},
   "outputs": [],
   "source": [
    "POS_CASH_balance.head(3)"
   ]
  },
  {
   "cell_type": "code",
   "execution_count": null,
   "id": "abroad-madagascar",
   "metadata": {},
   "outputs": [],
   "source": [
    "credit_card_balance.head(3)"
   ]
  },
  {
   "cell_type": "code",
   "execution_count": null,
   "id": "accepting-bottom",
   "metadata": {},
   "outputs": [],
   "source": [
    "credit_card_balance.isna().sum().sort_values(ascending=False)"
   ]
  },
  {
   "cell_type": "code",
   "execution_count": null,
   "id": "angry-remains",
   "metadata": {},
   "outputs": [],
   "source": [
    "pd.merge(POS_CASH_balance, credit_card_balance, how='left').shape"
   ]
  },
  {
   "cell_type": "code",
   "execution_count": null,
   "id": "aggressive-confidence",
   "metadata": {
    "scrolled": true
   },
   "outputs": [],
   "source": [
    "df = pd.merge(app[['SK_ID_CURR', 'TARGET']], POS_CASH_balance, how='left')\n",
    "print(df.isna().sum().sort_values(ascending = False)[:3],'oioioi' ,df.shape[0])\n",
    "df = pd.merge(df, credit_card_balance.drop(['SK_ID_CURR'],axis=1), how='left')\n",
    "print(df.isna().sum().sort_values(ascending = False)[:3], df.shape[0])\n",
    "# df = pd.merge(df, installments_payments.drop(['SK_ID_CURR'],axis=1), how='left')\n",
    "# # print(df.isna().sum().sort_values(ascending = False)[:3], df.shape[0])\n"
   ]
  },
  {
   "cell_type": "code",
   "execution_count": null,
   "id": "solid-captain",
   "metadata": {},
   "outputs": [],
   "source": [
    "credit_card_balance.columns"
   ]
  },
  {
   "cell_type": "code",
   "execution_count": null,
   "id": "alien-priority",
   "metadata": {},
   "outputs": [],
   "source": [
    "df.shape"
   ]
  },
  {
   "cell_type": "code",
   "execution_count": null,
   "id": "qualified-version",
   "metadata": {
    "scrolled": true
   },
   "outputs": [],
   "source": [
    "df.isna().sum().sort_values(ascending = False)"
   ]
  },
  {
   "cell_type": "code",
   "execution_count": null,
   "id": "unlimited-italian",
   "metadata": {},
   "outputs": [],
   "source": [
    "y = app['TARGET']"
   ]
  },
  {
   "cell_type": "code",
   "execution_count": null,
   "id": "engaged-polish",
   "metadata": {},
   "outputs": [],
   "source": [
    "df = df.drop(['TARGET'], axis=1)"
   ]
  },
  {
   "cell_type": "code",
   "execution_count": null,
   "id": "future-blackberry",
   "metadata": {},
   "outputs": [],
   "source": [
    "df = df.pivot_table(values=list(set(df.columns) - set(['SK_ID_PREV', 'SK_ID_CURR', 'MONTHS_BALANCE'])), index='SK_ID_CURR', columns='MONTHS_BALANCE')\n"
   ]
  },
  {
   "cell_type": "code",
   "execution_count": null,
   "id": "transsexual-tactics",
   "metadata": {},
   "outputs": [],
   "source": [
    "df"
   ]
  },
  {
   "cell_type": "code",
   "execution_count": null,
   "id": "general-tuition",
   "metadata": {},
   "outputs": [],
   "source": [
    "df = df.values.reshape((307511,81,4))"
   ]
  },
  {
   "cell_type": "code",
   "execution_count": null,
   "id": "authentic-fleet",
   "metadata": {},
   "outputs": [],
   "source": [
    "df = np.nan_to_num(df)"
   ]
  },
  {
   "cell_type": "code",
   "execution_count": null,
   "id": "comparable-burlington",
   "metadata": {},
   "outputs": [],
   "source": [
    "y = y.to_numpy()"
   ]
  },
  {
   "cell_type": "code",
   "execution_count": null,
   "id": "given-arrow",
   "metadata": {
    "scrolled": true
   },
   "outputs": [],
   "source": [
    "# np.savetxt('../data/X_train.csv', df, delimiter=',')\n",
    "# np.savetxt('../data/Y_train.csv', y, delimiter=',')"
   ]
  },
  {
   "cell_type": "code",
   "execution_count": null,
   "id": "derived-airfare",
   "metadata": {},
   "outputs": [],
   "source": [
    "len(y)"
   ]
  },
  {
   "cell_type": "code",
   "execution_count": null,
   "id": "sealed-worker",
   "metadata": {},
   "outputs": [],
   "source": [
    "from sklearn.model_selection import train_test_split\n",
    "import tensorflow as tf\n",
    "from tensorflow import keras\n",
    "from tensorflow.keras import layers\n",
    "physical_devices = tf.config.list_physical_devices('GPU')\n",
    "tf.config.experimental.set_memory_growth(physical_devices[0], enable=True)"
   ]
  },
  {
   "cell_type": "code",
   "execution_count": null,
   "id": "cellular-finish",
   "metadata": {},
   "outputs": [],
   "source": [
    "X_train, X_test, y_train, y_test = train_test_split(df, y, test_size=0.33, random_state=42)"
   ]
  },
  {
   "cell_type": "code",
   "execution_count": null,
   "id": "excess-firewall",
   "metadata": {},
   "outputs": [],
   "source": [
    "model = tf.keras.Sequential([\n",
    "    tf.keras.layers.LSTM(4, return_sequences = True),\n",
    "    tf.keras.layers.LSTM(2, return_sequences = False)\n",
    "])"
   ]
  },
  {
   "cell_type": "code",
   "execution_count": null,
   "id": "oriental-diesel",
   "metadata": {},
   "outputs": [],
   "source": [
    "model.compile(optimizer='adam', \n",
    "              loss='mean_squared_error', \n",
    "              metrics='accuracy')"
   ]
  },
  {
   "cell_type": "code",
   "execution_count": null,
   "id": "integral-injury",
   "metadata": {},
   "outputs": [],
   "source": [
    "history = model.fit(x=X_train, y=y_train, epochs= 50, batch_size=500, validation_data=(X_test,y_test) )"
   ]
  },
  {
   "cell_type": "code",
   "execution_count": null,
   "id": "retained-dictionary",
   "metadata": {},
   "outputs": [],
   "source": [
    "loss_train = history.history['train_loss']\n",
    "loss_val = history.history['val_loss']\n",
    "epochs = range(1,35)\n",
    "plt.plot(epochs, loss_train, 'g', label='Training loss')\n",
    "plt.plot(epochs, loss_val, 'b', label='validation loss')\n",
    "plt.title('Training and Validation loss')\n",
    "plt.xlabel('Epochs')\n",
    "plt.ylabel('Loss')\n",
    "plt.legend()\n",
    "plt.show()"
   ]
  },
  {
   "cell_type": "code",
   "execution_count": null,
   "id": "german-crown",
   "metadata": {},
   "outputs": [],
   "source": [
    "cre_fill = credit_card_balance.fillna('mean')"
   ]
  },
  {
   "cell_type": "code",
   "execution_count": null,
   "id": "friendly-district",
   "metadata": {},
   "outputs": [],
   "source": [
    "cre_fill.astype(int)"
   ]
  },
  {
   "cell_type": "code",
   "execution_count": null,
   "id": "rocky-sleep",
   "metadata": {},
   "outputs": [],
   "source": []
  },
  {
   "cell_type": "code",
   "execution_count": null,
   "id": "related-karaoke",
   "metadata": {},
   "outputs": [],
   "source": [
    "\n",
    "print(len(set(app['SK_ID_CURR'])))\n",
    "print(len(set(credit_card_balance['SK_ID_CURR'])))\n",
    "print(len(set(POS_CASH_balance['SK_ID_CURR'])))\n",
    "print(len(set(installments_payments['SK_ID_CURR'])))"
   ]
  },
  {
   "cell_type": "code",
   "execution_count": null,
   "id": "parliamentary-vanilla",
   "metadata": {},
   "outputs": [],
   "source": [
    "# values =list(set(installments_payments.columns) - set(['SK_ID_PREV', 'SK_ID_CURR', 'MONTHS_BALANCE']))"
   ]
  },
  {
   "cell_type": "code",
   "execution_count": null,
   "id": "convenient-reconstruction",
   "metadata": {},
   "outputs": [],
   "source": [
    "POS_CASH_balance.columns"
   ]
  },
  {
   "cell_type": "code",
   "execution_count": null,
   "id": "improved-grounds",
   "metadata": {
    "scrolled": true
   },
   "outputs": [],
   "source": [
    "credit_card_balance = credit_card_balance.pivot_table(values=list(set(credit_card_balance.columns) - set(['SK_ID_PREV', 'SK_ID_CURR', 'MONTHS_BALANCE'])), index='SK_ID_CURR', columns='MONTHS_BALANCE')\n",
    "\n",
    "POS_CASH_balance = POS_CASH_balance.pivot_table(values=list(set(POS_CASH_balance.columns) - set(['SK_ID_PREV', 'SK_ID_CURR', 'MONTHS_BALANCE'])), index='SK_ID_CURR', columns='MONTHS_BALANCE')\n",
    "\n",
    "installments_payments = installments_payments.pivot_table(values=list(set(installments_payments.columns) - set(['SK_ID_PREV', 'SK_ID_CURR', 'MONTHS_BALANCE'])), index='SK_ID_CURR', columns='MONTHS_BALANCE')"
   ]
  },
  {
   "cell_type": "code",
   "execution_count": null,
   "id": "photographic-incentive",
   "metadata": {},
   "outputs": [],
   "source": [
    "POS_CASH_balance"
   ]
  },
  {
   "cell_type": "code",
   "execution_count": null,
   "id": "fifth-removal",
   "metadata": {},
   "outputs": [],
   "source": [
    "credit_card_balance.shape"
   ]
  },
  {
   "cell_type": "code",
   "execution_count": null,
   "id": "criminal-bargain",
   "metadata": {},
   "outputs": [],
   "source": [
    "POS_CASH_balance.shape"
   ]
  },
  {
   "cell_type": "code",
   "execution_count": null,
   "id": "subjective-territory",
   "metadata": {},
   "outputs": [],
   "source": [
    "priit"
   ]
  },
  {
   "cell_type": "code",
   "execution_count": null,
   "id": "cubic-strategy",
   "metadata": {},
   "outputs": [],
   "source": [
    "installments_payments.shape[1]/81"
   ]
  },
  {
   "cell_type": "code",
   "execution_count": null,
   "id": "czech-prescription",
   "metadata": {},
   "outputs": [],
   "source": [
    "# credit_card_balance= credit_card_balance.values.reshape((86905,80,19))\n",
    "# POS_CASH_balance= POS_CASH_balance.values.reshape((285213,80,4))\n",
    "installments_payments= installments_payments.values.reshape((288410,81,6))\n"
   ]
  },
  {
   "cell_type": "code",
   "execution_count": null,
   "id": "anonymous-finding",
   "metadata": {},
   "outputs": [],
   "source": [
    "installments_payments.keys"
   ]
  },
  {
   "cell_type": "code",
   "execution_count": null,
   "id": "federal-ferry",
   "metadata": {},
   "outputs": [],
   "source": [
    "df = installments_payments[installments_payments['SK_ID_CURR'].isin(app['SK_ID_CURR'])]"
   ]
  },
  {
   "cell_type": "code",
   "execution_count": null,
   "id": "fifty-theme",
   "metadata": {},
   "outputs": [],
   "source": [
    "df.shape"
   ]
  },
  {
   "cell_type": "code",
   "execution_count": null,
   "id": "printable-gentleman",
   "metadata": {},
   "outputs": [],
   "source": [
    "df = pd.merge(df, POS_CASH_balance, how='left')\n",
    "# df.head(5)"
   ]
  },
  {
   "cell_type": "code",
   "execution_count": null,
   "id": "ranking-sheet",
   "metadata": {},
   "outputs": [],
   "source": [
    "df.isna().sum()"
   ]
  },
  {
   "cell_type": "code",
   "execution_count": null,
   "id": "earned-express",
   "metadata": {},
   "outputs": [],
   "source": [
    "df.shape"
   ]
  },
  {
   "cell_type": "code",
   "execution_count": null,
   "id": "endangered-stability",
   "metadata": {
    "scrolled": true
   },
   "outputs": [],
   "source": [
    "df=pd.merge(df, credit_card_balance, how = 'left')\n",
    "# df.head(5)"
   ]
  },
  {
   "cell_type": "code",
   "execution_count": null,
   "id": "cubic-alcohol",
   "metadata": {},
   "outputs": [],
   "source": [
    "df = df[df['MONTHS_BALANCE']>-80]"
   ]
  },
  {
   "cell_type": "code",
   "execution_count": null,
   "id": "equivalent-toner",
   "metadata": {},
   "outputs": [],
   "source": [
    "df.shape"
   ]
  },
  {
   "cell_type": "code",
   "execution_count": null,
   "id": "technological-victor",
   "metadata": {},
   "outputs": [],
   "source": [
    "\n",
    "del credit_card_balance, POS_CASH_balance ,installments_payments\n",
    "gc.collect()"
   ]
  },
  {
   "cell_type": "code",
   "execution_count": null,
   "id": "finnish-generation",
   "metadata": {},
   "outputs": [],
   "source": [
    "# df = df[df['SK_ID_CURR'].isin(app['SK_ID_CURR'])]"
   ]
  },
  {
   "cell_type": "code",
   "execution_count": null,
   "id": "collect-tokyo",
   "metadata": {},
   "outputs": [],
   "source": [
    "values = list(set(df.columns) - set(['SK_ID_PREV', 'SK_ID_CURR', 'MONTHS_BALANCE']))"
   ]
  },
  {
   "cell_type": "code",
   "execution_count": null,
   "id": "fleet-acceptance",
   "metadata": {},
   "outputs": [],
   "source": [
    "df_pivot = df.pivot_table(values=values, index='SK_ID_CURR', columns='MONTHS_BALANCE')"
   ]
  },
  {
   "cell_type": "code",
   "execution_count": null,
   "id": "aggregate-brooks",
   "metadata": {},
   "outputs": [],
   "source": [
    "# import pandas as pd\n",
    "# import numpy as np\n",
    "# import gc\n",
    "# credit_card_balance =  pd.read_csv('../data/credit_card_balance.csv')\n",
    "# POS_CASH_balance =  pd.read_csv('../data/POS_CASH_balance.csv')\n",
    "# installments_payments =  pd.read_csv('../data/installments_payments.csv')\n",
    "# installments_payments['MONTHS_BALANCE'] = (installments_payments['DAYS_INSTALMENT']/30).round().astype(int)\n",
    "# df = pd.merge(POS_CASH_balance, installments_payments,  left_on=(['SK_ID_PREV','SK_ID_CURR','MONTHS_BALANCE']), right_on=(['SK_ID_PREV','SK_ID_CURR','MONTHS_BALANCE']), how='outer')\n",
    "# df=pd.merge(df, credit_card_balance, how = 'outer')\n",
    "# del credit_card_balance, POS_CASH_balance ,installments_payments\n",
    "# gc.collect()\n",
    "# values = list(set(df.columns) - set(['SK_ID_PREV', 'SK_ID_CURR', 'MONTHS_BALANCE']))\n",
    "# df_pivot = df.pivot_table(values=values, index='SK_ID_CURR', columns='MONTHS_BALANCE').to_json('../treated_data/timeseries.json')"
   ]
  }
 ],
 "metadata": {
  "kernelspec": {
   "display_name": "Python 3",
   "language": "python",
   "name": "python3"
  },
  "language_info": {
   "codemirror_mode": {
    "name": "ipython",
    "version": 3
   },
   "file_extension": ".py",
   "mimetype": "text/x-python",
   "name": "python",
   "nbconvert_exporter": "python",
   "pygments_lexer": "ipython3",
   "version": "3.8.8"
  }
 },
 "nbformat": 4,
 "nbformat_minor": 5
}

{
 "cells": [
  {
   "cell_type": "code",
   "execution_count": 16,
   "id": "arctic-squad",
   "metadata": {},
   "outputs": [],
   "source": [
    "import pandas as pd\n",
    "import numpy as np\n",
    "import json\n",
    "import matplotlib.pyplot as plt"
   ]
  },
  {
   "cell_type": "code",
   "execution_count": 17,
   "id": "analyzed-gospel",
   "metadata": {
    "scrolled": true
   },
   "outputs": [
    {
     "name": "stderr",
     "output_type": "stream",
     "text": [
      "/home/mateus/anaconda3/envs/home-credit/lib/python3.8/site-packages/IPython/core/interactiveshell.py:3155: DtypeWarning: Columns (137,138,149,151) have mixed types.Specify dtype option on import or set low_memory=False.\n",
      "  has_raised = await self.run_ast_nodes(code_ast.body, cell_name,\n",
      "/home/mateus/anaconda3/envs/home-credit/lib/python3.8/site-packages/numpy/lib/arraysetops.py:580: FutureWarning: elementwise comparison failed; returning scalar instead, but in the future will perform elementwise comparison\n",
      "  mask |= (ar1 == a)\n",
      "/home/mateus/anaconda3/envs/home-credit/lib/python3.8/site-packages/IPython/core/interactiveshell.py:3155: DtypeWarning: Columns (136,137,148,150) have mixed types.Specify dtype option on import or set low_memory=False.\n",
      "  has_raised = await self.run_ast_nodes(code_ast.body, cell_name,\n"
     ]
    }
   ],
   "source": [
    "X = pd.read_csv('../treated_data/df_merged.csv', index_col=0)\n",
    "X_test = pd.read_csv('../treated_data/df_merged_test.csv', index_col=0)\n",
    "\n",
    "\n",
    "with open('../treated_data/type_of_feature.json', 'r') as fp:\n",
    "    type_of_feature = json.load(fp)"
   ]
  },
  {
   "cell_type": "markdown",
   "id": "falling-wednesday",
   "metadata": {},
   "source": [
    "# Static DF train"
   ]
  },
  {
   "cell_type": "code",
   "execution_count": 18,
   "id": "complicated-ceramic",
   "metadata": {},
   "outputs": [
    {
     "data": {
      "text/plain": [
       "array([dtype('int64'), dtype('O'), dtype('float64')], dtype=object)"
      ]
     },
     "execution_count": 18,
     "metadata": {},
     "output_type": "execute_result"
    }
   ],
   "source": [
    "# Create static df\n",
    "df_static = X[type_of_feature['static']]\n",
    "df_static.dtypes.unique()"
   ]
  },
  {
   "cell_type": "code",
   "execution_count": 13,
   "id": "unavailable-compensation",
   "metadata": {},
   "outputs": [],
   "source": [
    "df_static['CREDIT_INCOME_PERCENT'] = df_static['AMT_CREDIT'] / df_static['AMT_INCOME_TOTAL']\n",
    "df_static['ANNUITY_INCOME_PERCENT'] = df_static['AMT_ANNUITY'] / df_static['AMT_INCOME_TOTAL']\n",
    "df_static['CREDIT_TERM'] = df_static['AMT_ANNUITY'] / df_static['AMT_CREDIT']\n",
    "df_static['DAYS_EMPLOYED_PERCENT'] = df_static['DAYS_EMPLOYED'].apply(lambda x: 0 if x==365243.00 else x) / df_static['DAYS_BIRTH']\n",
    "domain_fields = ['CREDIT_INCOME_PERCENT','ANNUITY_INCOME_PERCENT','CREDIT_TERM','DAYS_EMPLOYED_PERCENT']"
   ]
  },
  {
   "cell_type": "code",
   "execution_count": null,
   "id": "outstanding-horror",
   "metadata": {},
   "outputs": [],
   "source": []
  },
  {
   "cell_type": "code",
   "execution_count": 19,
   "id": "square-knife",
   "metadata": {},
   "outputs": [
    {
     "name": "stderr",
     "output_type": "stream",
     "text": [
      "/home/mateus/anaconda3/envs/home-credit/lib/python3.8/site-packages/pandas/core/series.py:4506: SettingWithCopyWarning: \n",
      "A value is trying to be set on a copy of a slice from a DataFrame\n",
      "\n",
      "See the caveats in the documentation: https://pandas.pydata.org/pandas-docs/stable/user_guide/indexing.html#returning-a-view-versus-a-copy\n",
      "  return super().replace(\n"
     ]
    }
   ],
   "source": [
    "# Positive days dont make sense\n",
    "df_static.DAYS_EMPLOYED.replace(365243,np.nan, inplace=True)\n",
    "# create dummies\n",
    "df_static = pd.get_dummies(df_static)\n",
    "# group by SK_ID_CURR\n",
    "df_static = df_static.groupby('SK_ID_CURR').median()\n",
    "# drop columns with too many nulls\n",
    "df_static = df_static[df_static.columns[df_static.isnull().mean() < 0.3]]\n",
    "#select features with greatest correlation with target\n",
    "# df_static_grouped = df_static_grouped[df_static_grouped.corr().abs()['TARGET'].sort_values(ascending=False)[:51].index]\n"
   ]
  },
  {
   "cell_type": "code",
   "execution_count": 21,
   "id": "falling-theorem",
   "metadata": {},
   "outputs": [],
   "source": [
    "df_static = df_static[df_static.corr().abs()['TARGET'].sort_values(ascending=False)[:201].index]\n"
   ]
  },
  {
   "cell_type": "code",
   "execution_count": 20,
   "id": "southwest-limitation",
   "metadata": {},
   "outputs": [
    {
     "data": {
      "text/plain": [
       "(49650, 204)"
      ]
     },
     "execution_count": 20,
     "metadata": {},
     "output_type": "execute_result"
    }
   ],
   "source": [
    "df_static.shape"
   ]
  },
  {
   "cell_type": "code",
   "execution_count": 24,
   "id": "union-soundtrack",
   "metadata": {},
   "outputs": [],
   "source": [
    "df_static.to_csv('../treated_data/df_static.csv')"
   ]
  },
  {
   "cell_type": "code",
   "execution_count": 6,
   "id": "retained-niagara",
   "metadata": {},
   "outputs": [
    {
     "ename": "NameError",
     "evalue": "name 'oi' is not defined",
     "output_type": "error",
     "traceback": [
      "\u001b[0;31m---------------------------------------------------------------------------\u001b[0m",
      "\u001b[0;31mNameError\u001b[0m                                 Traceback (most recent call last)",
      "\u001b[0;32m<ipython-input-6-a26cc50efb25>\u001b[0m in \u001b[0;36m<module>\u001b[0;34m\u001b[0m\n\u001b[0;32m----> 1\u001b[0;31m \u001b[0mprint\u001b[0m\u001b[0;34m(\u001b[0m\u001b[0moi\u001b[0m\u001b[0;34m)\u001b[0m\u001b[0;34m\u001b[0m\u001b[0;34m\u001b[0m\u001b[0m\n\u001b[0m",
      "\u001b[0;31mNameError\u001b[0m: name 'oi' is not defined"
     ]
    }
   ],
   "source": [
    "print(oi)"
   ]
  },
  {
   "cell_type": "code",
   "execution_count": null,
   "id": "assumed-decline",
   "metadata": {},
   "outputs": [],
   "source": [
    "# Create static df\n",
    "df_static_test = X_test[type_of_feature['static']]\n",
    "df_static_test.dtypes.unique()"
   ]
  },
  {
   "cell_type": "code",
   "execution_count": null,
   "id": "military-brazilian",
   "metadata": {},
   "outputs": [],
   "source": [
    "type_of_feature['static'].remove(['TARGET'])"
   ]
  },
  {
   "cell_type": "code",
   "execution_count": null,
   "id": "complete-headline",
   "metadata": {},
   "outputs": [],
   "source": [
    "# Positive days dont make sense\n",
    "df_static_test.DAYS_EMPLOYED.replace(365243,np.nan, inplace=True)\n",
    "# create dummies\n",
    "df_static_test = pd.get_dummies(df_static_test)\n",
    "# group by SK_ID_CURR\n",
    "df_static_grouped_test = df_static_test.groupby('SK_ID_CURR').median()\n",
    "\n",
    "\n",
    "\n",
    "# use the same columns as in train df\n",
    "df_static_grouped_test = df_static_grouped_test[df_static_grouped.columns]\n",
    "#fill na with median from train\n",
    "df_static_grouped_test = df_static_grouped_test.fillna(df_static_grouped.median())\n",
    "#fill na with ZERO\n",
    "df_static_grouped_test = df_static_grouped_test.fillna(0)"
   ]
  },
  {
   "cell_type": "code",
   "execution_count": null,
   "id": "therapeutic-scholarship",
   "metadata": {},
   "outputs": [],
   "source": [
    "df_static_grouped_test.to_csv('../treated_data/df_static_test.csv')"
   ]
  }
 ],
 "metadata": {
  "kernelspec": {
   "display_name": "Python 3",
   "language": "python",
   "name": "python3"
  },
  "language_info": {
   "codemirror_mode": {
    "name": "ipython",
    "version": 3
   },
   "file_extension": ".py",
   "mimetype": "text/x-python",
   "name": "python",
   "nbconvert_exporter": "python",
   "pygments_lexer": "ipython3",
   "version": "3.8.8"
  }
 },
 "nbformat": 4,
 "nbformat_minor": 5
}

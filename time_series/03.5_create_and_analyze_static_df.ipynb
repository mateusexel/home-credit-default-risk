{
 "cells": [
  {
   "cell_type": "code",
   "execution_count": 1,
   "id": "arctic-squad",
   "metadata": {},
   "outputs": [],
   "source": [
    "import pandas as pd\n",
    "import numpy as np\n",
    "import json\n",
    "import gc"
   ]
  },
  {
   "cell_type": "code",
   "execution_count": 2,
   "id": "analyzed-gospel",
   "metadata": {
    "scrolled": true
   },
   "outputs": [
    {
     "name": "stderr",
     "output_type": "stream",
     "text": [
      "/home/mateus/anaconda3/envs/home-credit/lib/python3.8/site-packages/numpy/lib/arraysetops.py:580: FutureWarning: elementwise comparison failed; returning scalar instead, but in the future will perform elementwise comparison\n",
      "  mask |= (ar1 == a)\n"
     ]
    }
   ],
   "source": [
    "X = pd.read_csv('../treated_data/df_merged.csv', index_col=0)\n",
    "\n",
    "with open('../treated_data/type_of_feature2.json', 'r') as fp:\n",
    "    type_of_feature = json.load(fp)"
   ]
  },
  {
   "cell_type": "markdown",
   "id": "falling-wednesday",
   "metadata": {},
   "source": [
    "# Static DF train"
   ]
  },
  {
   "cell_type": "code",
   "execution_count": 18,
   "id": "complicated-ceramic",
   "metadata": {},
   "outputs": [
    {
     "data": {
      "text/plain": [
       "array([dtype('int64'), dtype('O'), dtype('float64')], dtype=object)"
      ]
     },
     "execution_count": 18,
     "metadata": {},
     "output_type": "execute_result"
    }
   ],
   "source": [
    "# Create static df\n",
    "df_static = X[type_of_feature['static']]\n",
    "df_static.dtypes.unique()"
   ]
  },
  {
   "cell_type": "markdown",
   "id": "statutory-galaxy",
   "metadata": {},
   "source": [
    "# feature engineering\n",
    "Positive days means feature, makes no sense\n"
   ]
  },
  {
   "cell_type": "code",
   "execution_count": 19,
   "id": "unavailable-compensation",
   "metadata": {},
   "outputs": [
    {
     "name": "stderr",
     "output_type": "stream",
     "text": [
      "<ipython-input-19-390bf92115c8>:2: SettingWithCopyWarning: \n",
      "A value is trying to be set on a copy of a slice from a DataFrame.\n",
      "Try using .loc[row_indexer,col_indexer] = value instead\n",
      "\n",
      "See the caveats in the documentation: https://pandas.pydata.org/pandas-docs/stable/user_guide/indexing.html#returning-a-view-versus-a-copy\n",
      "  df_static['CREDIT_INCOME_PERCENT'] = df_static['AMT_CREDIT'] / df_static['AMT_INCOME_TOTAL']\n",
      "<ipython-input-19-390bf92115c8>:3: SettingWithCopyWarning: \n",
      "A value is trying to be set on a copy of a slice from a DataFrame.\n",
      "Try using .loc[row_indexer,col_indexer] = value instead\n",
      "\n",
      "See the caveats in the documentation: https://pandas.pydata.org/pandas-docs/stable/user_guide/indexing.html#returning-a-view-versus-a-copy\n",
      "  df_static['ANNUITY_INCOME_PERCENT'] = df_static['AMT_ANNUITY_x'] / df_static['AMT_INCOME_TOTAL']\n",
      "<ipython-input-19-390bf92115c8>:4: SettingWithCopyWarning: \n",
      "A value is trying to be set on a copy of a slice from a DataFrame.\n",
      "Try using .loc[row_indexer,col_indexer] = value instead\n",
      "\n",
      "See the caveats in the documentation: https://pandas.pydata.org/pandas-docs/stable/user_guide/indexing.html#returning-a-view-versus-a-copy\n",
      "  df_static['CREDIT_TERM'] = df_static['AMT_ANNUITY_x'] / df_static['AMT_CREDIT']\n",
      "<ipython-input-19-390bf92115c8>:5: SettingWithCopyWarning: \n",
      "A value is trying to be set on a copy of a slice from a DataFrame.\n",
      "Try using .loc[row_indexer,col_indexer] = value instead\n",
      "\n",
      "See the caveats in the documentation: https://pandas.pydata.org/pandas-docs/stable/user_guide/indexing.html#returning-a-view-versus-a-copy\n",
      "  df_static['DAYS_EMPLOYED_PERCENT'] = df_static['DAYS_EMPLOYED'] / df_static['DAYS_BIRTH']\n"
     ]
    }
   ],
   "source": [
    "df_static['DAYS_EMPLOYED'].replace(365243,np.nan, inplace=True)\n",
    "df_static['CREDIT_INCOME_PERCENT'] = df_static['AMT_CREDIT'] / df_static['AMT_INCOME_TOTAL']\n",
    "df_static['ANNUITY_INCOME_PERCENT'] = df_static['AMT_ANNUITY_x'] / df_static['AMT_INCOME_TOTAL']\n",
    "df_static['CREDIT_TERM'] = df_static['AMT_ANNUITY_x'] / df_static['AMT_CREDIT']\n",
    "df_static['DAYS_EMPLOYED_PERCENT'] = df_static['DAYS_EMPLOYED'] / df_static['DAYS_BIRTH']"
   ]
  },
  {
   "cell_type": "markdown",
   "id": "recovered-adoption",
   "metadata": {},
   "source": [
    "The definition that was given to static features is the same thought all the months. that's why drop_duplicates\n",
    "\n",
    "get_dummies droping first to minimize redundant info\n",
    "\n",
    "dropped columns with too much absent information"
   ]
  },
  {
   "cell_type": "code",
   "execution_count": 5,
   "id": "considerable-techno",
   "metadata": {
    "scrolled": false
   },
   "outputs": [
    {
     "name": "stderr",
     "output_type": "stream",
     "text": [
      "<ipython-input-5-77f77f8d95a2>:1: SettingWithCopyWarning: \n",
      "A value is trying to be set on a copy of a slice from a DataFrame\n",
      "\n",
      "See the caveats in the documentation: https://pandas.pydata.org/pandas-docs/stable/user_guide/indexing.html#returning-a-view-versus-a-copy\n",
      "  df_static.drop_duplicates('SK_ID_CURR',inplace=True)\n"
     ]
    }
   ],
   "source": [
    "df_static.drop_duplicates('SK_ID_CURR',inplace=True)\n",
    "df_static = pd.get_dummies(df_static, drop_first=True)\n",
    "df_static = df_static[df_static.columns[df_static.isnull().mean() < 0.3]].set_index('SK_ID_CURR')"
   ]
  },
  {
   "cell_type": "code",
   "execution_count": 6,
   "id": "successful-shape",
   "metadata": {},
   "outputs": [
    {
     "data": {
      "text/plain": [
       "Index(['TARGET', 'CNT_CHILDREN', 'AMT_INCOME_TOTAL', 'AMT_CREDIT',\n",
       "       'AMT_ANNUITY_x', 'AMT_GOODS_PRICE', 'REGION_POPULATION_RELATIVE',\n",
       "       'DAYS_BIRTH', 'DAYS_EMPLOYED', 'DAYS_REGISTRATION',\n",
       "       ...\n",
       "       'FONDKAPREMONT_MODE_reg oper spec account',\n",
       "       'HOUSETYPE_MODE_specific housing', 'HOUSETYPE_MODE_terraced house',\n",
       "       'WALLSMATERIAL_MODE_Mixed', 'WALLSMATERIAL_MODE_Monolithic',\n",
       "       'WALLSMATERIAL_MODE_Others', 'WALLSMATERIAL_MODE_Panel',\n",
       "       'WALLSMATERIAL_MODE_Stone, brick', 'WALLSMATERIAL_MODE_Wooden',\n",
       "       'EMERGENCYSTATE_MODE_Yes'],\n",
       "      dtype='object', length=187)"
      ]
     },
     "execution_count": 6,
     "metadata": {},
     "output_type": "execute_result"
    }
   ],
   "source": [
    "train_columns = df_static.columns"
   ]
  },
  {
   "cell_type": "markdown",
   "id": "working-cricket",
   "metadata": {},
   "source": [
    "# Saving static df"
   ]
  },
  {
   "cell_type": "code",
   "execution_count": 7,
   "id": "union-soundtrack",
   "metadata": {},
   "outputs": [],
   "source": [
    "df_static.to_csv('../treated_data/df_static.csv')"
   ]
  }
 ],
 "metadata": {
  "kernelspec": {
   "display_name": "Python 3",
   "language": "python",
   "name": "python3"
  },
  "language_info": {
   "codemirror_mode": {
    "name": "ipython",
    "version": 3
   },
   "file_extension": ".py",
   "mimetype": "text/x-python",
   "name": "python",
   "nbconvert_exporter": "python",
   "pygments_lexer": "ipython3",
   "version": "3.8.8"
  }
 },
 "nbformat": 4,
 "nbformat_minor": 5
}

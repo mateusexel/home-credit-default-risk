{
 "cells": [
  {
   "cell_type": "code",
   "execution_count": 1,
   "id": "attempted-gravity",
   "metadata": {},
   "outputs": [],
   "source": [
    "import pandas as pd\n",
    "df =  pd.read_csv('./data/installments_payments.csv')"
   ]
  },
  {
   "cell_type": "code",
   "execution_count": 2,
   "id": "planned-nurse",
   "metadata": {
    "scrolled": true
   },
   "outputs": [],
   "source": [
    "df=df.sort_values(['SK_ID_CURR','SK_ID_PREV','NUM_INSTALMENT_VERSION', 'NUM_INSTALMENT_NUMBER'])"
   ]
  },
  {
   "cell_type": "code",
   "execution_count": 3,
   "id": "detected-photograph",
   "metadata": {},
   "outputs": [],
   "source": [
    "df = df.fillna(df.mean())"
   ]
  },
  {
   "cell_type": "code",
   "execution_count": 9,
   "id": "superb-inspiration",
   "metadata": {},
   "outputs": [],
   "source": [
    "df['DAYS_DELAYED'] = df['DAYS_INSTALMENT']-df['DAYS_ENTRY_PAYMENT']\n",
    "df['UNDER_PAID'] = df['AMT_PAYMENT']-df['AMT_INSTALMENT']"
   ]
  },
  {
   "cell_type": "code",
   "execution_count": 5,
   "id": "respective-master",
   "metadata": {},
   "outputs": [],
   "source": [
    "df['MONTHS_BALANCE'] = (df['DAYS_INSTALMENT']/30).round().astype(int)"
   ]
  },
  {
   "cell_type": "code",
   "execution_count": 6,
   "id": "extraordinary-aquarium",
   "metadata": {},
   "outputs": [
    {
     "data": {
      "text/plain": [
       "<AxesSubplot:>"
      ]
     },
     "execution_count": 6,
     "metadata": {},
     "output_type": "execute_result"
    },
    {
     "data": {
      "image/png": "[encoded data removed]",
      "text/plain": [
       "<Figure size 432x288 with 1 Axes>"
      ]
     },
     "metadata": {
      "needs_background": "light"
     },
     "output_type": "display_data"
    }
   ],
   "source": [
    "df['DAYS_INSTALMENT'].hist()\n"
   ]
  },
  {
   "cell_type": "code",
   "execution_count": 7,
   "id": "accessible-resistance",
   "metadata": {},
   "outputs": [],
   "source": [
    "# df['DAYS_BIN'] = pd.cut(df['DAYS_INSTALMENT'],6, labels=[6,5,4,3,2,1])"
   ]
  },
  {
   "cell_type": "code",
   "execution_count": 8,
   "id": "bored-communist",
   "metadata": {},
   "outputs": [],
   "source": [
    "# df['DAYS_DELAYED_FARED_OF'] = df['DAYS_DELAYED']*df['DAYS_BIN'].astype(int)\n",
    "# df['DEFAULT_FARED_OF'] = df['UNDER_PAID']*df['DAYS_BIN'].astype(int)"
   ]
  },
  {
   "cell_type": "code",
   "execution_count": 7,
   "id": "incident-visibility",
   "metadata": {},
   "outputs": [
    {
     "data": {
      "text/html": [
       "<div>\n",
       "<style scoped>\n",
       "    .dataframe tbody tr th:only-of-type {\n",
       "        vertical-align: middle;\n",
       "    }\n",
       "\n",
       "    .dataframe tbody tr th {\n",
       "        vertical-align: top;\n",
       "    }\n",
       "\n",
       "    .dataframe thead th {\n",
       "        text-align: right;\n",
       "    }\n",
       "</style>\n",
       "<table border=\"1\" class=\"dataframe\">\n",
       "  <thead>\n",
       "    <tr style=\"text-align: right;\">\n",
       "      <th></th>\n",
       "      <th>SK_ID_PREV</th>\n",
       "      <th>SK_ID_CURR</th>\n",
       "      <th>NUM_INSTALMENT_VERSION</th>\n",
       "      <th>NUM_INSTALMENT_NUMBER</th>\n",
       "      <th>DAYS_INSTALMENT</th>\n",
       "      <th>DAYS_ENTRY_PAYMENT</th>\n",
       "      <th>AMT_INSTALMENT</th>\n",
       "      <th>AMT_PAYMENT</th>\n",
       "      <th>MONTHS_BALANCE</th>\n",
       "    </tr>\n",
       "  </thead>\n",
       "  <tbody>\n",
       "    <tr>\n",
       "      <th>1478621</th>\n",
       "      <td>1369693</td>\n",
       "      <td>100001</td>\n",
       "      <td>1.0</td>\n",
       "      <td>1</td>\n",
       "      <td>-1709.0</td>\n",
       "      <td>-1715.0</td>\n",
       "      <td>3951.000</td>\n",
       "      <td>3951.000</td>\n",
       "      <td>-57</td>\n",
       "    </tr>\n",
       "    <tr>\n",
       "      <th>2568722</th>\n",
       "      <td>1369693</td>\n",
       "      <td>100001</td>\n",
       "      <td>1.0</td>\n",
       "      <td>2</td>\n",
       "      <td>-1679.0</td>\n",
       "      <td>-1715.0</td>\n",
       "      <td>3951.000</td>\n",
       "      <td>3951.000</td>\n",
       "      <td>-56</td>\n",
       "    </tr>\n",
       "    <tr>\n",
       "      <th>3458712</th>\n",
       "      <td>1369693</td>\n",
       "      <td>100001</td>\n",
       "      <td>1.0</td>\n",
       "      <td>3</td>\n",
       "      <td>-1649.0</td>\n",
       "      <td>-1660.0</td>\n",
       "      <td>3951.000</td>\n",
       "      <td>3951.000</td>\n",
       "      <td>-55</td>\n",
       "    </tr>\n",
       "    <tr>\n",
       "      <th>2624024</th>\n",
       "      <td>1369693</td>\n",
       "      <td>100001</td>\n",
       "      <td>2.0</td>\n",
       "      <td>4</td>\n",
       "      <td>-1619.0</td>\n",
       "      <td>-1628.0</td>\n",
       "      <td>17397.900</td>\n",
       "      <td>17397.900</td>\n",
       "      <td>-54</td>\n",
       "    </tr>\n",
       "    <tr>\n",
       "      <th>1761012</th>\n",
       "      <td>1851984</td>\n",
       "      <td>100001</td>\n",
       "      <td>1.0</td>\n",
       "      <td>2</td>\n",
       "      <td>-2916.0</td>\n",
       "      <td>-2916.0</td>\n",
       "      <td>3982.050</td>\n",
       "      <td>3982.050</td>\n",
       "      <td>-97</td>\n",
       "    </tr>\n",
       "    <tr>\n",
       "      <th>...</th>\n",
       "      <td>...</td>\n",
       "      <td>...</td>\n",
       "      <td>...</td>\n",
       "      <td>...</td>\n",
       "      <td>...</td>\n",
       "      <td>...</td>\n",
       "      <td>...</td>\n",
       "      <td>...</td>\n",
       "      <td>...</td>\n",
       "    </tr>\n",
       "    <tr>\n",
       "      <th>12816277</th>\n",
       "      <td>2631384</td>\n",
       "      <td>456255</td>\n",
       "      <td>3.0</td>\n",
       "      <td>23</td>\n",
       "      <td>-96.0</td>\n",
       "      <td>-98.0</td>\n",
       "      <td>27489.690</td>\n",
       "      <td>27489.690</td>\n",
       "      <td>-3</td>\n",
       "    </tr>\n",
       "    <tr>\n",
       "      <th>12164846</th>\n",
       "      <td>2631384</td>\n",
       "      <td>456255</td>\n",
       "      <td>4.0</td>\n",
       "      <td>24</td>\n",
       "      <td>-66.0</td>\n",
       "      <td>-76.0</td>\n",
       "      <td>308277.315</td>\n",
       "      <td>308277.315</td>\n",
       "      <td>-2</td>\n",
       "    </tr>\n",
       "    <tr>\n",
       "      <th>12300604</th>\n",
       "      <td>2729207</td>\n",
       "      <td>456255</td>\n",
       "      <td>1.0</td>\n",
       "      <td>1</td>\n",
       "      <td>-469.0</td>\n",
       "      <td>-482.0</td>\n",
       "      <td>11514.555</td>\n",
       "      <td>11514.555</td>\n",
       "      <td>-16</td>\n",
       "    </tr>\n",
       "    <tr>\n",
       "      <th>12567314</th>\n",
       "      <td>2729207</td>\n",
       "      <td>456255</td>\n",
       "      <td>1.0</td>\n",
       "      <td>2</td>\n",
       "      <td>-439.0</td>\n",
       "      <td>-455.0</td>\n",
       "      <td>11514.555</td>\n",
       "      <td>11514.555</td>\n",
       "      <td>-15</td>\n",
       "    </tr>\n",
       "    <tr>\n",
       "      <th>12075210</th>\n",
       "      <td>2729207</td>\n",
       "      <td>456255</td>\n",
       "      <td>2.0</td>\n",
       "      <td>3</td>\n",
       "      <td>-409.0</td>\n",
       "      <td>-435.0</td>\n",
       "      <td>42754.230</td>\n",
       "      <td>42754.230</td>\n",
       "      <td>-14</td>\n",
       "    </tr>\n",
       "  </tbody>\n",
       "</table>\n",
       "<p>13605401 rows × 9 columns</p>\n",
       "</div>"
      ],
      "text/plain": [
       "          SK_ID_PREV  SK_ID_CURR  NUM_INSTALMENT_VERSION  \\\n",
       "1478621      1369693      100001                     1.0   \n",
       "2568722      1369693      100001                     1.0   \n",
       "3458712      1369693      100001                     1.0   \n",
       "2624024      1369693      100001                     2.0   \n",
       "1761012      1851984      100001                     1.0   \n",
       "...              ...         ...                     ...   \n",
       "12816277     2631384      456255                     3.0   \n",
       "12164846     2631384      456255                     4.0   \n",
       "12300604     2729207      456255                     1.0   \n",
       "12567314     2729207      456255                     1.0   \n",
       "12075210     2729207      456255                     2.0   \n",
       "\n",
       "          NUM_INSTALMENT_NUMBER  DAYS_INSTALMENT  DAYS_ENTRY_PAYMENT  \\\n",
       "1478621                       1          -1709.0             -1715.0   \n",
       "2568722                       2          -1679.0             -1715.0   \n",
       "3458712                       3          -1649.0             -1660.0   \n",
       "2624024                       4          -1619.0             -1628.0   \n",
       "1761012                       2          -2916.0             -2916.0   \n",
       "...                         ...              ...                 ...   \n",
       "12816277                     23            -96.0               -98.0   \n",
       "12164846                     24            -66.0               -76.0   \n",
       "12300604                      1           -469.0              -482.0   \n",
       "12567314                      2           -439.0              -455.0   \n",
       "12075210                      3           -409.0              -435.0   \n",
       "\n",
       "          AMT_INSTALMENT  AMT_PAYMENT  MONTHS_BALANCE  \n",
       "1478621         3951.000     3951.000             -57  \n",
       "2568722         3951.000     3951.000             -56  \n",
       "3458712         3951.000     3951.000             -55  \n",
       "2624024        17397.900    17397.900             -54  \n",
       "1761012         3982.050     3982.050             -97  \n",
       "...                  ...          ...             ...  \n",
       "12816277       27489.690    27489.690              -3  \n",
       "12164846      308277.315   308277.315              -2  \n",
       "12300604       11514.555    11514.555             -16  \n",
       "12567314       11514.555    11514.555             -15  \n",
       "12075210       42754.230    42754.230             -14  \n",
       "\n",
       "[13605401 rows x 9 columns]"
      ]
     },
     "execution_count": 7,
     "metadata": {},
     "output_type": "execute_result"
    }
   ],
   "source": [
    "df"
   ]
  },
  {
   "cell_type": "code",
   "execution_count": 10,
   "id": "welcome-kennedy",
   "metadata": {},
   "outputs": [
    {
     "data": {
      "text/plain": [
       "Index(['SK_ID_PREV', 'SK_ID_CURR', 'NUM_INSTALMENT_VERSION',\n",
       "       'NUM_INSTALMENT_NUMBER', 'DAYS_INSTALMENT', 'DAYS_ENTRY_PAYMENT',\n",
       "       'AMT_INSTALMENT', 'AMT_PAYMENT', 'MONTHS_BALANCE', 'DAYS_DELAYED',\n",
       "       'UNDER_PAID'],\n",
       "      dtype='object')"
      ]
     },
     "execution_count": 10,
     "metadata": {},
     "output_type": "execute_result"
    }
   ],
   "source": [
    "df.columns"
   ]
  },
  {
   "cell_type": "code",
   "execution_count": 11,
   "id": "responsible-talent",
   "metadata": {},
   "outputs": [],
   "source": [
    "df_summarized = df[['SK_ID_PREV','SK_ID_CURR', 'DAYS_DELAYED', 'DAYS_DELAYED', 'MONTHS_BALANCE']]"
   ]
  },
  {
   "cell_type": "code",
   "execution_count": 10,
   "id": "described-officer",
   "metadata": {},
   "outputs": [],
   "source": [
    "# df_summarized=df_summarized.groupby(['SK_ID_CURR']).agg({'DAYS_DELAYED_FARED_OF':'sum', 'DEFAULT_FARED_OF':'sum'})"
   ]
  },
  {
   "cell_type": "code",
   "execution_count": 12,
   "id": "bored-landing",
   "metadata": {},
   "outputs": [],
   "source": [
    "df_summarized.to_csv('./treated_data/installments_payments.csv')"
   ]
  }
 ],
 "metadata": {
  "kernelspec": {
   "display_name": "Python 3",
   "language": "python",
   "name": "python3"
  },
  "language_info": {
   "codemirror_mode": {
    "name": "ipython",
    "version": 3
   },
   "file_extension": ".py",
   "mimetype": "text/x-python",
   "name": "python",
   "nbconvert_exporter": "python",
   "pygments_lexer": "ipython3",
   "version": "3.8.8"
  }
 },
 "nbformat": 4,
 "nbformat_minor": 5
}
